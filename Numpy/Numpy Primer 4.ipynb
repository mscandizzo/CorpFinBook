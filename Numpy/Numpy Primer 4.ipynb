{
 "cells": [
  {
   "cell_type": "markdown",
   "metadata": {},
   "source": [
    "### Numpy Primer part 4\n",
    "----------------------"
   ]
  },
  {
   "cell_type": "code",
   "execution_count": 1,
   "metadata": {},
   "outputs": [],
   "source": [
    "import numpy as np\n",
    "import matplotlib.pyplot as plt\n",
    "import seaborn as sns; sns.set()\n",
    "%matplotlib inline\n",
    "import random"
   ]
  },
  {
   "cell_type": "markdown",
   "metadata": {},
   "source": [
    "### Matrix operations"
   ]
  },
  {
   "cell_type": "code",
   "execution_count": 2,
   "metadata": {},
   "outputs": [],
   "source": [
    "x1 = np.random.randn(5,5)\n",
    "mat = x1.T.dot(x1) # multipliying a matrix by its transpose"
   ]
  },
  {
   "cell_type": "code",
   "execution_count": 3,
   "metadata": {},
   "outputs": [
    {
     "data": {
      "text/plain": [
       "array([[ 13.81121665,  -1.0026904 , -24.0421017 ,   9.25498594,\n",
       "         -8.90517223],\n",
       "       [ -1.0026904 ,   0.12933752,   1.75722356,  -0.58793008,\n",
       "          0.65466542],\n",
       "       [-24.0421017 ,   1.75722356,  42.58521313, -16.69431075,\n",
       "         16.05840195],\n",
       "       [  9.25498594,  -0.58793008, -16.69431075,   7.99631754,\n",
       "         -6.24737899],\n",
       "       [ -8.90517223,   0.65466542,  16.05840195,  -6.24737899,\n",
       "          6.34854593]])"
      ]
     },
     "execution_count": 3,
     "metadata": {},
     "output_type": "execute_result"
    }
   ],
   "source": [
    "from numpy.linalg import inv, qr\n",
    "\n",
    "inv(mat) # it calculates the inverse of an specific matrix"
   ]
  },
  {
   "cell_type": "code",
   "execution_count": 4,
   "metadata": {},
   "outputs": [
    {
     "data": {
      "text/plain": [
       "array([[ 1.00000000e+00,  3.12115264e-16,  1.93044132e-14,\n",
       "         7.22190861e-15, -6.21515140e-15],\n",
       "       [ 2.18593723e-15,  1.00000000e+00, -6.44395232e-15,\n",
       "        -4.75315861e-15,  4.79435590e-15],\n",
       "       [-2.20546156e-14,  1.38631426e-15,  1.00000000e+00,\n",
       "         3.69057403e-15,  4.49581750e-15],\n",
       "       [-2.50356305e-15,  2.05068204e-16,  2.48047245e-15,\n",
       "         1.00000000e+00, -8.90341771e-16],\n",
       "       [ 1.38098441e-14, -1.49578942e-15, -1.91666806e-14,\n",
       "         1.56700746e-15,  1.00000000e+00]])"
      ]
     },
     "execution_count": 4,
     "metadata": {},
     "output_type": "execute_result"
    }
   ],
   "source": [
    "mat.dot(inv(mat))"
   ]
  },
  {
   "cell_type": "code",
   "execution_count": 5,
   "metadata": {},
   "outputs": [
    {
     "data": {
      "text/plain": [
       "array([[-11.88329961,   5.45507315, -11.30252833,  -2.30065139,\n",
       "          9.15675482],\n",
       "       [  0.        , -20.06737531,   1.63742798,   1.44739799,\n",
       "         -0.64296385],\n",
       "       [  0.        ,   0.        ,  -1.18996615,  -0.24502606,\n",
       "          2.89584932],\n",
       "       [  0.        ,   0.        ,   0.        ,  -0.66400111,\n",
       "         -0.70153347],\n",
       "       [  0.        ,   0.        ,   0.        ,   0.        ,\n",
       "          0.04897393]])"
      ]
     },
     "execution_count": 5,
     "metadata": {},
     "output_type": "execute_result"
    }
   ],
   "source": [
    "q,r = qr(mat) # it factorizes the matrix\n",
    "r"
   ]
  },
  {
   "cell_type": "markdown",
   "metadata": {},
   "source": [
    "### List of most common numpy linear algebra functions\n",
    "[linear algebra](http://docs.scipy.org/doc/numpy-1.10.0/reference/routines.linalg.html)"
   ]
  },
  {
   "cell_type": "markdown",
   "metadata": {},
   "source": [
    "### List of most common random generation numbers functions\n",
    "[Random generation functions](http://docs.scipy.org/doc/numpy-1.10.0/reference/routines.random.html)"
   ]
  },
  {
   "cell_type": "markdown",
   "metadata": {},
   "source": [
    "### Use of If with Numpy ( Comparable to Excel If )"
   ]
  },
  {
   "cell_type": "code",
   "execution_count": 6,
   "metadata": {},
   "outputs": [
    {
     "data": {
      "text/plain": [
       "array([[ 0.69227197, -0.32550837, -0.20500805,  0.13103086],\n",
       "       [ 1.40494573, -1.23653453,  1.18952148, -0.67596642],\n",
       "       [ 3.72901668, -1.20565041,  0.77469263, -1.28979373],\n",
       "       [ 0.23445884,  0.11478044, -0.04877816, -0.67188172]])"
      ]
     },
     "execution_count": 6,
     "metadata": {},
     "output_type": "execute_result"
    }
   ],
   "source": [
    "arr17 = np.random.randn(4,4)\n",
    "arr17"
   ]
  },
  {
   "cell_type": "code",
   "execution_count": 7,
   "metadata": {},
   "outputs": [
    {
     "data": {
      "text/plain": [
       "array([[ 2, -2, -2,  2],\n",
       "       [ 2, -2,  2, -2],\n",
       "       [ 2, -2,  2, -2],\n",
       "       [ 2,  2, -2, -2]])"
      ]
     },
     "execution_count": 7,
     "metadata": {},
     "output_type": "execute_result"
    }
   ],
   "source": [
    "np.where(arr17 > 0, 2, -2) # typical if where if condition is met do x if not do y"
   ]
  },
  {
   "cell_type": "markdown",
   "metadata": {},
   "source": [
    "### Solving Systems of Linear Equations"
   ]
  },
  {
   "cell_type": "markdown",
   "metadata": {},
   "source": [
    "We are going to solve equations of type:\n",
    "\n",
    "$$\n",
    "a \\cdot x = b\n",
    "$$\n",
    "\n",
    "Consider the system of linear equations which fits the above type:\n",
    "\n",
    "\\begin{eqnarray}\n",
    "a_1^1 \\cdot x_1 + a_1^2 \\cdot x_1 = b_1 \\\\\n",
    "a_2^1 \\cdot x_2 + a_2^2 \\cdot x_2 = b_2\n",
    "\\end{eqnarray}"
   ]
  },
  {
   "cell_type": "markdown",
   "metadata": {},
   "source": [
    "First, matrix $a$."
   ]
  },
  {
   "cell_type": "code",
   "execution_count": 8,
   "metadata": {},
   "outputs": [],
   "source": [
    "a = np.array([[3, 1], [1, 2]])"
   ]
  },
  {
   "cell_type": "markdown",
   "metadata": {},
   "source": [
    "Second, vector $b$."
   ]
  },
  {
   "cell_type": "code",
   "execution_count": 9,
   "metadata": {},
   "outputs": [],
   "source": [
    "b = np.array([9, 8])"
   ]
  },
  {
   "cell_type": "markdown",
   "metadata": {},
   "source": [
    "Third, the solution."
   ]
  },
  {
   "cell_type": "code",
   "execution_count": 10,
   "metadata": {},
   "outputs": [
    {
     "data": {
      "text/plain": [
       "array([2., 3.])"
      ]
     },
     "execution_count": 10,
     "metadata": {},
     "output_type": "execute_result"
    }
   ],
   "source": [
    "x = np.linalg.solve(a, b)\n",
    "x"
   ]
  },
  {
   "cell_type": "code",
   "execution_count": 11,
   "metadata": {},
   "outputs": [
    {
     "name": "stdout",
     "output_type": "stream",
     "text": [
      "[9. 8.]\n",
      "Results matches vector b\n"
     ]
    }
   ],
   "source": [
    "print (np.dot(a, x))  # checking\n",
    "print ('Results matches vector b')"
   ]
  },
  {
   "cell_type": "markdown",
   "metadata": {},
   "source": [
    "### Random Numbers\n",
    "\n",
    "NumPy has powerful pseudo-random number generating functions available. Most of them get covered later. Very often, we use **standard-normally distributed pseudo-random numbers**."
   ]
  },
  {
   "cell_type": "code",
   "execution_count": 12,
   "metadata": {},
   "outputs": [
    {
     "data": {
      "text/plain": [
       "-0.4197399281063725"
      ]
     },
     "execution_count": 12,
     "metadata": {},
     "output_type": "execute_result"
    }
   ],
   "source": [
    "np.random.standard_normal()  # single number"
   ]
  },
  {
   "cell_type": "code",
   "execution_count": 13,
   "metadata": {},
   "outputs": [
    {
     "data": {
      "text/plain": [
       "array([-0.40374985,  0.08475804, -0.53360491,  0.34517842,  0.70249989])"
      ]
     },
     "execution_count": 13,
     "metadata": {},
     "output_type": "execute_result"
    }
   ],
   "source": [
    "np.random.standard_normal(5)  # 1d array"
   ]
  },
  {
   "cell_type": "code",
   "execution_count": 14,
   "metadata": {},
   "outputs": [
    {
     "data": {
      "text/plain": [
       "array([[-0.13257874, -0.43821735,  0.36587122,  0.01703711, -0.59774586,\n",
       "         0.5314858 ],\n",
       "       [-0.6614018 , -0.36335699, -0.30808739,  0.36912834,  0.60373163,\n",
       "        -0.67955325]])"
      ]
     },
     "execution_count": 14,
     "metadata": {},
     "output_type": "execute_result"
    }
   ],
   "source": [
    "a = np.random.standard_normal((2, 6)) * 0.5  # 2d array\n",
    "a"
   ]
  },
  {
   "cell_type": "code",
   "execution_count": 15,
   "metadata": {},
   "outputs": [
    {
     "data": {
      "text/plain": [
       "array([[-0.13, -0.44,  0.37,  0.02, -0.6 ,  0.53],\n",
       "       [-0.66, -0.36, -0.31,  0.37,  0.6 , -0.68]])"
      ]
     },
     "execution_count": 15,
     "metadata": {},
     "output_type": "execute_result"
    }
   ],
   "source": [
    "np.round(a, 2)"
   ]
  }
 ],
 "metadata": {
  "celltoolbar": "Slideshow",
  "kernelspec": {
   "display_name": "Python 3",
   "language": "python",
   "name": "python3"
  },
  "language_info": {
   "codemirror_mode": {
    "name": "ipython",
    "version": 3
   },
   "file_extension": ".py",
   "mimetype": "text/x-python",
   "name": "python",
   "nbconvert_exporter": "python",
   "pygments_lexer": "ipython3",
   "version": "3.8.8"
  }
 },
 "nbformat": 4,
 "nbformat_minor": 4
}
