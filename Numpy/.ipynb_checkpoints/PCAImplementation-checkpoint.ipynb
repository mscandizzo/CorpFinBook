{
 "cells": [
  {
   "cell_type": "markdown",
   "metadata": {
    "colab_type": "text",
    "id": "13M2_Ev46xb0"
   },
   "source": [
    "# *Dimensionality Reduction*\n",
    "\n",
    "*A powerful method for dimensionality reduction is using Principal Components Analysis (PCA).*\n",
    "\n",
    "*Lets use the UCI Wine Dataset for this Sprint  Challenge: It is high dimensional, numeric, and clean - an excellent opportunity for PCA.*\n",
    "\n",
    "*[UCI Wine Data Set](http://archive.ics.uci.edu/ml/datasets/Wine)*\n",
    "\n",
    "*[UCI Wine Data Set Data](http://archive.ics.uci.edu/ml/machine-learning-databases/wine/)*"
   ]
  },
  {
   "cell_type": "code",
   "execution_count": 1,
   "metadata": {
    "colab": {
     "autoexec": {
      "startup": false,
      "wait_interval": 0
     },
     "base_uri": "https://localhost:8080/",
     "height": 204
    },
    "colab_type": "code",
    "executionInfo": {
     "elapsed": 1603,
     "status": "ok",
     "timestamp": 1525793816511,
     "user": {
      "displayName": "ML Course Homework Submissions",
      "photoUrl": "https://lh3.googleusercontent.com/a/default-user=s128",
      "userId": "101393720337252915093"
     },
     "user_tz": 300
    },
    "id": "yzxtjQAJ6uDb",
    "outputId": "48cf4826-8c1d-4c7c-fe1e-78f9868270d1"
   },
   "outputs": [],
   "source": [
    "# Download the data to your colab instance!\n",
    "#!wget http://archive.ics.uci.edu/ml/machine-learning-databases/wine/wine.data -O wine.data"
   ]
  },
  {
   "cell_type": "code",
   "execution_count": 2,
   "metadata": {
    "colab": {
     "autoexec": {
      "startup": false,
      "wait_interval": 0
     }
    },
    "colab_type": "code",
    "id": "cRiO_w0Wh7BX"
   },
   "outputs": [],
   "source": [
    "import pandas as pd\n",
    "import numpy as np\n",
    "import matplotlib.pyplot as plt\n",
    "\n",
    "data = pd.read_csv('wine.data')\n",
    "\n",
    "# Column names from:\n",
    "# http://archive.ics.uci.edu/ml/machine-learning-databases/wine/wine.names\n",
    "columns = ['vinyard','alcohol','malic acid','ash','ash alcalinity','magnesium',\n",
    "           'Total phenols','Flavanoids','Nonflavanoid phenols','Proanthocyanins',\n",
    "           'Color intensity','Hue','dilute OD280/OD315', 'Proline']\n",
    "\n",
    "data.columns = columns\n",
    "\n",
    "vinyard = data['vinyard']\n",
    "data = data.drop(['vinyard'],axis=1)\n",
    "colors = np.array(['red','green','blue'])[np.array([vinyard])-1]\n"
   ]
  },
  {
   "cell_type": "code",
   "execution_count": 3,
   "metadata": {},
   "outputs": [
    {
     "data": {
      "text/html": [
       "<div>\n",
       "<style scoped>\n",
       "    .dataframe tbody tr th:only-of-type {\n",
       "        vertical-align: middle;\n",
       "    }\n",
       "\n",
       "    .dataframe tbody tr th {\n",
       "        vertical-align: top;\n",
       "    }\n",
       "\n",
       "    .dataframe thead th {\n",
       "        text-align: right;\n",
       "    }\n",
       "</style>\n",
       "<table border=\"1\" class=\"dataframe\">\n",
       "  <thead>\n",
       "    <tr style=\"text-align: right;\">\n",
       "      <th></th>\n",
       "      <th>alcohol</th>\n",
       "      <th>malic acid</th>\n",
       "      <th>ash</th>\n",
       "      <th>ash alcalinity</th>\n",
       "      <th>magnesium</th>\n",
       "      <th>Total phenols</th>\n",
       "      <th>Flavanoids</th>\n",
       "      <th>Nonflavanoid phenols</th>\n",
       "      <th>Proanthocyanins</th>\n",
       "      <th>Color intensity</th>\n",
       "      <th>Hue</th>\n",
       "      <th>dilute OD280/OD315</th>\n",
       "      <th>Proline</th>\n",
       "    </tr>\n",
       "  </thead>\n",
       "  <tbody>\n",
       "    <tr>\n",
       "      <th>0</th>\n",
       "      <td>13.20</td>\n",
       "      <td>1.78</td>\n",
       "      <td>2.14</td>\n",
       "      <td>11.2</td>\n",
       "      <td>100</td>\n",
       "      <td>2.65</td>\n",
       "      <td>2.76</td>\n",
       "      <td>0.26</td>\n",
       "      <td>1.28</td>\n",
       "      <td>4.38</td>\n",
       "      <td>1.05</td>\n",
       "      <td>3.40</td>\n",
       "      <td>1050</td>\n",
       "    </tr>\n",
       "    <tr>\n",
       "      <th>1</th>\n",
       "      <td>13.16</td>\n",
       "      <td>2.36</td>\n",
       "      <td>2.67</td>\n",
       "      <td>18.6</td>\n",
       "      <td>101</td>\n",
       "      <td>2.80</td>\n",
       "      <td>3.24</td>\n",
       "      <td>0.30</td>\n",
       "      <td>2.81</td>\n",
       "      <td>5.68</td>\n",
       "      <td>1.03</td>\n",
       "      <td>3.17</td>\n",
       "      <td>1185</td>\n",
       "    </tr>\n",
       "    <tr>\n",
       "      <th>2</th>\n",
       "      <td>14.37</td>\n",
       "      <td>1.95</td>\n",
       "      <td>2.50</td>\n",
       "      <td>16.8</td>\n",
       "      <td>113</td>\n",
       "      <td>3.85</td>\n",
       "      <td>3.49</td>\n",
       "      <td>0.24</td>\n",
       "      <td>2.18</td>\n",
       "      <td>7.80</td>\n",
       "      <td>0.86</td>\n",
       "      <td>3.45</td>\n",
       "      <td>1480</td>\n",
       "    </tr>\n",
       "    <tr>\n",
       "      <th>3</th>\n",
       "      <td>13.24</td>\n",
       "      <td>2.59</td>\n",
       "      <td>2.87</td>\n",
       "      <td>21.0</td>\n",
       "      <td>118</td>\n",
       "      <td>2.80</td>\n",
       "      <td>2.69</td>\n",
       "      <td>0.39</td>\n",
       "      <td>1.82</td>\n",
       "      <td>4.32</td>\n",
       "      <td>1.04</td>\n",
       "      <td>2.93</td>\n",
       "      <td>735</td>\n",
       "    </tr>\n",
       "    <tr>\n",
       "      <th>4</th>\n",
       "      <td>14.20</td>\n",
       "      <td>1.76</td>\n",
       "      <td>2.45</td>\n",
       "      <td>15.2</td>\n",
       "      <td>112</td>\n",
       "      <td>3.27</td>\n",
       "      <td>3.39</td>\n",
       "      <td>0.34</td>\n",
       "      <td>1.97</td>\n",
       "      <td>6.75</td>\n",
       "      <td>1.05</td>\n",
       "      <td>2.85</td>\n",
       "      <td>1450</td>\n",
       "    </tr>\n",
       "  </tbody>\n",
       "</table>\n",
       "</div>"
      ],
      "text/plain": [
       "   alcohol  malic acid   ash  ash alcalinity  magnesium  Total phenols  \\\n",
       "0    13.20        1.78  2.14            11.2        100           2.65   \n",
       "1    13.16        2.36  2.67            18.6        101           2.80   \n",
       "2    14.37        1.95  2.50            16.8        113           3.85   \n",
       "3    13.24        2.59  2.87            21.0        118           2.80   \n",
       "4    14.20        1.76  2.45            15.2        112           3.27   \n",
       "\n",
       "   Flavanoids  Nonflavanoid phenols  Proanthocyanins  Color intensity   Hue  \\\n",
       "0        2.76                  0.26             1.28             4.38  1.05   \n",
       "1        3.24                  0.30             2.81             5.68  1.03   \n",
       "2        3.49                  0.24             2.18             7.80  0.86   \n",
       "3        2.69                  0.39             1.82             4.32  1.04   \n",
       "4        3.39                  0.34             1.97             6.75  1.05   \n",
       "\n",
       "   dilute OD280/OD315  Proline  \n",
       "0                3.40     1050  \n",
       "1                3.17     1185  \n",
       "2                3.45     1480  \n",
       "3                2.93      735  \n",
       "4                2.85     1450  "
      ]
     },
     "execution_count": 3,
     "metadata": {},
     "output_type": "execute_result"
    }
   ],
   "source": [
    "data.head()"
   ]
  },
  {
   "cell_type": "code",
   "execution_count": 4,
   "metadata": {},
   "outputs": [
    {
     "name": "stdout",
     "output_type": "stream",
     "text": [
      "<class 'pandas.core.frame.DataFrame'>\n",
      "RangeIndex: 177 entries, 0 to 176\n",
      "Data columns (total 13 columns):\n",
      " #   Column                Non-Null Count  Dtype  \n",
      "---  ------                --------------  -----  \n",
      " 0   alcohol               177 non-null    float64\n",
      " 1   malic acid            177 non-null    float64\n",
      " 2   ash                   177 non-null    float64\n",
      " 3   ash alcalinity        177 non-null    float64\n",
      " 4   magnesium             177 non-null    int64  \n",
      " 5   Total phenols         177 non-null    float64\n",
      " 6   Flavanoids            177 non-null    float64\n",
      " 7   Nonflavanoid phenols  177 non-null    float64\n",
      " 8   Proanthocyanins       177 non-null    float64\n",
      " 9   Color intensity       177 non-null    float64\n",
      " 10  Hue                   177 non-null    float64\n",
      " 11  dilute OD280/OD315    177 non-null    float64\n",
      " 12  Proline               177 non-null    int64  \n",
      "dtypes: float64(11), int64(2)\n",
      "memory usage: 18.1 KB\n"
     ]
    }
   ],
   "source": [
    "data.info()"
   ]
  },
  {
   "cell_type": "markdown",
   "metadata": {
    "colab_type": "text",
    "id": "7BBGVW4WhMmM"
   },
   "source": [
    "# *1. Identify the use case for normalization*\n",
    "\n",
    "*Principal Components Analysis will give us a view into our data that maximizes its variance, in that context, which dimensions are the largest ones?"
   ]
  },
  {
   "cell_type": "code",
   "execution_count": 5,
   "metadata": {
    "colab": {
     "autoexec": {
      "startup": false,
      "wait_interval": 0
     },
     "base_uri": "https://localhost:8080/",
     "height": 255
    },
    "colab_type": "code",
    "executionInfo": {
     "elapsed": 417,
     "status": "ok",
     "timestamp": 1525793818530,
     "user": {
      "displayName": "ML Course Homework Submissions",
      "photoUrl": "https://lh3.googleusercontent.com/a/default-user=s128",
      "userId": "101393720337252915093"
     },
     "user_tz": 300
    },
    "id": "IuffaCLSiHok",
    "outputId": "162bb057-943f-4856-92a7-4984bc265042"
   },
   "outputs": [
    {
     "name": "stdout",
     "output_type": "stream",
     "text": [
      "alcohol                   0.808808\n",
      "malic acid                1.119314\n",
      "ash                       0.275080\n",
      "ash alcalinity            3.336071\n",
      "magnesium                14.174018\n",
      "Total phenols             0.626465\n",
      "Flavanoids                0.998658\n",
      "Nonflavanoid phenols      0.124653\n",
      "Proanthocyanins           0.571545\n",
      "Color intensity           2.324446\n",
      "Hue                       0.229135\n",
      "dilute OD280/OD315        0.705103\n",
      "Proline                 314.884046\n",
      "dtype: float64\n"
     ]
    }
   ],
   "source": [
    "print(data.std())"
   ]
  },
  {
   "cell_type": "markdown",
   "metadata": {
    "colab_type": "text",
    "id": "V_lTEpZIkNfH"
   },
   "source": [
    "## Normalization Discussion\n",
    "\n",
    "PCA chooses bases vectors that maximize variance, so the variables in the data with the greatest variance (and thus greatest standard deviation) will contribute the most to the first few principle components. For this data set, `Proline`, `magnesium`, and `ash alcalinity` have the first, second, and third greatest standard deviations, respectively. `Proline` and `magnesium` each have a variance roughly an order of magnitude larger than the next largest variance.  \n",
    "\n",
    "When we inspect the standard deviation of each variable of a raw data set, it is important to remember that these SDs are given *in the units of the variable*. For a more in-depth discussion, [go here.](https://drive.google.com/file/d/1uW_4m6SKW3HMvMRli-fDY2X8aIgqm0rG/view?usp=sharing)\n",
    "\n",
    "\n"
   ]
  },
  {
   "cell_type": "markdown",
   "metadata": {
    "colab_type": "text",
    "id": "sq6eLsBqjCF9"
   },
   "source": [
    "# *2. Graph the top two dimensions of a high dimensional dataset using PCA*\n",
    "\n",
    "*Use PCA with 2 components to plot the top two dimensions of this dataset. Apply the color vector above so that the origin of each sample is visible.*"
   ]
  },
  {
   "cell_type": "code",
   "execution_count": 6,
   "metadata": {
    "colab": {
     "autoexec": {
      "startup": false,
      "wait_interval": 0
     },
     "base_uri": "https://localhost:8080/",
     "height": 376
    },
    "colab_type": "code",
    "executionInfo": {
     "elapsed": 999,
     "status": "ok",
     "timestamp": 1525793821099,
     "user": {
      "displayName": "ML Course Homework Submissions",
      "photoUrl": "https://lh3.googleusercontent.com/a/default-user=s128",
      "userId": "101393720337252915093"
     },
     "user_tz": 300
    },
    "id": "s1hI2kSmrT6e",
    "outputId": "8b8e6a2e-31db-41a9-b9c0-b5d947aae0d5"
   },
   "outputs": [
    {
     "data": {
      "image/png": "[encoded data removed]",
      "text/plain": [
       "<Figure size 720x576 with 1 Axes>"
      ]
     },
     "metadata": {
      "needs_background": "light"
     },
     "output_type": "display_data"
    }
   ],
   "source": [
    "from sklearn.decomposition import PCA\n",
    "\n",
    "Model = PCA(n_components=2)\n",
    "\n",
    "Model.fit(data)\n",
    "data_reduced = Model.transform(data)\n",
    "\n",
    "x, y = data_reduced.T\n",
    "\n",
    "plt.figure(figsize=(10,8))\n",
    "plt.scatter(x, y, s=15, c=colors[0])\n",
    "plt.title('PCA of Raw UCI Wine',fontsize = 16)\n",
    "plt.xlabel('First Principal Component',fontsize = 12)\n",
    "plt.ylabel('Second Principal Component',fontsize = 12)\n",
    "plt.show();"
   ]
  },
  {
   "cell_type": "code",
   "execution_count": 7,
   "metadata": {},
   "outputs": [
    {
     "data": {
      "text/plain": [
       "(2, 177)"
      ]
     },
     "execution_count": 7,
     "metadata": {},
     "output_type": "execute_result"
    }
   ],
   "source": [
    "data_reduced.T.shape"
   ]
  },
  {
   "cell_type": "markdown",
   "metadata": {
    "colab_type": "text",
    "id": "CIcGSzd9j_jo"
   },
   "source": [
    "# *3. Graph the top two dimensions of a [standardized] high dimensional dataset using PCA.*\n",
    "\n",
    "*Use a `normalization` from `scikit.preprocessing` to improve the results of the PCA.*"
   ]
  },
  {
   "cell_type": "markdown",
   "metadata": {
    "colab_type": "text",
    "id": "2n3P1_nLJX8b"
   },
   "source": [
    "**`.normalize`:** \n",
    "\n",
    "Here's what happens when we use .normalize. Notice that the graph is similar to the un-normalized one – The  biggest difference is that values have been scaled to well within $(-1,1)$, coercing  the data to occupy a unit hypersphere in the dimension of the number of features.\""
   ]
  },
  {
   "cell_type": "code",
   "execution_count": 8,
   "metadata": {
    "colab": {
     "autoexec": {
      "startup": false,
      "wait_interval": 0
     },
     "base_uri": "https://localhost:8080/",
     "height": 376
    },
    "colab_type": "code",
    "executionInfo": {
     "elapsed": 836,
     "status": "ok",
     "timestamp": 1525811944035,
     "user": {
      "displayName": "ML Course Homework Submissions",
      "photoUrl": "https://lh3.googleusercontent.com/a/default-user=s128",
      "userId": "101393720337252915093"
     },
     "user_tz": 300
    },
    "id": "sQKPPzIJkOWX",
    "outputId": "bdf10d80-ea7d-44a6-9174-767dfd614ca3"
   },
   "outputs": [
    {
     "data": {
      "image/png": "[encoded data removed]",
      "text/plain": [
       "<Figure size 720x576 with 1 Axes>"
      ]
     },
     "metadata": {
      "needs_background": "light"
     },
     "output_type": "display_data"
    }
   ],
   "source": [
    "import sklearn.preprocessing as preprocessing\n",
    "\n",
    "model_norm = PCA(n_components=2)\n",
    "\n",
    "data_normalized = preprocessing.normalize(data)\n",
    "\n",
    "model_norm.fit(data_normalized)\n",
    "\n",
    "data_n = model_norm.transform(data_normalized)\n",
    "\n",
    "plt.figure(figsize=(10,8))\n",
    "plt.scatter(*data_n.T, s=12, c=colors[0])\n",
    "plt.title('PCA using sklearn.preprocessing.normalize()', fontsize = 16)\n",
    "plt.xlabel('First Principal Component', fontsize = 12)\n",
    "plt.ylabel('Second Principal Component', fontsize = 12);"
   ]
  },
  {
   "cell_type": "code",
   "execution_count": 9,
   "metadata": {},
   "outputs": [
    {
     "data": {
      "text/plain": [
       "0.05402344468926747"
      ]
     },
     "execution_count": 9,
     "metadata": {},
     "output_type": "execute_result"
    }
   ],
   "source": [
    "data_normalized.std(axis=0).max()"
   ]
  },
  {
   "cell_type": "markdown",
   "metadata": {
    "colab_type": "text",
    "id": "qLLfQB2tkYG5"
   },
   "source": [
    "# *4. Compute the eigenvectors of a dataset*\n",
    "\n",
    "*What are the top-two eigenvectors of the above un-normalized dataset?*"
   ]
  },
  {
   "cell_type": "markdown",
   "metadata": {
    "colab_type": "text",
    "id": "kk2GY0c9aUWd"
   },
   "source": [
    "In PCA, asking for the top two eigenvectors is synonymous with asking for the first two principle components:"
   ]
  },
  {
   "cell_type": "code",
   "execution_count": 10,
   "metadata": {
    "colab": {
     "autoexec": {
      "startup": false,
      "wait_interval": 0
     },
     "base_uri": "https://localhost:8080/",
     "height": 170
    },
    "colab_type": "code",
    "executionInfo": {
     "elapsed": 377,
     "status": "ok",
     "timestamp": 1525812494069,
     "user": {
      "displayName": "ML Course Homework Submissions",
      "photoUrl": "https://lh3.googleusercontent.com/a/default-user=s128",
      "userId": "101393720337252915093"
     },
     "user_tz": 300
    },
    "id": "ogqNUx2MkeW4",
    "outputId": "b966e1cf-4c04-498e-ce1e-f4714912a0c4"
   },
   "outputs": [
    {
     "name": "stdout",
     "output_type": "stream",
     "text": [
      "First unnormalized eigenvector: [ 1.64640308e-03 -6.73503229e-04  1.94877262e-04 -4.62714440e-03\n",
      "  1.74715429e-02  9.86349949e-04  1.55753482e-03 -1.22303077e-04\n",
      "  5.91285826e-04  2.33005971e-03  1.70867398e-04  6.85045272e-04\n",
      "  9.99830206e-01]\n",
      "\n",
      "Second unnormalized eigenvector: [ 7.16631916e-04  2.50017789e-03  4.67090151e-03  2.87250643e-02\n",
      "  9.99280105e-01  7.48473242e-04 -4.49114755e-04 -1.34284344e-03\n",
      "  4.71110804e-03  1.54838007e-02 -7.97923308e-04 -4.34277343e-03\n",
      " -1.73653604e-02]\n",
      "----------------------------------------------------------------------------------\n",
      "First normalized eigenvector: [ 0.11952718  0.02485542  0.02283696  0.23293668  0.94767179  0.02006328\n",
      "  0.01733545  0.00396477  0.01440108  0.02394668  0.00983231  0.0258343\n",
      " -0.17311533]\n",
      "\n",
      "Second normalized eigenvector: [-0.2582931  -0.11249743 -0.06421034 -0.91278349  0.25988983 -0.02973999\n",
      " -0.0165819  -0.01882074 -0.02235519 -0.09800225 -0.00849647 -0.05179892\n",
      " -0.03763578]\n"
     ]
    }
   ],
   "source": [
    "eigenvectors_method_unnormalized = Model.components_\n",
    "eigenvectors_method_normalized = model_norm.components_\n",
    "\n",
    "print('First unnormalized eigenvector: {}\\n\\nSecond unnormalized eigenvector: {}'.format(eigenvectors_method_unnormalized[0], eigenvectors_method_unnormalized[1]))\n",
    "print('-' * 82)\n",
    "print('First normalized eigenvector: {}\\n\\nSecond normalized eigenvector: {}'.format(eigenvectors_method_normalized[0], eigenvectors_method_normalized[1]))"
   ]
  },
  {
   "cell_type": "markdown",
   "metadata": {
    "colab_type": "text",
    "id": "HpCMmjy2kpCZ"
   },
   "source": [
    "# *5. Compute the eigenvalues of a dataset*\n",
    "\n",
    "*What are the top-two eigenvalues of the above un-normalized dataset?*"
   ]
  },
  {
   "cell_type": "markdown",
   "metadata": {
    "colab_type": "text",
    "id": "nM0VHLm2b2l_"
   },
   "source": [
    "Likewise, eigenvalues describe the explained variance, which `sklearn.preprocessing` has a method for:"
   ]
  },
  {
   "cell_type": "code",
   "execution_count": 11,
   "metadata": {
    "colab": {
     "autoexec": {
      "startup": false,
      "wait_interval": 0
     },
     "base_uri": "https://localhost:8080/",
     "height": 68
    },
    "colab_type": "code",
    "executionInfo": {
     "elapsed": 476,
     "status": "ok",
     "timestamp": 1525812581860,
     "user": {
      "displayName": "ML Course Homework Submissions",
      "photoUrl": "https://lh3.googleusercontent.com/a/default-user=s128",
      "userId": "101393720337252915093"
     },
     "user_tz": 300
    },
    "id": "aJUMEtqpkwD0",
    "outputId": "8e3be344-b150-4ab5-8236-df7eff52d965"
   },
   "outputs": [
    {
     "name": "stdout",
     "output_type": "stream",
     "text": [
      "First unnormalized eigenvalue: 99185.58985563336\n",
      "\n",
      "Second unnormalized eigenvalue: 170.86188421366896\n",
      "First normalized eigenvalue: 0.0032646790316400763\n",
      "\n",
      "Second normalized eigenvalue: 4.452895772337913e-05\n"
     ]
    }
   ],
   "source": [
    "Model_eigenvalues = Model.explained_variance_\n",
    "model_norm_eigenvalues = model_norm.explained_variance_\n",
    "\n",
    "print('First unnormalized eigenvalue: {}\\n\\nSecond unnormalized eigenvalue: {}'.format(Model_eigenvalues[0],Model_eigenvalues[1]))\n",
    "print('First normalized eigenvalue: {}\\n\\nSecond normalized eigenvalue: {}'.format(model_norm_eigenvalues[0],model_norm_eigenvalues[1]))"
   ]
  },
  {
   "cell_type": "code",
   "execution_count": 12,
   "metadata": {},
   "outputs": [
    {
     "name": "stdout",
     "output_type": "stream",
     "text": [
      "First Component explains: 0.9773607143904124 of total variance\n",
      "Second Component explains: 0.013330821654990914 of total variance\n"
     ]
    }
   ],
   "source": [
    "print('First Component explains: {} of total variance'.format(model_norm.explained_variance_ratio_[0]))\n",
    "print('Second Component explains: {} of total variance'.format(model_norm.explained_variance_ratio_[1]))"
   ]
  },
  {
   "cell_type": "code",
   "execution_count": 13,
   "metadata": {},
   "outputs": [],
   "source": [
    "import sklearn.preprocessing as preprocessing"
   ]
  },
  {
   "cell_type": "code",
   "execution_count": 14,
   "metadata": {},
   "outputs": [
    {
     "data": {
      "text/plain": [
       "array([[ 0.63245553,  0.31622777,  0.        , -0.31622777, -0.63245553],\n",
       "       [ 0.63245553,  0.31622777,  0.        , -0.31622777, -0.63245553]])"
      ]
     },
     "execution_count": 14,
     "metadata": {},
     "output_type": "execute_result"
    }
   ],
   "source": [
    "unnorm = np.array([[1000,500,0,-500,-1000],[1,0.5,0,-0.5,-1]])\n",
    "normalized = preprocessing.normalize(unnorm, norm='l2')\n",
    "normalized"
   ]
  },
  {
   "cell_type": "code",
   "execution_count": 15,
   "metadata": {},
   "outputs": [
    {
     "data": {
      "text/plain": [
       "array([707.10678119,   0.70710678])"
      ]
     },
     "execution_count": 15,
     "metadata": {},
     "output_type": "execute_result"
    }
   ],
   "source": [
    "unnorm.std(axis=1)"
   ]
  },
  {
   "cell_type": "code",
   "execution_count": 16,
   "metadata": {},
   "outputs": [
    {
     "data": {
      "text/plain": [
       "array([0.4472136, 0.4472136])"
      ]
     },
     "execution_count": 16,
     "metadata": {},
     "output_type": "execute_result"
    }
   ],
   "source": [
    "normalized.std(axis=1)"
   ]
  },
  {
   "cell_type": "code",
   "execution_count": null,
   "metadata": {},
   "outputs": [],
   "source": []
  }
 ],
 "metadata": {
  "colab": {
   "collapsed_sections": [],
   "default_view": {},
   "name": "Solution Code: Dimensionality Reduction Sprint Challenge.ipynb",
   "provenance": [
    {
     "file_id": "1oEkCZCkQhEYbkSDsaSt7IsqipUTKb1jF",
     "timestamp": 1525122909383
    },
    {
     "file_id": "14erbTaHHmW8MNeY_4IrkyfNa1CReV_BG",
     "timestamp": 1524237256927
    }
   ],
   "toc_visible": true,
   "version": "0.3.2",
   "views": {}
  },
  "kernelspec": {
   "display_name": "Python 3",
   "language": "python",
   "name": "python3"
  },
  "language_info": {
   "codemirror_mode": {
    "name": "ipython",
    "version": 3
   },
   "file_extension": ".py",
   "mimetype": "text/x-python",
   "name": "python",
   "nbconvert_exporter": "python",
   "pygments_lexer": "ipython3",
   "version": "3.8.8"
  }
 },
 "nbformat": 4,
 "nbformat_minor": 4
}
