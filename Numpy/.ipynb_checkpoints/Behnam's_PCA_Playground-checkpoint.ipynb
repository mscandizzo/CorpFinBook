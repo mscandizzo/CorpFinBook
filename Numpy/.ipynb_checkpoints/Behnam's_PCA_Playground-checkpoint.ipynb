{
  "nbformat": 4,
  "nbformat_minor": 0,
  "metadata": {
    "colab": {
      "name": "Behnam's PCA Playground.ipynb",
      "provenance": [],
      "collapsed_sections": [],
      "toc_visible": true
    },
    "kernelspec": {
      "name": "python3",
      "display_name": "Python 3"
    }
  },
  "cells": [
    {
      "cell_type": "markdown",
      "metadata": {
        "id": "CW2OkwNkF16a",
        "colab_type": "text"
      },
      "source": [
        "# Principle Component Analysis"
      ]
    },
    {
      "cell_type": "markdown",
      "metadata": {
        "id": "ga4ghBizelPt",
        "colab_type": "text"
      },
      "source": [
        "## PCA Introduction: Why Reduce?\n",
        "\n",
        "Principle Component Analysis, or PCA, is just one of several tools in an data scientist's toolkit to service the same problem: reducing the dimensionality of a data set. To truly understand the motivation behind the various steps in PCA, it is worth questioning why we want to reduce the dimensionality of our dataset in the first place. This is a bit of rehashing, so if you already feel confident about this feel free to skip to the next section. \n",
        "\n",
        "**What is high dimensionality?** \n",
        "\n",
        "A $p$-dimensional data set is one where each data point has been characterized across $p$ different dimensions: If you have data about people, you might know a given person's age, height, weight, gender, income, and years of formal education. Since we've characterized this person across 6 different dimensions, we could represent them by a single point in an 6-dimensional space. Similarly, a data set of countries that contained a given country's population, landmass, and GDP can be represented in a 3-dimensional space. \n",
        "\n",
        "So how might we know when a data set has *high* dimensionality? There are a few different definitions floating around, but the one I like comes from the context of regression and classification algorithms (you will see regression next week, and some classification algorithms during the Unsupervised Learning unit) and points toward some of the inherent issues with a high dimensional data set (defined as such): for a dataset with $n$ many datapoints and $p$ dimensions, we would consider the data as high-dimensional when $p > n$, that is, when there are more dimensions than there are datapoints. This is a rough heuristic, but it illustrates some obvious challenges associated with high dimensionality (if lengthy academic papers are your jam, [this one](https://www.ncbi.nlm.nih.gov/pmc/articles/PMC2865881/) gives extensive treatment to the $p>n$ problem). "
      ]
    },
    {
      "cell_type": "markdown",
      "metadata": {
        "id": "TDtAChb6p765",
        "colab_type": "text"
      },
      "source": [
        "**Why it's a problem:** \n",
        "\n",
        "With linear regression, the implications of $p>n$ are easily illustrated. Let's look at a trivial example: suppose we want to find a \"best fit line\" (that's all a regression line is) for a high-dimenional data set, particularly where $p=2$ and $n=1$. In other words, we have a single data point characterized across two dimensions. Our data looks something like (I warned you it would be trivial):"
      ]
    },
    {
      "cell_type": "code",
      "metadata": {
        "id": "irHIQlbWkDVB",
        "colab_type": "code",
        "colab": {
          "base_uri": "https://localhost:8080/",
          "height": 376
        },
        "outputId": "b3813217-322c-4bc5-cf73-ad278cb2b9bd"
      },
      "source": [
        "import matplotlib.pyplot as plt\n",
        "plt.scatter([1],[1],color='r',s=3000)\n",
        "plt.xlim(0, 2)\n",
        "plt.ylim(0, 2)\n",
        "plt.xlabel('x')\n",
        "plt.ylabel('y')\n",
        "plt.title(\"\\'' Data ''\")\n",
        "plt.show()"
      ],
      "execution_count": null,
      "outputs": [
        {
          "output_type": "display_data",
          "data": {
            "image/png": "[encoded data removed]",
            "text/plain": [
              "<matplotlib.figure.Figure at 0x7f3466d332e8>"
            ]
          },
          "metadata": {
            "tags": []
          }
        }
      ]
    },
    {
      "cell_type": "markdown",
      "metadata": {
        "id": "HEtX97Vsl2Uy",
        "colab_type": "text"
      },
      "source": [
        "And the best fit line something like:  "
      ]
    },
    {
      "cell_type": "code",
      "metadata": {
        "id": "nfBjlSQefS96",
        "colab_type": "code",
        "colab": {
          "base_uri": "https://localhost:8080/",
          "height": 347
        },
        "outputId": "639329de-8476-42f2-9fea-ccce5876da42"
      },
      "source": [
        "import matplotlib.pyplot as plt\n",
        "f, (ax1, ax2, ax3, ax4, ax5) = plt.subplots(1, 5, sharey=True)\n",
        "\n",
        "\n",
        "ax1.scatter([1],[1],color='r')\n",
        "ax1.plot([0,1,2])\n",
        "\n",
        "ax2.scatter([1],[1],color='r')\n",
        "ax2.plot([-1,1,3])\n",
        "\n",
        "ax3.scatter([1],[1],color='r')\n",
        "ax3.plot([4,1,-2])\n",
        "\n",
        "ax4.scatter([1],[1],color='r')\n",
        "ax4.plot([-4,1,6])\n",
        "\n",
        "ax5.scatter([1],[1],color='r')\n",
        "ax5.plot([(1-.1),1,(1+.1)])\n",
        "\n",
        "f.subplots_adjust(hspace=30)\n",
        "plt.show()"
      ],
      "execution_count": null,
      "outputs": [
        {
          "output_type": "display_data",
          "data": {
            "image/png": "[encoded data removed]",
            "text/plain": [
              "<matplotlib.figure.Figure at 0x7f34670d8cf8>"
            ]
          },
          "metadata": {
            "tags": []
          }
        }
      ]
    },
    {
      "cell_type": "markdown",
      "metadata": {
        "id": "tGBP6st0mLIT",
        "colab_type": "text"
      },
      "source": [
        "Clearly, trying to find the \"best-fit line\"  in this scenario is an exercise in nonsense. No two of the lines above are the same, yet each perfectly \"fits\" the data. When $p>n$ regression analysis isn't well-defined, as there are infinitely many, equally \"best fiting\" lines. For this reason, performing regression on high-dimensional data set is generally a bad idea, as it might not give you meaningful results.\n",
        "\n",
        "For classification algorithms, $p>n$ is also bad news: high-dimensional data are sparse data, and sparse data can pose several problems to classification algorithms. The K-Nearest Neighbors algorithm, for example, classifies data by training off of nearby points. The problem arises because [\"nearness\"](https://www.edupristine.com/blog/curse-dimensionality) gets diluted as dimensions increase. A simple [categorical classifier](http://cleverowl.uk/2016/02/06/curse-of-dimensionality-explained/) encounters similar issues.\n",
        "\n",
        "Hopefully this illustrates a bit of the motivation behind reducing the number of dimensions in a data set. \n",
        "\n"
      ]
    },
    {
      "cell_type": "markdown",
      "metadata": {
        "id": "YwTd9djVfTDG",
        "colab_type": "text"
      },
      "source": [
        "**How to reduce:**\n",
        "\n",
        "If fewer dimensions were an unequivocally intrinsic good, we could just toss out some arbitrarily selected dimensions. Obviously, this is ill-advised, as you might toss meaningful information out with the discarded dimensions. This clarifies the purpose of any effective dimensionality reduction technique: an ideal approach would find an alternative representation of the data in fewer dimensions that still preserves as much of the information contained in the data as possible.\n",
        "\n",
        "This is PCA. "
      ]
    },
    {
      "cell_type": "markdown",
      "metadata": {
        "id": "lIy_zEVW4WJ5",
        "colab_type": "text"
      },
      "source": [
        "## PCA Step 1: Constructing The Covariance Matrix"
      ]
    },
    {
      "cell_type": "markdown",
      "metadata": {
        "id": "fLPh2TZE527W",
        "colab_type": "text"
      },
      "source": [
        "If you ask a statistician about PCA, they might say something like \n",
        "\n",
        "> *\"PCA identifies the principle components of a set of data by computing the eigenvectors of the covariance matrix (or sometimes correlation matrix). The eigenvector with the largest eigenvalue corresponds to the the first principle component, the eigenvector with the second largest eigenvalue to the second principle component, and so on. A specified number of principle components are used as bases for a subspace onto which the data are projected.\" (Arzaghi, 2018)*\n",
        "\n",
        "While this isn't wrong, if \"covariance matrix\" and \"eigenvectors\" aren't part of your vernacular, it's a bit meaningless. We move forward with an example to illustrate what these terms mean, why they are important to PCA, and how we compute them. \n",
        "\n"
      ]
    },
    {
      "cell_type": "code",
      "metadata": {
        "id": "AHKoVMjKIqLB",
        "colab_type": "code",
        "colab": {}
      },
      "source": [
        "#import all the stuff\n",
        "import pandas as pd\n",
        "import numpy as np\n",
        "\n",
        "import plotly.plotly as py\n",
        "import plotly.graph_objs as go\n",
        "py.sign_in('Behnamanam', '0JQM7oVBKe1uWVl47eVu')\n",
        "\n"
      ],
      "execution_count": null,
      "outputs": []
    },
    {
      "cell_type": "markdown",
      "metadata": {
        "id": "HQb8cmW1ItlP",
        "colab_type": "text"
      },
      "source": [
        "Suppose we had data for the following nine people, where we know each individual's height, weight, and age:\n",
        "\n"
      ]
    },
    {
      "cell_type": "code",
      "metadata": {
        "id": "BUe8FeM0JASn",
        "colab_type": "code",
        "colab": {}
      },
      "source": [
        "People = {\n",
        "    'Height in Meters: ': [1.7, 1.8, 1.65, 1.75, 1.9, 1.77, 1.74, 1.82, 1.67], \n",
        "    'Weight in Kg: ': [82, 81, 68, 76, 87, 77, 76, 83, 59], \n",
        "    'Age in Years: ': [22, 41, 28, 36, 47, 51, 23, 34, 64]}\n",
        "\n",
        "ExampleOne = pd.DataFrame(data=People)"
      ],
      "execution_count": null,
      "outputs": []
    },
    {
      "cell_type": "markdown",
      "metadata": {
        "id": "Y1xufvabJAxd",
        "colab_type": "text"
      },
      "source": [
        "While this isn't an ideal candidate for a real-life implementation of PCA ( $p=3$ and $n = 9$, so $p \\ngtr n$ in this case), its 3 dimensions are easy to visualize in a 3 dimensional space:"
      ]
    },
    {
      "cell_type": "code",
      "metadata": {
        "id": "ZTU5x_pzTDJ5",
        "colab_type": "code",
        "colab": {
          "base_uri": "https://localhost:8080/",
          "height": 546
        },
        "outputId": "91e8597d-91e7-407f-c390-d4b0b788a3e3"
      },
      "source": [
        "x = ExampleOne['Height in Meters: ']\n",
        "y = ExampleOne['Weight in Kg: ']\n",
        "z = ExampleOne['Age in Years: ']\n",
        "\n",
        "traceMetric = go.Scatter3d(\n",
        "    x=(x - x.mean()),\n",
        "    y=(y - y.mean()),\n",
        "    z=(z - z.mean()),\n",
        "    mode='markers',\n",
        "    marker=dict(\n",
        "        size=12,\n",
        "        color=[\"blue\" for x in range(0,len(x))],\n",
        "        colorscale = 'Viridis',\n",
        "        opacity=0.8\n",
        "    ),\n",
        "    name='Height in Meters'\n",
        ")\n",
        "\n",
        "data = [traceMetric]\n",
        "\n",
        "layout = go.Layout(scene = dict(\n",
        "                    xaxis = dict(\n",
        "                        title='Height in Meters'),\n",
        "                    yaxis = dict(\n",
        "                        title='Weight in KG'),\n",
        "                    zaxis = dict(\n",
        "                        title='Age in Years'),),\n",
        "                    width=700,\n",
        "                    margin=dict(\n",
        "                    r=20, b=10,\n",
        "                    l=10, t=10)\n",
        "                  )\n",
        "\n",
        "fig = go.Figure(data=[traceMetric], layout=layout)\n",
        "py.iplot(fig, filename='3d-scatter-colorscale0')\n",
        "  \n"
      ],
      "execution_count": null,
      "outputs": [
        {
          "output_type": "execute_result",
          "data": {
            "text/html": [
              "<iframe id=\"igraph\" scrolling=\"no\" style=\"border:none;\" seamless=\"seamless\" src=\"https://plot.ly/~Behnamanam/18.embed\" height=\"525px\" width=\"700px\"></iframe>"
            ],
            "text/plain": [
              "<plotly.tools.PlotlyDisplay object>"
            ]
          },
          "metadata": {
            "tags": []
          },
          "execution_count": 27
        }
      ]
    },
    {
      "cell_type": "markdown",
      "metadata": {
        "id": "J9y1V6pKihih",
        "colab_type": "text"
      },
      "source": [
        "Move around the plot above enough and you might find that, at the right angle, the points line up, indicating that the data occupy roughly the same plane, or two-dimensional subspace. Of course, this is by design because I made this example up: in a 4, 5, or 200 dimensional space this kind of visual inspection is no longer feasible, which is why dimensionality reduction techniques are useful. Either way, we're going to use PCA to take this data from three dimensions to two."
      ]
    },
    {
      "cell_type": "markdown",
      "metadata": {
        "id": "8riyB8UAnZxr",
        "colab_type": "text"
      },
      "source": [
        "### PCA steps 0.1 & 0.2: centering the data, standardizing the data (i.e. \"What Is Covariance?\")\n",
        "\n",
        "There are two things you will hear people consider when constructing a covariance matrix for PCA: whether to center the data, and whether to standardize the data. Why we would want to do either is better understood after we have a good idea of what covariance is. As you might suspect, the mathematical definition of covariance is very similar to the definition for variance. A quick refresher on the mathematical definition of variance:\n",
        "\n",
        "$\\qquad V = \\frac{1}{n}\\sum\\limits_{i=1}^n (x_i-\\bar{x})^2 \\quad$ or, alternatively: $\\quad\\sigma^2 = \\frac{1}{n}\\sum\\limits_{i=1}^n (x_i-\\mu)^2$\n",
        "\n",
        "Where the two equations are identical, but the second one has more greek letters to signal intellectual superiority (to be fair, lower case sigma \"$\\sigma$\" is also the canonical greek letter for standard deviation, so saying the definition of variance is equal to $\\sigma^2$ is actually a nice way of demonstrating that the standard deviation is directly related to, and found by taking the square root of, the variance). Variance gives a quantitative description of how much \"variety\" exist the values in $x$ by measuring how far each value $x_i$ is from the average (in the first equation given by $\\bar{x}$, in the second by the greek letter mu \"$\\mu$\"), squaring it (this is just one way of getting a distance from a difference. [People argue](http://www.leeds.ac.uk/educol/documents/00003759.htm) about the best way to do this), and adding all these squared distances up then dividing by the number of values $n$. Intuitively, a small variance suggests that all $x$ values hover near the mean value of $x$, while a large variance suggests that $x$ values are all over the place. \n",
        "\n",
        "Now to covariance. Mathematically, covariance looks similar to variance, but instead of an equation with a single variable $x$, covariance describes a relationship between two variables $x$ and $y$: \n",
        "\n",
        "$\\qquad COV(x,y) = \\frac{1}{n-1}\\sum\\limits_{i=1}^n (x_i-\\bar{x})(y_i-\\bar{y})$\n",
        "\n",
        "We could go through an exhaustive comparison of the equations for variance and covariance to reveal how intepretations of the two diverge... or I'll leave that as an \"exercise for a reader\" and point out the main takeaways: *covariance* describes the extent to which $x$ and $y$ exhibit a linear relationship. A large positive covariance indicates that there is a positive linear relationship (as $x$ increases, so does $y$), while a large negative covariance indicates a negative linear relationship. A covariance of zero implies no linear relationship. \n",
        "\n",
        "\n",
        "Hidden within the mathematical definition of covariance rests the crux of the discussions both about centering and standardizing: \n",
        "\n",
        "**0.1 - Centering** by itself isn't necessary to construct the desired covariance matrix: to center a data set, one simply subtracts the mean from each data point. \n",
        "\n",
        "$\\qquad x_{centered} = {x-\\bar{x}}$\n",
        "\n",
        "This is exactly what is occuring inside the summation when you calculate covariance (and variance, for that matter). So, *if* you construct covariance matrix directly (yep, there are other ways that we won't worry about), centering the data is redundant, because you'll arrive at the same covariance matrix either way.\n",
        "\n",
        "**0.2 - Standardizing**, on the other hand, is another problem entirely. Standardizing is given by:\n",
        "\n",
        "$\\qquad x' = \\frac{x-\\bar{x}}{\\sigma}$\n",
        "\n",
        "And is used to ensure that the units of measurement don't end up distorting your covariance matrix: if you look at the definition of covariance, the units of covariance between some variables $x$ and $y$ end up being the product of the units of those two variables. This should strike you as more than a little silly. In our example, a description of the covariance between the height and weight would be given in \"kilogram meters\"  (whatever those are). Of course, the bigger issue is not that these units sound silly, but that one can just as easily have measured height in inches or millimeters or potatoes, each of which would result in a *different covariance*. To build a visual intuition, consider the graph below, where we plot the same data as above, but where height is given in meters, inches, and millimeters:  "
      ]
    },
    {
      "cell_type": "code",
      "metadata": {
        "id": "6x3T5_ZjHRDG",
        "colab_type": "code",
        "colab": {
          "base_uri": "https://localhost:8080/",
          "height": 546
        },
        "outputId": "a018fcef-e332-4c7c-8ed6-b173c82e8ea9"
      },
      "source": [
        "xinches = ExampleOne['Height in Meters: ']*39.37\n",
        "\n",
        "traceMetric = go.Scatter3d(\n",
        "    x=(x - x.mean()),\n",
        "    y=(y - y.mean()),\n",
        "    z=(z - z.mean()),\n",
        "    mode='markers',\n",
        "    marker=dict(\n",
        "        size=12,\n",
        "        color=[\"blue\" for x in range(0,len(x))],\n",
        "        colorscale = 'Viridis',\n",
        "        opacity=0.8\n",
        "    ),\n",
        "    name='Height in Meters'\n",
        ")\n",
        "\n",
        "\n",
        "traceImperial = go.Scatter3d(\n",
        "    x=(xinches - xinches.mean()),\n",
        "    y=(y - y.mean()),\n",
        "    z=(z - z.mean()),\n",
        "    mode='markers',\n",
        "    marker=dict(\n",
        "        size=12,\n",
        "        color= [\"magenta\" for x in range(0,len(x))], # set color to an array/list of desired values\n",
        "        colorscale = 'Jet',   # choose a colorscale\n",
        "        opacity=0.8\n",
        "    ),\n",
        "    name='Height in Inches'\n",
        ")\n",
        "\n",
        "xmilli = ExampleOne['Height in Meters: ']*1000.0\n",
        "\n",
        "traceMilli = go.Scatter3d(\n",
        "    x=(xmilli - xmilli.mean()),\n",
        "    y=(y - y.mean()),\n",
        "    z=(z - z.mean()),\n",
        "    mode='markers',\n",
        "    marker=dict(\n",
        "        size=12,\n",
        "        color= [\"teal\" for x in range(0,len(x))], # set color to an array/list of desired values\n",
        "        colorscale = 'Jet',   # choose a colorscale\n",
        "        opacity=0.8\n",
        "    ),\n",
        "    name='Height in Millimeters'\n",
        ")\n",
        "\n",
        "data = [traceMetric,traceImperial,traceMilli]\n",
        "layout = go.Layout(scene = dict(\n",
        "                    xaxis = dict(\n",
        "                        title='Height in arbitrary units'),\n",
        "                    yaxis = dict(\n",
        "                        title='Weight in KG', range=[-15*100, 10*100]),\n",
        "                    zaxis = dict(\n",
        "                        title='Age in Years', range=[-15*100, 25*100])),\n",
        "                    \n",
        "                    margin=dict(\n",
        "                    r=20, b=10,\n",
        "                    l=10, t=10)\n",
        "                  )\n",
        "\n",
        "fig = go.Figure(data=data, layout=layout)\n",
        "py.iplot(fig, filename='3d-scatter-colorscale2')\n",
        "\n",
        "\n",
        "\n",
        "      \n"
      ],
      "execution_count": null,
      "outputs": [
        {
          "output_type": "execute_result",
          "data": {
            "text/html": [
              "<iframe id=\"igraph\" scrolling=\"no\" style=\"border:none;\" seamless=\"seamless\" src=\"https://plot.ly/~Behnamanam/14.embed\" height=\"525px\" width=\"100%\"></iframe>"
            ],
            "text/plain": [
              "<plotly.tools.PlotlyDisplay object>"
            ]
          },
          "metadata": {
            "tags": []
          },
          "execution_count": 23
        }
      ]
    },
    {
      "cell_type": "markdown",
      "metadata": {
        "id": "Mx0qPcwUPilv",
        "colab_type": "text"
      },
      "source": [
        "The result is a \"stretching\", if you will, of the height axis until becomes the dominant characteristic of the data set.\n",
        "\n",
        "To be fair, I've done two things to the graph above which aren't meant to be sneaky but do warrant explanation: first, I set the range of the \"Weight\" and Years\" axes to be roughly what we would observe if we had to \"zoom out\" to capture the heights given in their different units. Second, I centered the data for legibility, (but this also helps drive home that centering your data alone won't protect it from unit distortion). Both of these are in service of the overall point: the plot above shows that changing the units can vastly distort the apparent shape of the data. For height in millimeters, visual inspection might lead us to conclude that almost all of the data can be explained by this dimension of height alone.\n",
        "\n",
        "Thankfully, we can avoid this issue entirely by standardizing our units which, yes, also centers the data. Much more importantly, standardizing expresses all $x$ values in terms of $x$'s' standard deviation (this is sometimes called scaling to *unit variance*). Observe what happens when we standardize and replot the graph above:"
      ]
    },
    {
      "cell_type": "code",
      "metadata": {
        "id": "o_pBMEkCTkNS",
        "colab_type": "code",
        "colab": {
          "base_uri": "https://localhost:8080/",
          "height": 546
        },
        "outputId": "aa02f428-cc7a-4830-f81c-2cb63b60ce6a"
      },
      "source": [
        "\n",
        "traceMetric = go.Scatter3d(\n",
        "    x=(x - x.mean())/np.std(x),\n",
        "    y=(y - y.mean())/np.std(y),\n",
        "    z=(z - z.mean())/np.std(z),\n",
        "    mode='markers',\n",
        "    marker=dict(\n",
        "        size=12,\n",
        "        color=[\"blue\" for x in range(0,len(x))],\n",
        "        colorscale = 'Viridis',\n",
        "        opacity=0.8\n",
        "    ),\n",
        "    name='Height in Meters'\n",
        ")\n",
        "\n",
        "traceImperial = go.Scatter3d(\n",
        "    x=(xinches - xinches.mean())/np.std(xinches),\n",
        "    y=(y - y.mean())/np.std(y),\n",
        "    z=(z - z.mean())/np.std(z),\n",
        "    mode='markers',\n",
        "    marker=dict(\n",
        "        size=12,\n",
        "        color= [\"magenta\" for x in range(0,len(x))], \n",
        "        colorscale = 'Jet',   \n",
        "        opacity=0.8\n",
        "    ),\n",
        "    name='Height in Inches'\n",
        ")\n",
        "\n",
        "traceMilli = go.Scatter3d(\n",
        "    x=(xmilli - xmilli.mean())/np.std(xmilli),\n",
        "    y=(y - y.mean())/np.std(y),\n",
        "    z=(z - z.mean())/np.std(z),\n",
        "    mode='markers',\n",
        "    marker=dict(\n",
        "        size=12,\n",
        "        color= [\"teal\" for x in range(0,len(x))], \n",
        "        colorscale = 'Jet',  \n",
        "        opacity=0.8\n",
        "    ),\n",
        "    name='Height in Millimeters'\n",
        ")\n",
        "\n",
        "data = [traceMetric,traceImperial,traceMilli]\n",
        "layout = go.Layout(scene = dict(\n",
        "                    xaxis = dict(\n",
        "                        title='Standardized Height'),\n",
        "                    yaxis = dict(\n",
        "                        title='Standardized Weight',),\n",
        "                    zaxis = dict(\n",
        "                        title='Standardized Age', )),\n",
        "                    \n",
        "                    margin=dict(\n",
        "                    r=20, b=10,\n",
        "                    l=10, t=10)\n",
        "                  )\n",
        "\n",
        "fig = go.Figure(data=data, layout=layout)\n",
        "py.iplot(fig, filename='3d-scatter-colorscale3')\n",
        "\n",
        "\n",
        "\n",
        "      \n"
      ],
      "execution_count": null,
      "outputs": [
        {
          "output_type": "execute_result",
          "data": {
            "text/html": [
              "<iframe id=\"igraph\" scrolling=\"no\" style=\"border:none;\" seamless=\"seamless\" src=\"https://plot.ly/~Behnamanam/16.embed\" height=\"525px\" width=\"100%\"></iframe>"
            ],
            "text/plain": [
              "<plotly.tools.PlotlyDisplay object>"
            ]
          },
          "metadata": {
            "tags": []
          },
          "execution_count": 24
        }
      ]
    },
    {
      "cell_type": "markdown",
      "metadata": {
        "id": "AJYlMIl7VJBm",
        "colab_type": "text"
      },
      "source": [
        "We have total agreement irrespective the units in which the data is given! What a relief. With very few exceptions, it is good practice to standardize your data before performing PCA."
      ]
    },
    {
      "cell_type": "markdown",
      "metadata": {
        "id": "sEO8-rT-WSHE",
        "colab_type": "text"
      },
      "source": [
        "### PCA steps 1.0 & 1.1: Constructing the Covariance and Correlation Matrices\n",
        "\n",
        "**1.0 - Covariance Matrix:** \n",
        "\n",
        "Now that we know what covariance is, we can construct a covariance matrix (and then argue for constructing the correlation matrix instead). For a dataset with $n$ variables (or dimensions, I've kind of been using the two interchangeably...) given by $x_1, x_2, \\dots x_n$, the covariance matrix is constructed by calculating the covariance across all pairwise combinations:\n",
        "\n",
        "\\begin{pmatrix}\n",
        "        COV(x_1,x_1) & COV(x_1,x_2) & \\cdots & COV(x_1,x_n) \\\\ \n",
        "        COV(x_2,x_1) & COV(x_2,x_2) &  &  \\\\\n",
        "        \\vdots &  & \\ddots &  \\\\\n",
        "        COV(x_n,x_1) &  &  & COV(x_n,x_n) \\\\\n",
        "    \\end{pmatrix}\n",
        "    \n",
        "This matrix has a lot of really nice properties like being square, having symmetry across the diagonal, and having positive (and in most cases, non-zero) values along the diagonal. People who care a lot about matrices call this type of matrix \"positive semi-definite\". For the inquisitive reader, here's [an explanation](http://www.utdallas.edu/~herve/Abdi-EVD2007-pretty.pdf) about how this property relates to PCA, but the skinny is that positive semi-definite matrices have the eigenvectors we're looking for. \n",
        "\n",
        "**1.1 - Correlation Matrix**\n",
        "\n",
        "In section 0.2 I argued for the benefits of always standardizing your data before calculating covariance. Doing this leads us (not so coincidently) right to the mathematical definition of the very close cousin of covariance, the correlation coefficient:\n",
        "\n",
        "$\\qquad \\rho_{x,y} = \\frac{COV(x,y)}{\\sigma_x\\sigma_y}$\n",
        "\n",
        "Denoted by the Greek letter rho \"$\\rho$\", correlation is sometimes called \"Pearson's r\", or \"Pearson's correlation coefficient\". But no matter what you call it, correlation is essentially the standardized version of covariance. This is evident by the terms in the denominator, the standard deviation of $x$ multiplied by the standard deviation of $y$. While it has the obvious benefit of being unit-invariant (because it's standardized!), correlation also has the pleasant property of being equal to $1$ when two variables completely covary (i.e. when they fit a straight line with a positive slope), and $-1$ when two variables completely covary inversely. \n",
        "\n",
        "The implication of this is that standardizing your data before constructing the covariance matrix means you are actually constructing a correlation matrix (in the representation below, I've taken the liberty of simplifying all the entries along the diagonal to 1, as all variables correlate with themselves):  \n",
        "\n",
        "\\begin{pmatrix}\n",
        "        1 & \\rho_{x_1,x_2} & \\cdots & \\rho_{x_1,x_n} \\\\ \n",
        "        \\rho_{x_2,x_1} & 1 &  &  \\\\\n",
        "        \\vdots &  & \\ddots &  \\\\\n",
        "        \\rho_{x_n,x_1} &  &  & 1 \\\\\n",
        "    \\end{pmatrix}\n",
        "\n",
        "If its standardized nature doesn't convince you to prefer the correlation matrix, don't take my word for it. Take Ian T. Jolliffe's, who wrote [a 488 page tome](http://cda.psych.uiuc.edu/statistical_learning_course/Jolliffe%20I.%20Principal%20Component%20Analysis%20%282ed.,%20Springer,%202002%29%28518s%29_MVsa_.pdf) on PCA: \n",
        "\n",
        ">*\"A major argument for using correlation—rather than covariance—\n",
        "matrices to define PCs is that the results of analyses for different sets\n",
        "of random variables are more directly comparable than for analyses based\n",
        "on covariance matrices. The big drawback of PCA based on covariance matrices\n",
        "is the sensitivity of the PCs to the units of measurement used for\n",
        "each element of x...* \n",
        "\n",
        ">*...It is unwise to use PCs on a covariance\n",
        "matrix when x consists of measurements of different types, unless there is a\n",
        "strong conviction that the units of measurements chosen for each element of\n",
        "x are the only ones that make sense. Even when this condition holds, using\n",
        "the covariance matrix will not provide very informative PCs if the variables\n",
        "have widely differing variances. Furthermore, with covariance matrices and\n",
        "non-commensurable variables the PC scores are difficult to interpret—what\n",
        "does it mean to add a temperature to a weight? For correlation matrices, the\n",
        "standardized variates are all dimensionless and can be happily combined\n",
        "to give PC scores (Legendre and Legendre, 1983, p. 129).\" (Jolliffe, I. 2002)*\n",
        "\n",
        "That's straight from the horse's mouth, folks: be wise, standardize. "
      ]
    },
    {
      "cell_type": "code",
      "metadata": {
        "id": "_7OTW1p0Piq7",
        "colab_type": "code",
        "colab": {
          "base_uri": "https://localhost:8080/",
          "height": 425
        },
        "outputId": "2d97f620-eb61-4287-9cf2-68cc7248102b"
      },
      "source": [
        "#print(ExampleOne.std())\n",
        "#\n",
        "#\n",
        "#print(ExampleOne.std())\n",
        "#\n",
        "#print(ExampleOne.std())\n",
        "#new_column = pd.Series(xinches, name='Height in Inches', index=[0, 2])\n",
        "\n",
        "#Imperial = {'Height in Meters: ': [h*39.7 for h in x], \n",
        "#     'Weight in Kg: ': [82, 81, 68, 76, 87, 77, 76, 83, 59], \n",
        "#     'Age in Years: ': [22, 41, 28, 36, 47, 51, 23, 34, 64]}\n",
        "#ExampleTwo = pd.DataFrame(data=Imperial)\n",
        "#print(ExampleTwo.std())\n",
        "\n",
        "\n",
        "\n",
        "\n",
        "print(np.cov([x,y,z]).round(decimals=3))\n",
        "\n",
        "print(np.cov([(x - x.mean()), (y - y.mean()), (z - z.mean())]))\n",
        "    \n",
        "print(np.cov([xinches,y,z]).round(decimals=3))\n",
        "print(np.cov([xmilli,y,z]).round(decimals=3))\n",
        "#\n",
        "print(np.corrcoef([x,y,z]).round(decimals=3))\n",
        "print(np.corrcoef([xinches,y,z]).round(decimals=3))\n",
        "print(np.corrcoef([xmilli,y,z]).round(decimals=3))\n",
        "print(np.corrcoef(xmilli,[y,z]).round(decimals=3))"
      ],
      "execution_count": null,
      "outputs": [
        {
          "output_type": "stream",
          "text": [
            "[[ 6.00000e-03  5.30000e-01  1.66000e-01]\n",
            " [ 5.30000e-01  7.27780e+01 -4.51530e+01]\n",
            " [ 1.66000e-01 -4.51530e+01  1.91778e+02]]\n",
            "[[ 6.12777778e-03  5.30277778e-01  1.65972222e-01]\n",
            " [ 5.30277778e-01  7.27777778e+01 -4.51527778e+01]\n",
            " [ 1.65972222e-01 -4.51527778e+01  1.91777778e+02]]\n",
            "[[  9.498  20.877   6.534]\n",
            " [ 20.877  72.778 -45.153]\n",
            " [  6.534 -45.153 191.778]]\n",
            "[[6127.778  530.278  165.972]\n",
            " [ 530.278   72.778  -45.153]\n",
            " [ 165.972  -45.153  191.778]]\n",
            "[[ 1.     0.794  0.153]\n",
            " [ 0.794  1.    -0.382]\n",
            " [ 0.153 -0.382  1.   ]]\n",
            "[[ 1.     0.794  0.153]\n",
            " [ 0.794  1.    -0.382]\n",
            " [ 0.153 -0.382  1.   ]]\n",
            "[[ 1.     0.794  0.153]\n",
            " [ 0.794  1.    -0.382]\n",
            " [ 0.153 -0.382  1.   ]]\n",
            "[[ 1.     0.794  0.153]\n",
            " [ 0.794  1.    -0.382]\n",
            " [ 0.153 -0.382  1.   ]]\n"
          ],
          "name": "stdout"
        }
      ]
    }
  ]
}