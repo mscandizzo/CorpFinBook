{
 "cells": [
  {
   "cell_type": "markdown",
   "metadata": {},
   "source": [
    "## Pandas Primer 5\n",
    "--------------"
   ]
  },
  {
   "cell_type": "code",
   "execution_count": 1,
   "metadata": {
    "extensions": {
     "jupyter_dashboards": {
      "version": 1,
      "views": {
       "grid_default": {
        "hidden": true
       },
       "report_default": {}
      }
     }
    }
   },
   "outputs": [],
   "source": [
    "import pandas as pd\n",
    "import numpy as np\n",
    "import datetime as dt\n",
    "import seaborn as sns; sns.set()\n",
    "import math\n",
    "import zmq\n",
    "import statsmodels.api as sm\n",
    "import matplotlib.pyplot as plt\n",
    "import quandl as ql\n",
    "ql.ApiConfig.api_key= \"9Djob1GoNyL-pEK4-vEk\""
   ]
  },
  {
   "cell_type": "markdown",
   "metadata": {},
   "source": [
    "<a id='cell64'></a>\n",
    "## Grouping Operations"
   ]
  },
  {
   "cell_type": "code",
   "execution_count": 2,
   "metadata": {},
   "outputs": [],
   "source": [
    "rows = 10000\n",
    "index = pd.date_range(dt.datetime.now().date(), periods=rows, freq='H')\n",
    "df15 = pd.DataFrame(np.random.standard_normal((rows, 5)),\n",
    "                  columns=['No1', 'No2', 'No3', 'No4', 'No5'],\n",
    "                  index=index)"
   ]
  },
  {
   "cell_type": "code",
   "execution_count": 3,
   "metadata": {},
   "outputs": [
    {
     "name": "stdout",
     "output_type": "stream",
     "text": [
      "<class 'pandas.core.frame.DataFrame'>\n",
      "DatetimeIndex: 10000 entries, 2021-03-11 00:00:00 to 2022-05-01 15:00:00\n",
      "Freq: H\n",
      "Data columns (total 5 columns):\n",
      " #   Column  Non-Null Count  Dtype  \n",
      "---  ------  --------------  -----  \n",
      " 0   No1     10000 non-null  float64\n",
      " 1   No2     10000 non-null  float64\n",
      " 2   No3     10000 non-null  float64\n",
      " 3   No4     10000 non-null  float64\n",
      " 4   No5     10000 non-null  float64\n",
      "dtypes: float64(5)\n",
      "memory usage: 468.8 KB\n"
     ]
    }
   ],
   "source": [
    "df15.info()"
   ]
  },
  {
   "cell_type": "code",
   "execution_count": 4,
   "metadata": {},
   "outputs": [
    {
     "data": {
      "text/html": [
       "<div>\n",
       "<style scoped>\n",
       "    .dataframe tbody tr th:only-of-type {\n",
       "        vertical-align: middle;\n",
       "    }\n",
       "\n",
       "    .dataframe tbody tr th {\n",
       "        vertical-align: top;\n",
       "    }\n",
       "\n",
       "    .dataframe thead th {\n",
       "        text-align: right;\n",
       "    }\n",
       "</style>\n",
       "<table border=\"1\" class=\"dataframe\">\n",
       "  <thead>\n",
       "    <tr style=\"text-align: right;\">\n",
       "      <th></th>\n",
       "      <th>No1</th>\n",
       "      <th>No2</th>\n",
       "      <th>No3</th>\n",
       "      <th>No4</th>\n",
       "      <th>No5</th>\n",
       "      <th>Gr1</th>\n",
       "    </tr>\n",
       "  </thead>\n",
       "  <tbody>\n",
       "    <tr>\n",
       "      <th>2022-05-01 11:00:00</th>\n",
       "      <td>-0.887091</td>\n",
       "      <td>0.317920</td>\n",
       "      <td>0.297427</td>\n",
       "      <td>0.435270</td>\n",
       "      <td>0.200060</td>\n",
       "      <td>D</td>\n",
       "    </tr>\n",
       "    <tr>\n",
       "      <th>2022-05-01 12:00:00</th>\n",
       "      <td>-1.531707</td>\n",
       "      <td>0.374838</td>\n",
       "      <td>-0.713601</td>\n",
       "      <td>-0.058104</td>\n",
       "      <td>1.505703</td>\n",
       "      <td>C</td>\n",
       "    </tr>\n",
       "    <tr>\n",
       "      <th>2022-05-01 13:00:00</th>\n",
       "      <td>1.086346</td>\n",
       "      <td>0.964533</td>\n",
       "      <td>-1.071078</td>\n",
       "      <td>0.639028</td>\n",
       "      <td>-1.457191</td>\n",
       "      <td>A</td>\n",
       "    </tr>\n",
       "    <tr>\n",
       "      <th>2022-05-01 14:00:00</th>\n",
       "      <td>-0.165824</td>\n",
       "      <td>-0.466519</td>\n",
       "      <td>0.704171</td>\n",
       "      <td>-1.311959</td>\n",
       "      <td>-0.626384</td>\n",
       "      <td>A</td>\n",
       "    </tr>\n",
       "    <tr>\n",
       "      <th>2022-05-01 15:00:00</th>\n",
       "      <td>0.333544</td>\n",
       "      <td>1.586647</td>\n",
       "      <td>-0.036260</td>\n",
       "      <td>0.039532</td>\n",
       "      <td>-0.263745</td>\n",
       "      <td>D</td>\n",
       "    </tr>\n",
       "  </tbody>\n",
       "</table>\n",
       "</div>"
      ],
      "text/plain": [
       "                          No1       No2       No3       No4       No5 Gr1\n",
       "2022-05-01 11:00:00 -0.887091  0.317920  0.297427  0.435270  0.200060   D\n",
       "2022-05-01 12:00:00 -1.531707  0.374838 -0.713601 -0.058104  1.505703   C\n",
       "2022-05-01 13:00:00  1.086346  0.964533 -1.071078  0.639028 -1.457191   A\n",
       "2022-05-01 14:00:00 -0.165824 -0.466519  0.704171 -1.311959 -0.626384   A\n",
       "2022-05-01 15:00:00  0.333544  1.586647 -0.036260  0.039532 -0.263745   D"
      ]
     },
     "execution_count": 4,
     "metadata": {},
     "output_type": "execute_result"
    }
   ],
   "source": [
    "df15['Gr1'] = np.random.choice(['A', 'B', 'C', 'D'], rows)\n",
    "df15.tail()"
   ]
  },
  {
   "cell_type": "code",
   "execution_count": 5,
   "metadata": {},
   "outputs": [],
   "source": [
    "grouped = df15.groupby('Gr1')"
   ]
  },
  {
   "cell_type": "markdown",
   "metadata": {},
   "source": [
    "<a id='cell65'></a>"
   ]
  },
  {
   "cell_type": "code",
   "execution_count": 6,
   "metadata": {},
   "outputs": [
    {
     "data": {
      "text/plain": [
       "Gr1\n",
       "A    2583\n",
       "B    2534\n",
       "C    2478\n",
       "D    2405\n",
       "dtype: int64"
      ]
     },
     "execution_count": 6,
     "metadata": {},
     "output_type": "execute_result"
    }
   ],
   "source": [
    "grouped.size()"
   ]
  },
  {
   "cell_type": "markdown",
   "metadata": {},
   "source": [
    "<a id='cell66'></a>"
   ]
  },
  {
   "cell_type": "code",
   "execution_count": 7,
   "metadata": {},
   "outputs": [
    {
     "data": {
      "text/html": [
       "<div>\n",
       "<style scoped>\n",
       "    .dataframe tbody tr th:only-of-type {\n",
       "        vertical-align: middle;\n",
       "    }\n",
       "\n",
       "    .dataframe tbody tr th {\n",
       "        vertical-align: top;\n",
       "    }\n",
       "\n",
       "    .dataframe thead th {\n",
       "        text-align: right;\n",
       "    }\n",
       "</style>\n",
       "<table border=\"1\" class=\"dataframe\">\n",
       "  <thead>\n",
       "    <tr style=\"text-align: right;\">\n",
       "      <th></th>\n",
       "      <th>No1</th>\n",
       "      <th>No2</th>\n",
       "      <th>No3</th>\n",
       "      <th>No4</th>\n",
       "      <th>No5</th>\n",
       "    </tr>\n",
       "    <tr>\n",
       "      <th>Gr1</th>\n",
       "      <th></th>\n",
       "      <th></th>\n",
       "      <th></th>\n",
       "      <th></th>\n",
       "      <th></th>\n",
       "    </tr>\n",
       "  </thead>\n",
       "  <tbody>\n",
       "    <tr>\n",
       "      <th>A</th>\n",
       "      <td>29.732066</td>\n",
       "      <td>98.856340</td>\n",
       "      <td>55.955008</td>\n",
       "      <td>-53.660189</td>\n",
       "      <td>-60.077010</td>\n",
       "    </tr>\n",
       "    <tr>\n",
       "      <th>B</th>\n",
       "      <td>-25.671148</td>\n",
       "      <td>-41.476577</td>\n",
       "      <td>25.333973</td>\n",
       "      <td>-61.538730</td>\n",
       "      <td>-17.356354</td>\n",
       "    </tr>\n",
       "    <tr>\n",
       "      <th>C</th>\n",
       "      <td>69.348083</td>\n",
       "      <td>108.959591</td>\n",
       "      <td>-31.448150</td>\n",
       "      <td>82.590650</td>\n",
       "      <td>77.305324</td>\n",
       "    </tr>\n",
       "    <tr>\n",
       "      <th>D</th>\n",
       "      <td>-9.662849</td>\n",
       "      <td>17.885859</td>\n",
       "      <td>31.917162</td>\n",
       "      <td>76.817594</td>\n",
       "      <td>10.006910</td>\n",
       "    </tr>\n",
       "  </tbody>\n",
       "</table>\n",
       "</div>"
      ],
      "text/plain": [
       "           No1         No2        No3        No4        No5\n",
       "Gr1                                                        \n",
       "A    29.732066   98.856340  55.955008 -53.660189 -60.077010\n",
       "B   -25.671148  -41.476577  25.333973 -61.538730 -17.356354\n",
       "C    69.348083  108.959591 -31.448150  82.590650  77.305324\n",
       "D    -9.662849   17.885859  31.917162  76.817594  10.006910"
      ]
     },
     "execution_count": 7,
     "metadata": {},
     "output_type": "execute_result"
    }
   ],
   "source": [
    "grouped.sum()"
   ]
  },
  {
   "cell_type": "markdown",
   "metadata": {},
   "source": [
    "<a id='cell67'></a>"
   ]
  },
  {
   "cell_type": "code",
   "execution_count": 8,
   "metadata": {},
   "outputs": [
    {
     "data": {
      "text/html": [
       "<div>\n",
       "<style scoped>\n",
       "    .dataframe tbody tr th:only-of-type {\n",
       "        vertical-align: middle;\n",
       "    }\n",
       "\n",
       "    .dataframe tbody tr th {\n",
       "        vertical-align: top;\n",
       "    }\n",
       "\n",
       "    .dataframe thead tr th {\n",
       "        text-align: left;\n",
       "    }\n",
       "\n",
       "    .dataframe thead tr:last-of-type th {\n",
       "        text-align: right;\n",
       "    }\n",
       "</style>\n",
       "<table border=\"1\" class=\"dataframe\">\n",
       "  <thead>\n",
       "    <tr>\n",
       "      <th></th>\n",
       "      <th colspan=\"8\" halign=\"left\">No1</th>\n",
       "      <th colspan=\"2\" halign=\"left\">No2</th>\n",
       "      <th>...</th>\n",
       "      <th colspan=\"2\" halign=\"left\">No4</th>\n",
       "      <th colspan=\"8\" halign=\"left\">No5</th>\n",
       "    </tr>\n",
       "    <tr>\n",
       "      <th></th>\n",
       "      <th>count</th>\n",
       "      <th>mean</th>\n",
       "      <th>std</th>\n",
       "      <th>min</th>\n",
       "      <th>25%</th>\n",
       "      <th>50%</th>\n",
       "      <th>75%</th>\n",
       "      <th>max</th>\n",
       "      <th>count</th>\n",
       "      <th>mean</th>\n",
       "      <th>...</th>\n",
       "      <th>75%</th>\n",
       "      <th>max</th>\n",
       "      <th>count</th>\n",
       "      <th>mean</th>\n",
       "      <th>std</th>\n",
       "      <th>min</th>\n",
       "      <th>25%</th>\n",
       "      <th>50%</th>\n",
       "      <th>75%</th>\n",
       "      <th>max</th>\n",
       "    </tr>\n",
       "    <tr>\n",
       "      <th>Gr1</th>\n",
       "      <th></th>\n",
       "      <th></th>\n",
       "      <th></th>\n",
       "      <th></th>\n",
       "      <th></th>\n",
       "      <th></th>\n",
       "      <th></th>\n",
       "      <th></th>\n",
       "      <th></th>\n",
       "      <th></th>\n",
       "      <th></th>\n",
       "      <th></th>\n",
       "      <th></th>\n",
       "      <th></th>\n",
       "      <th></th>\n",
       "      <th></th>\n",
       "      <th></th>\n",
       "      <th></th>\n",
       "      <th></th>\n",
       "      <th></th>\n",
       "      <th></th>\n",
       "    </tr>\n",
       "  </thead>\n",
       "  <tbody>\n",
       "    <tr>\n",
       "      <th>A</th>\n",
       "      <td>2583.0</td>\n",
       "      <td>0.011511</td>\n",
       "      <td>0.977406</td>\n",
       "      <td>-3.248619</td>\n",
       "      <td>-0.659752</td>\n",
       "      <td>0.008135</td>\n",
       "      <td>0.672748</td>\n",
       "      <td>3.332830</td>\n",
       "      <td>2583.0</td>\n",
       "      <td>0.038272</td>\n",
       "      <td>...</td>\n",
       "      <td>0.651862</td>\n",
       "      <td>3.122054</td>\n",
       "      <td>2583.0</td>\n",
       "      <td>-0.023259</td>\n",
       "      <td>0.997826</td>\n",
       "      <td>-3.058306</td>\n",
       "      <td>-0.721647</td>\n",
       "      <td>-0.019177</td>\n",
       "      <td>0.661730</td>\n",
       "      <td>3.365736</td>\n",
       "    </tr>\n",
       "    <tr>\n",
       "      <th>B</th>\n",
       "      <td>2534.0</td>\n",
       "      <td>-0.010131</td>\n",
       "      <td>0.990686</td>\n",
       "      <td>-3.314078</td>\n",
       "      <td>-0.700909</td>\n",
       "      <td>-0.006688</td>\n",
       "      <td>0.684694</td>\n",
       "      <td>3.723404</td>\n",
       "      <td>2534.0</td>\n",
       "      <td>-0.016368</td>\n",
       "      <td>...</td>\n",
       "      <td>0.639956</td>\n",
       "      <td>4.260066</td>\n",
       "      <td>2534.0</td>\n",
       "      <td>-0.006849</td>\n",
       "      <td>0.987110</td>\n",
       "      <td>-3.458563</td>\n",
       "      <td>-0.698538</td>\n",
       "      <td>-0.003551</td>\n",
       "      <td>0.671088</td>\n",
       "      <td>3.060335</td>\n",
       "    </tr>\n",
       "    <tr>\n",
       "      <th>C</th>\n",
       "      <td>2478.0</td>\n",
       "      <td>0.027986</td>\n",
       "      <td>0.978814</td>\n",
       "      <td>-3.439068</td>\n",
       "      <td>-0.621410</td>\n",
       "      <td>0.011024</td>\n",
       "      <td>0.711840</td>\n",
       "      <td>4.100058</td>\n",
       "      <td>2478.0</td>\n",
       "      <td>0.043971</td>\n",
       "      <td>...</td>\n",
       "      <td>0.718899</td>\n",
       "      <td>3.607475</td>\n",
       "      <td>2478.0</td>\n",
       "      <td>0.031197</td>\n",
       "      <td>0.988573</td>\n",
       "      <td>-3.139627</td>\n",
       "      <td>-0.632950</td>\n",
       "      <td>0.048729</td>\n",
       "      <td>0.682555</td>\n",
       "      <td>3.357407</td>\n",
       "    </tr>\n",
       "    <tr>\n",
       "      <th>D</th>\n",
       "      <td>2405.0</td>\n",
       "      <td>-0.004018</td>\n",
       "      <td>1.000550</td>\n",
       "      <td>-3.373050</td>\n",
       "      <td>-0.676120</td>\n",
       "      <td>-0.019841</td>\n",
       "      <td>0.672746</td>\n",
       "      <td>3.241865</td>\n",
       "      <td>2405.0</td>\n",
       "      <td>0.007437</td>\n",
       "      <td>...</td>\n",
       "      <td>0.710765</td>\n",
       "      <td>3.409182</td>\n",
       "      <td>2405.0</td>\n",
       "      <td>0.004161</td>\n",
       "      <td>0.979763</td>\n",
       "      <td>-4.681544</td>\n",
       "      <td>-0.679384</td>\n",
       "      <td>-0.000652</td>\n",
       "      <td>0.648066</td>\n",
       "      <td>3.419319</td>\n",
       "    </tr>\n",
       "  </tbody>\n",
       "</table>\n",
       "<p>4 rows × 40 columns</p>\n",
       "</div>"
      ],
      "text/plain": [
       "        No1                                                              \\\n",
       "      count      mean       std       min       25%       50%       75%   \n",
       "Gr1                                                                       \n",
       "A    2583.0  0.011511  0.977406 -3.248619 -0.659752  0.008135  0.672748   \n",
       "B    2534.0 -0.010131  0.990686 -3.314078 -0.700909 -0.006688  0.684694   \n",
       "C    2478.0  0.027986  0.978814 -3.439068 -0.621410  0.011024  0.711840   \n",
       "D    2405.0 -0.004018  1.000550 -3.373050 -0.676120 -0.019841  0.672746   \n",
       "\n",
       "                  No2            ...       No4               No5            \\\n",
       "          max   count      mean  ...       75%       max   count      mean   \n",
       "Gr1                              ...                                         \n",
       "A    3.332830  2583.0  0.038272  ...  0.651862  3.122054  2583.0 -0.023259   \n",
       "B    3.723404  2534.0 -0.016368  ...  0.639956  4.260066  2534.0 -0.006849   \n",
       "C    4.100058  2478.0  0.043971  ...  0.718899  3.607475  2478.0  0.031197   \n",
       "D    3.241865  2405.0  0.007437  ...  0.710765  3.409182  2405.0  0.004161   \n",
       "\n",
       "                                                                 \n",
       "          std       min       25%       50%       75%       max  \n",
       "Gr1                                                              \n",
       "A    0.997826 -3.058306 -0.721647 -0.019177  0.661730  3.365736  \n",
       "B    0.987110 -3.458563 -0.698538 -0.003551  0.671088  3.060335  \n",
       "C    0.988573 -3.139627 -0.632950  0.048729  0.682555  3.357407  \n",
       "D    0.979763 -4.681544 -0.679384 -0.000652  0.648066  3.419319  \n",
       "\n",
       "[4 rows x 40 columns]"
      ]
     },
     "execution_count": 8,
     "metadata": {},
     "output_type": "execute_result"
    }
   ],
   "source": [
    "grouped.describe()"
   ]
  },
  {
   "cell_type": "markdown",
   "metadata": {},
   "source": [
    "<a id='cell68'></a>"
   ]
  },
  {
   "cell_type": "code",
   "execution_count": 9,
   "metadata": {},
   "outputs": [
    {
     "data": {
      "text/html": [
       "<div>\n",
       "<style scoped>\n",
       "    .dataframe tbody tr th:only-of-type {\n",
       "        vertical-align: middle;\n",
       "    }\n",
       "\n",
       "    .dataframe tbody tr th {\n",
       "        vertical-align: top;\n",
       "    }\n",
       "\n",
       "    .dataframe thead th {\n",
       "        text-align: right;\n",
       "    }\n",
       "</style>\n",
       "<table border=\"1\" class=\"dataframe\">\n",
       "  <thead>\n",
       "    <tr style=\"text-align: right;\">\n",
       "      <th></th>\n",
       "      <th>No1</th>\n",
       "      <th>No2</th>\n",
       "      <th>No3</th>\n",
       "      <th>No4</th>\n",
       "      <th>No5</th>\n",
       "      <th>Gr1</th>\n",
       "    </tr>\n",
       "  </thead>\n",
       "  <tbody>\n",
       "    <tr>\n",
       "      <th>2021-03-11 05:00:00</th>\n",
       "      <td>0.474727</td>\n",
       "      <td>0.138335</td>\n",
       "      <td>-0.282316</td>\n",
       "      <td>-0.857305</td>\n",
       "      <td>0.639478</td>\n",
       "      <td>A</td>\n",
       "    </tr>\n",
       "    <tr>\n",
       "      <th>2021-03-11 08:00:00</th>\n",
       "      <td>1.312474</td>\n",
       "      <td>-0.322464</td>\n",
       "      <td>0.587328</td>\n",
       "      <td>-1.508277</td>\n",
       "      <td>0.313230</td>\n",
       "      <td>A</td>\n",
       "    </tr>\n",
       "    <tr>\n",
       "      <th>2021-03-11 11:00:00</th>\n",
       "      <td>0.352732</td>\n",
       "      <td>0.656124</td>\n",
       "      <td>0.040001</td>\n",
       "      <td>0.075800</td>\n",
       "      <td>1.235152</td>\n",
       "      <td>A</td>\n",
       "    </tr>\n",
       "    <tr>\n",
       "      <th>2021-03-11 15:00:00</th>\n",
       "      <td>-0.334606</td>\n",
       "      <td>-0.285405</td>\n",
       "      <td>-0.454294</td>\n",
       "      <td>-1.211026</td>\n",
       "      <td>-0.378690</td>\n",
       "      <td>A</td>\n",
       "    </tr>\n",
       "    <tr>\n",
       "      <th>2021-03-11 17:00:00</th>\n",
       "      <td>-0.462368</td>\n",
       "      <td>0.583556</td>\n",
       "      <td>-0.162064</td>\n",
       "      <td>-0.653764</td>\n",
       "      <td>0.071646</td>\n",
       "      <td>A</td>\n",
       "    </tr>\n",
       "  </tbody>\n",
       "</table>\n",
       "</div>"
      ],
      "text/plain": [
       "                          No1       No2       No3       No4       No5 Gr1\n",
       "2021-03-11 05:00:00  0.474727  0.138335 -0.282316 -0.857305  0.639478   A\n",
       "2021-03-11 08:00:00  1.312474 -0.322464  0.587328 -1.508277  0.313230   A\n",
       "2021-03-11 11:00:00  0.352732  0.656124  0.040001  0.075800  1.235152   A\n",
       "2021-03-11 15:00:00 -0.334606 -0.285405 -0.454294 -1.211026 -0.378690   A\n",
       "2021-03-11 17:00:00 -0.462368  0.583556 -0.162064 -0.653764  0.071646   A"
      ]
     },
     "execution_count": 9,
     "metadata": {},
     "output_type": "execute_result"
    }
   ],
   "source": [
    "# how to select an specific group\n",
    "grouped.get_group('A').head()"
   ]
  },
  {
   "cell_type": "markdown",
   "metadata": {},
   "source": [
    "<a id='cell69'></a>\n",
    "### Custom agregations"
   ]
  },
  {
   "cell_type": "code",
   "execution_count": 10,
   "metadata": {},
   "outputs": [
    {
     "data": {
      "text/html": [
       "<div>\n",
       "<style scoped>\n",
       "    .dataframe tbody tr th:only-of-type {\n",
       "        vertical-align: middle;\n",
       "    }\n",
       "\n",
       "    .dataframe tbody tr th {\n",
       "        vertical-align: top;\n",
       "    }\n",
       "\n",
       "    .dataframe thead th {\n",
       "        text-align: right;\n",
       "    }\n",
       "</style>\n",
       "<table border=\"1\" class=\"dataframe\">\n",
       "  <thead>\n",
       "    <tr style=\"text-align: right;\">\n",
       "      <th></th>\n",
       "      <th>No1</th>\n",
       "      <th>No3</th>\n",
       "    </tr>\n",
       "    <tr>\n",
       "      <th>Gr1</th>\n",
       "      <th></th>\n",
       "      <th></th>\n",
       "    </tr>\n",
       "  </thead>\n",
       "  <tbody>\n",
       "    <tr>\n",
       "      <th>A</th>\n",
       "      <td>0.011511</td>\n",
       "      <td>0.992976</td>\n",
       "    </tr>\n",
       "    <tr>\n",
       "      <th>B</th>\n",
       "      <td>-0.010131</td>\n",
       "      <td>1.028365</td>\n",
       "    </tr>\n",
       "    <tr>\n",
       "      <th>C</th>\n",
       "      <td>0.027986</td>\n",
       "      <td>1.007530</td>\n",
       "    </tr>\n",
       "    <tr>\n",
       "      <th>D</th>\n",
       "      <td>-0.004018</td>\n",
       "      <td>0.997613</td>\n",
       "    </tr>\n",
       "  </tbody>\n",
       "</table>\n",
       "</div>"
      ],
      "text/plain": [
       "          No1       No3\n",
       "Gr1                    \n",
       "A    0.011511  0.992976\n",
       "B   -0.010131  1.028365\n",
       "C    0.027986  1.007530\n",
       "D   -0.004018  0.997613"
      ]
     },
     "execution_count": 10,
     "metadata": {},
     "output_type": "execute_result"
    }
   ],
   "source": [
    "grouped.aggregate({'No1' : np.mean,'No3' : np.std})"
   ]
  },
  {
   "cell_type": "markdown",
   "metadata": {},
   "source": [
    "<a id='cell70'></a>"
   ]
  },
  {
   "cell_type": "code",
   "execution_count": 11,
   "metadata": {},
   "outputs": [
    {
     "data": {
      "image/png": "[encoded data removed]",
      "text/plain": [
       "<Figure size 432x288 with 1 Axes>"
      ]
     },
     "metadata": {},
     "output_type": "display_data"
    }
   ],
   "source": [
    "grouped.mean().plot(kind='barh');"
   ]
  },
  {
   "cell_type": "code",
   "execution_count": 12,
   "metadata": {},
   "outputs": [],
   "source": [
    "ff = lambda x: x.hour % 2 == 0"
   ]
  },
  {
   "cell_type": "markdown",
   "metadata": {},
   "source": [
    "<a id='cell71'></a>"
   ]
  },
  {
   "cell_type": "code",
   "execution_count": 13,
   "metadata": {},
   "outputs": [
    {
     "data": {
      "text/html": [
       "<div>\n",
       "<style scoped>\n",
       "    .dataframe tbody tr th:only-of-type {\n",
       "        vertical-align: middle;\n",
       "    }\n",
       "\n",
       "    .dataframe tbody tr th {\n",
       "        vertical-align: top;\n",
       "    }\n",
       "\n",
       "    .dataframe thead th {\n",
       "        text-align: right;\n",
       "    }\n",
       "</style>\n",
       "<table border=\"1\" class=\"dataframe\">\n",
       "  <thead>\n",
       "    <tr style=\"text-align: right;\">\n",
       "      <th></th>\n",
       "      <th>No1</th>\n",
       "      <th>No2</th>\n",
       "      <th>No3</th>\n",
       "      <th>No4</th>\n",
       "      <th>No5</th>\n",
       "      <th>Gr1</th>\n",
       "      <th>Gr2</th>\n",
       "    </tr>\n",
       "  </thead>\n",
       "  <tbody>\n",
       "    <tr>\n",
       "      <th>2022-05-01 11:00:00</th>\n",
       "      <td>-0.887091</td>\n",
       "      <td>0.317920</td>\n",
       "      <td>0.297427</td>\n",
       "      <td>0.435270</td>\n",
       "      <td>0.200060</td>\n",
       "      <td>D</td>\n",
       "      <td>odd</td>\n",
       "    </tr>\n",
       "    <tr>\n",
       "      <th>2022-05-01 12:00:00</th>\n",
       "      <td>-1.531707</td>\n",
       "      <td>0.374838</td>\n",
       "      <td>-0.713601</td>\n",
       "      <td>-0.058104</td>\n",
       "      <td>1.505703</td>\n",
       "      <td>C</td>\n",
       "      <td>even</td>\n",
       "    </tr>\n",
       "    <tr>\n",
       "      <th>2022-05-01 13:00:00</th>\n",
       "      <td>1.086346</td>\n",
       "      <td>0.964533</td>\n",
       "      <td>-1.071078</td>\n",
       "      <td>0.639028</td>\n",
       "      <td>-1.457191</td>\n",
       "      <td>A</td>\n",
       "      <td>odd</td>\n",
       "    </tr>\n",
       "    <tr>\n",
       "      <th>2022-05-01 14:00:00</th>\n",
       "      <td>-0.165824</td>\n",
       "      <td>-0.466519</td>\n",
       "      <td>0.704171</td>\n",
       "      <td>-1.311959</td>\n",
       "      <td>-0.626384</td>\n",
       "      <td>A</td>\n",
       "      <td>even</td>\n",
       "    </tr>\n",
       "    <tr>\n",
       "      <th>2022-05-01 15:00:00</th>\n",
       "      <td>0.333544</td>\n",
       "      <td>1.586647</td>\n",
       "      <td>-0.036260</td>\n",
       "      <td>0.039532</td>\n",
       "      <td>-0.263745</td>\n",
       "      <td>D</td>\n",
       "      <td>odd</td>\n",
       "    </tr>\n",
       "  </tbody>\n",
       "</table>\n",
       "</div>"
      ],
      "text/plain": [
       "                          No1       No2       No3       No4       No5 Gr1  \\\n",
       "2022-05-01 11:00:00 -0.887091  0.317920  0.297427  0.435270  0.200060   D   \n",
       "2022-05-01 12:00:00 -1.531707  0.374838 -0.713601 -0.058104  1.505703   C   \n",
       "2022-05-01 13:00:00  1.086346  0.964533 -1.071078  0.639028 -1.457191   A   \n",
       "2022-05-01 14:00:00 -0.165824 -0.466519  0.704171 -1.311959 -0.626384   A   \n",
       "2022-05-01 15:00:00  0.333544  1.586647 -0.036260  0.039532 -0.263745   D   \n",
       "\n",
       "                      Gr2  \n",
       "2022-05-01 11:00:00   odd  \n",
       "2022-05-01 12:00:00  even  \n",
       "2022-05-01 13:00:00   odd  \n",
       "2022-05-01 14:00:00  even  \n",
       "2022-05-01 15:00:00   odd  "
      ]
     },
     "execution_count": 13,
     "metadata": {},
     "output_type": "execute_result"
    }
   ],
   "source": [
    "df15['Gr2'] = np.where(ff(df15.index), 'even','odd')\n",
    "df15.tail()"
   ]
  },
  {
   "cell_type": "markdown",
   "metadata": {},
   "source": [
    "### Grouping using multiple columns"
   ]
  },
  {
   "cell_type": "code",
   "execution_count": 14,
   "metadata": {},
   "outputs": [
    {
     "data": {
      "text/plain": [
       "Gr1  Gr2 \n",
       "A    even    1306\n",
       "     odd     1277\n",
       "B    even    1289\n",
       "     odd     1245\n",
       "C    even    1231\n",
       "     odd     1247\n",
       "D    even    1174\n",
       "     odd     1231\n",
       "dtype: int64"
      ]
     },
     "execution_count": 14,
     "metadata": {},
     "output_type": "execute_result"
    }
   ],
   "source": [
    "grouped1 = df15.groupby(['Gr1','Gr2'])\n",
    "grouped1.size()"
   ]
  },
  {
   "cell_type": "code",
   "execution_count": 15,
   "metadata": {},
   "outputs": [
    {
     "data": {
      "text/html": [
       "<div>\n",
       "<style scoped>\n",
       "    .dataframe tbody tr th:only-of-type {\n",
       "        vertical-align: middle;\n",
       "    }\n",
       "\n",
       "    .dataframe tbody tr th {\n",
       "        vertical-align: top;\n",
       "    }\n",
       "\n",
       "    .dataframe thead tr th {\n",
       "        text-align: left;\n",
       "    }\n",
       "\n",
       "    .dataframe thead tr:last-of-type th {\n",
       "        text-align: right;\n",
       "    }\n",
       "</style>\n",
       "<table border=\"1\" class=\"dataframe\">\n",
       "  <thead>\n",
       "    <tr>\n",
       "      <th></th>\n",
       "      <th></th>\n",
       "      <th colspan=\"3\" halign=\"left\">No1</th>\n",
       "      <th colspan=\"3\" halign=\"left\">No2</th>\n",
       "    </tr>\n",
       "    <tr>\n",
       "      <th></th>\n",
       "      <th></th>\n",
       "      <th>amin</th>\n",
       "      <th>mean</th>\n",
       "      <th>amax</th>\n",
       "      <th>amin</th>\n",
       "      <th>mean</th>\n",
       "      <th>amax</th>\n",
       "    </tr>\n",
       "    <tr>\n",
       "      <th>Gr1</th>\n",
       "      <th>Gr2</th>\n",
       "      <th></th>\n",
       "      <th></th>\n",
       "      <th></th>\n",
       "      <th></th>\n",
       "      <th></th>\n",
       "      <th></th>\n",
       "    </tr>\n",
       "  </thead>\n",
       "  <tbody>\n",
       "    <tr>\n",
       "      <th rowspan=\"2\" valign=\"top\">A</th>\n",
       "      <th>even</th>\n",
       "      <td>-3.248619</td>\n",
       "      <td>-0.004454</td>\n",
       "      <td>3.055120</td>\n",
       "      <td>-2.853978</td>\n",
       "      <td>0.066653</td>\n",
       "      <td>3.809258</td>\n",
       "    </tr>\n",
       "    <tr>\n",
       "      <th>odd</th>\n",
       "      <td>-3.231259</td>\n",
       "      <td>0.027838</td>\n",
       "      <td>3.332830</td>\n",
       "      <td>-3.217984</td>\n",
       "      <td>0.009246</td>\n",
       "      <td>3.345364</td>\n",
       "    </tr>\n",
       "    <tr>\n",
       "      <th rowspan=\"2\" valign=\"top\">B</th>\n",
       "      <th>even</th>\n",
       "      <td>-2.811541</td>\n",
       "      <td>0.014153</td>\n",
       "      <td>3.723404</td>\n",
       "      <td>-3.217616</td>\n",
       "      <td>-0.034833</td>\n",
       "      <td>3.307314</td>\n",
       "    </tr>\n",
       "    <tr>\n",
       "      <th>odd</th>\n",
       "      <td>-3.314078</td>\n",
       "      <td>-0.035272</td>\n",
       "      <td>3.482096</td>\n",
       "      <td>-2.928966</td>\n",
       "      <td>0.002750</td>\n",
       "      <td>3.696453</td>\n",
       "    </tr>\n",
       "    <tr>\n",
       "      <th rowspan=\"2\" valign=\"top\">C</th>\n",
       "      <th>even</th>\n",
       "      <td>-2.649764</td>\n",
       "      <td>-0.022637</td>\n",
       "      <td>3.446009</td>\n",
       "      <td>-3.117646</td>\n",
       "      <td>0.042859</td>\n",
       "      <td>3.031052</td>\n",
       "    </tr>\n",
       "    <tr>\n",
       "      <th>odd</th>\n",
       "      <td>-3.439068</td>\n",
       "      <td>0.077959</td>\n",
       "      <td>4.100058</td>\n",
       "      <td>-2.888569</td>\n",
       "      <td>0.045069</td>\n",
       "      <td>3.240064</td>\n",
       "    </tr>\n",
       "    <tr>\n",
       "      <th rowspan=\"2\" valign=\"top\">D</th>\n",
       "      <th>even</th>\n",
       "      <td>-3.276391</td>\n",
       "      <td>0.017478</td>\n",
       "      <td>3.183436</td>\n",
       "      <td>-2.852793</td>\n",
       "      <td>0.004535</td>\n",
       "      <td>3.131251</td>\n",
       "    </tr>\n",
       "    <tr>\n",
       "      <th>odd</th>\n",
       "      <td>-3.373050</td>\n",
       "      <td>-0.024518</td>\n",
       "      <td>3.241865</td>\n",
       "      <td>-2.783996</td>\n",
       "      <td>0.010204</td>\n",
       "      <td>3.703055</td>\n",
       "    </tr>\n",
       "  </tbody>\n",
       "</table>\n",
       "</div>"
      ],
      "text/plain": [
       "               No1                           No2                    \n",
       "              amin      mean      amax      amin      mean      amax\n",
       "Gr1 Gr2                                                             \n",
       "A   even -3.248619 -0.004454  3.055120 -2.853978  0.066653  3.809258\n",
       "    odd  -3.231259  0.027838  3.332830 -3.217984  0.009246  3.345364\n",
       "B   even -2.811541  0.014153  3.723404 -3.217616 -0.034833  3.307314\n",
       "    odd  -3.314078 -0.035272  3.482096 -2.928966  0.002750  3.696453\n",
       "C   even -2.649764 -0.022637  3.446009 -3.117646  0.042859  3.031052\n",
       "    odd  -3.439068  0.077959  4.100058 -2.888569  0.045069  3.240064\n",
       "D   even -3.276391  0.017478  3.183436 -2.852793  0.004535  3.131251\n",
       "    odd  -3.373050 -0.024518  3.241865 -2.783996  0.010204  3.703055"
      ]
     },
     "execution_count": 15,
     "metadata": {},
     "output_type": "execute_result"
    }
   ],
   "source": [
    "grouped1.aggregate([np.min, np.mean, np.max])[['No1', 'No2']]"
   ]
  },
  {
   "cell_type": "code",
   "execution_count": 16,
   "metadata": {},
   "outputs": [
    {
     "data": {
      "image/png": "[encoded data removed]",
      "text/plain": [
       "<Figure size 432x288 with 1 Axes>"
      ]
     },
     "metadata": {},
     "output_type": "display_data"
    }
   ],
   "source": [
    "grouped1.aggregate([np.min, np.mean, np.max])[['No1', 'No2']].boxplot(\n",
    "                    return_type='dict');"
   ]
  },
  {
   "cell_type": "markdown",
   "metadata": {},
   "source": [
    "<a id='cell72'></a>"
   ]
  },
  {
   "cell_type": "code",
   "execution_count": 17,
   "metadata": {},
   "outputs": [
    {
     "data": {
      "text/html": [
       "<div>\n",
       "<style scoped>\n",
       "    .dataframe tbody tr th:only-of-type {\n",
       "        vertical-align: middle;\n",
       "    }\n",
       "\n",
       "    .dataframe tbody tr th {\n",
       "        vertical-align: top;\n",
       "    }\n",
       "\n",
       "    .dataframe thead th {\n",
       "        text-align: right;\n",
       "    }\n",
       "</style>\n",
       "<table border=\"1\" class=\"dataframe\">\n",
       "  <thead>\n",
       "    <tr style=\"text-align: right;\">\n",
       "      <th></th>\n",
       "      <th>No1</th>\n",
       "      <th>No2</th>\n",
       "      <th>No3</th>\n",
       "      <th>No4</th>\n",
       "      <th>No5</th>\n",
       "      <th>Gr1</th>\n",
       "      <th>Gr2</th>\n",
       "    </tr>\n",
       "  </thead>\n",
       "  <tbody>\n",
       "    <tr>\n",
       "      <th>2021-03-11 01:00:00</th>\n",
       "      <td>0.823191</td>\n",
       "      <td>0.497618</td>\n",
       "      <td>-0.634967</td>\n",
       "      <td>-0.308196</td>\n",
       "      <td>-0.194013</td>\n",
       "      <td>C</td>\n",
       "      <td>odd</td>\n",
       "    </tr>\n",
       "    <tr>\n",
       "      <th>2021-03-11 03:00:00</th>\n",
       "      <td>-0.855071</td>\n",
       "      <td>1.928538</td>\n",
       "      <td>0.107533</td>\n",
       "      <td>-0.310325</td>\n",
       "      <td>0.336042</td>\n",
       "      <td>C</td>\n",
       "      <td>odd</td>\n",
       "    </tr>\n",
       "    <tr>\n",
       "      <th>2021-03-11 04:00:00</th>\n",
       "      <td>0.719777</td>\n",
       "      <td>1.037730</td>\n",
       "      <td>-1.531390</td>\n",
       "      <td>0.809874</td>\n",
       "      <td>0.234152</td>\n",
       "      <td>C</td>\n",
       "      <td>even</td>\n",
       "    </tr>\n",
       "    <tr>\n",
       "      <th>2021-03-11 05:00:00</th>\n",
       "      <td>0.474727</td>\n",
       "      <td>0.138335</td>\n",
       "      <td>-0.282316</td>\n",
       "      <td>-0.857305</td>\n",
       "      <td>0.639478</td>\n",
       "      <td>A</td>\n",
       "      <td>odd</td>\n",
       "    </tr>\n",
       "    <tr>\n",
       "      <th>2021-03-11 06:00:00</th>\n",
       "      <td>-1.163655</td>\n",
       "      <td>0.479363</td>\n",
       "      <td>1.106447</td>\n",
       "      <td>0.449242</td>\n",
       "      <td>-0.532479</td>\n",
       "      <td>D</td>\n",
       "      <td>even</td>\n",
       "    </tr>\n",
       "  </tbody>\n",
       "</table>\n",
       "</div>"
      ],
      "text/plain": [
       "                          No1       No2       No3       No4       No5 Gr1  \\\n",
       "2021-03-11 01:00:00  0.823191  0.497618 -0.634967 -0.308196 -0.194013   C   \n",
       "2021-03-11 03:00:00 -0.855071  1.928538  0.107533 -0.310325  0.336042   C   \n",
       "2021-03-11 04:00:00  0.719777  1.037730 -1.531390  0.809874  0.234152   C   \n",
       "2021-03-11 05:00:00  0.474727  0.138335 -0.282316 -0.857305  0.639478   A   \n",
       "2021-03-11 06:00:00 -1.163655  0.479363  1.106447  0.449242 -0.532479   D   \n",
       "\n",
       "                      Gr2  \n",
       "2021-03-11 01:00:00   odd  \n",
       "2021-03-11 03:00:00   odd  \n",
       "2021-03-11 04:00:00  even  \n",
       "2021-03-11 05:00:00   odd  \n",
       "2021-03-11 06:00:00  even  "
      ]
     },
     "execution_count": 17,
     "metadata": {},
     "output_type": "execute_result"
    }
   ],
   "source": [
    "grouped1.filter(lambda x: np.mean(x['No2']) > 0.0).head()"
   ]
  }
 ],
 "metadata": {
  "extensions": {
   "jupyter_dashboards": {
    "activeView": "grid_default",
    "version": 1,
    "views": {
     "grid_default": {
      "cellMargin": 10,
      "defaultCellHeight": 20,
      "maxColumns": 12,
      "name": "grid",
      "type": "grid"
     },
     "report_default": {
      "name": "report",
      "type": "report"
     }
    }
   }
  },
  "kernelspec": {
   "display_name": "Python 3",
   "language": "python",
   "name": "python3"
  },
  "language_info": {
   "codemirror_mode": {
    "name": "ipython",
    "version": 3
   },
   "file_extension": ".py",
   "mimetype": "text/x-python",
   "name": "python",
   "nbconvert_exporter": "python",
   "pygments_lexer": "ipython3",
   "version": "3.8.8"
  }
 },
 "nbformat": 4,
 "nbformat_minor": 4
}
