{
 "cells": [
  {
   "cell_type": "markdown",
   "metadata": {},
   "source": [
    "## Pandas Primer part 1\n",
    "-------------"
   ]
  },
  {
   "cell_type": "code",
   "execution_count": 1,
   "metadata": {
    "extensions": {
     "jupyter_dashboards": {
      "version": 1,
      "views": {
       "grid_default": {
        "hidden": true
       },
       "report_default": {}
      }
     }
    }
   },
   "outputs": [],
   "source": [
    "import pandas as pd\n",
    "import numpy as np\n",
    "import datetime as dt\n",
    "import seaborn as sns; sns.set()\n",
    "import math\n",
    "import zmq\n",
    "import statsmodels.api as sm\n",
    "import matplotlib.pyplot as plt\n",
    "import quandl as ql\n",
    "ql.ApiConfig.api_key= \"9Djob1GoNyL-pEK4-vEk\"\n",
    "import pyodbc\n",
    "cnxn = pyodbc.connect(driver='{SQL Server Native Client 11.0}',\n",
    "                      server='LAPTOP-2DK08FTD\\SQLEXPRESS', \n",
    "                      database='AdventureWorksDW2017',               \n",
    "                      trusted_connection='yes')"
   ]
  },
  {
   "cell_type": "markdown",
   "metadata": {},
   "source": [
    "## Basic Pandas"
   ]
  },
  {
   "cell_type": "markdown",
   "metadata": {},
   "source": [
    "In a sense, **`pandas` is built \"on top\" of `NumPy`**. For example, `NumPy` universal functions will generally work on `pandas` objects as well. We therefore import both to begin with.\n",
    "\n",
    "On a rather fundamental level, the `DataFrame` class is designed to manage **indexed and labeled data**."
   ]
  },
  {
   "cell_type": "markdown",
   "metadata": {
    "extensions": {
     "jupyter_dashboards": {
      "version": 1,
      "views": {
       "grid_default": {
        "col": 0,
        "height": 4,
        "hidden": false,
        "row": 0,
        "width": 4
       },
       "report_default": {}
      }
     }
    }
   },
   "source": [
    "### Introduction to Data Analysis with Pandas"
   ]
  },
  {
   "cell_type": "code",
   "execution_count": 2,
   "metadata": {},
   "outputs": [],
   "source": [
    "sql = \"\"\"SELECT FF.FinanceKey,DD.FullDateAlternateKey,DO.OrganizationName,DDep.DepartmentGroupName,DS.ScenarioName, DA.AccountDescription, DA.AccountType,FF.Amount\n",
    "\n",
    "FROM FactFinance as FF JOIN DimDate as DD ON FF.DateKey = DD.DateKey\n",
    "JOIN DimOrganization AS DO\n",
    "ON FF.OrganizationKey = DO.OrganizationKey\n",
    "JOIN DimDepartmentGroup AS DDep\n",
    "ON FF.DepartmentGroupKey = DDep.DepartmentGroupKey\n",
    "JOIN DimScenario AS DS\n",
    "ON FF.ScenarioKey = DS.ScenarioKey\n",
    "JOIN DimAccount AS DA\n",
    "ON FF.AccountKey = DA.AccountKey\n",
    "\"\"\""
   ]
  },
  {
   "cell_type": "code",
   "execution_count": 3,
   "metadata": {},
   "outputs": [
    {
     "data": {
      "text/html": [
       "<div>\n",
       "<style scoped>\n",
       "    .dataframe tbody tr th:only-of-type {\n",
       "        vertical-align: middle;\n",
       "    }\n",
       "\n",
       "    .dataframe tbody tr th {\n",
       "        vertical-align: top;\n",
       "    }\n",
       "\n",
       "    .dataframe thead th {\n",
       "        text-align: right;\n",
       "    }\n",
       "</style>\n",
       "<table border=\"1\" class=\"dataframe\">\n",
       "  <thead>\n",
       "    <tr style=\"text-align: right;\">\n",
       "      <th></th>\n",
       "      <th>FinanceKey</th>\n",
       "      <th>FullDateAlternateKey</th>\n",
       "      <th>OrganizationName</th>\n",
       "      <th>DepartmentGroupName</th>\n",
       "      <th>ScenarioName</th>\n",
       "      <th>AccountDescription</th>\n",
       "      <th>AccountType</th>\n",
       "      <th>Amount</th>\n",
       "    </tr>\n",
       "  </thead>\n",
       "  <tbody>\n",
       "    <tr>\n",
       "      <th>0</th>\n",
       "      <td>1</td>\n",
       "      <td>2010-12-29</td>\n",
       "      <td>Northeast Division</td>\n",
       "      <td>Corporate</td>\n",
       "      <td>Actual</td>\n",
       "      <td>Salaries</td>\n",
       "      <td>Expenditures</td>\n",
       "      <td>22080.0</td>\n",
       "    </tr>\n",
       "    <tr>\n",
       "      <th>1</th>\n",
       "      <td>2</td>\n",
       "      <td>2010-12-29</td>\n",
       "      <td>Northeast Division</td>\n",
       "      <td>Corporate</td>\n",
       "      <td>Budget</td>\n",
       "      <td>Salaries</td>\n",
       "      <td>Expenditures</td>\n",
       "      <td>20200.0</td>\n",
       "    </tr>\n",
       "    <tr>\n",
       "      <th>2</th>\n",
       "      <td>3</td>\n",
       "      <td>2010-12-29</td>\n",
       "      <td>Northeast Division</td>\n",
       "      <td>Corporate</td>\n",
       "      <td>Budget</td>\n",
       "      <td>Payroll Taxes</td>\n",
       "      <td>Expenditures</td>\n",
       "      <td>2000.0</td>\n",
       "    </tr>\n",
       "    <tr>\n",
       "      <th>3</th>\n",
       "      <td>4</td>\n",
       "      <td>2010-12-29</td>\n",
       "      <td>Northeast Division</td>\n",
       "      <td>Corporate</td>\n",
       "      <td>Actual</td>\n",
       "      <td>Payroll Taxes</td>\n",
       "      <td>Expenditures</td>\n",
       "      <td>2208.0</td>\n",
       "    </tr>\n",
       "    <tr>\n",
       "      <th>4</th>\n",
       "      <td>5</td>\n",
       "      <td>2010-12-29</td>\n",
       "      <td>Northeast Division</td>\n",
       "      <td>Corporate</td>\n",
       "      <td>Actual</td>\n",
       "      <td>Employee Benefits</td>\n",
       "      <td>Expenditures</td>\n",
       "      <td>1546.0</td>\n",
       "    </tr>\n",
       "  </tbody>\n",
       "</table>\n",
       "</div>"
      ],
      "text/plain": [
       "   FinanceKey FullDateAlternateKey    OrganizationName DepartmentGroupName  \\\n",
       "0           1           2010-12-29  Northeast Division           Corporate   \n",
       "1           2           2010-12-29  Northeast Division           Corporate   \n",
       "2           3           2010-12-29  Northeast Division           Corporate   \n",
       "3           4           2010-12-29  Northeast Division           Corporate   \n",
       "4           5           2010-12-29  Northeast Division           Corporate   \n",
       "\n",
       "  ScenarioName AccountDescription   AccountType   Amount  \n",
       "0       Actual           Salaries  Expenditures  22080.0  \n",
       "1       Budget           Salaries  Expenditures  20200.0  \n",
       "2       Budget      Payroll Taxes  Expenditures   2000.0  \n",
       "3       Actual      Payroll Taxes  Expenditures   2208.0  \n",
       "4       Actual  Employee Benefits  Expenditures   1546.0  "
      ]
     },
     "execution_count": 3,
     "metadata": {},
     "output_type": "execute_result"
    }
   ],
   "source": [
    "data = pd.read_sql(sql,cnxn)\n",
    "data.head()"
   ]
  },
  {
   "cell_type": "code",
   "execution_count": 4,
   "metadata": {},
   "outputs": [
    {
     "name": "stdout",
     "output_type": "stream",
     "text": [
      "<class 'pandas.core.frame.DataFrame'>\n",
      "RangeIndex: 39409 entries, 0 to 39408\n",
      "Data columns (total 8 columns):\n",
      " #   Column                Non-Null Count  Dtype  \n",
      "---  ------                --------------  -----  \n",
      " 0   FinanceKey            39409 non-null  int64  \n",
      " 1   FullDateAlternateKey  39409 non-null  object \n",
      " 2   OrganizationName      39409 non-null  object \n",
      " 3   DepartmentGroupName   39409 non-null  object \n",
      " 4   ScenarioName          39409 non-null  object \n",
      " 5   AccountDescription    39409 non-null  object \n",
      " 6   AccountType           39409 non-null  object \n",
      " 7   Amount                39409 non-null  float64\n",
      "dtypes: float64(1), int64(1), object(6)\n",
      "memory usage: 2.4+ MB\n"
     ]
    }
   ],
   "source": [
    "data.info()"
   ]
  },
  {
   "cell_type": "code",
   "execution_count": 5,
   "metadata": {},
   "outputs": [],
   "source": [
    "data['FullDateAlternateKey']= pd.to_datetime(data['FullDateAlternateKey'])"
   ]
  },
  {
   "cell_type": "code",
   "execution_count": 6,
   "metadata": {},
   "outputs": [
    {
     "name": "stdout",
     "output_type": "stream",
     "text": [
      "<class 'pandas.core.frame.DataFrame'>\n",
      "RangeIndex: 39409 entries, 0 to 39408\n",
      "Data columns (total 8 columns):\n",
      " #   Column                Non-Null Count  Dtype         \n",
      "---  ------                --------------  -----         \n",
      " 0   FinanceKey            39409 non-null  int64         \n",
      " 1   FullDateAlternateKey  39409 non-null  datetime64[ns]\n",
      " 2   OrganizationName      39409 non-null  object        \n",
      " 3   DepartmentGroupName   39409 non-null  object        \n",
      " 4   ScenarioName          39409 non-null  object        \n",
      " 5   AccountDescription    39409 non-null  object        \n",
      " 6   AccountType           39409 non-null  object        \n",
      " 7   Amount                39409 non-null  float64       \n",
      "dtypes: datetime64[ns](1), float64(1), int64(1), object(5)\n",
      "memory usage: 2.4+ MB\n"
     ]
    }
   ],
   "source": [
    "data.info()"
   ]
  },
  {
   "cell_type": "code",
   "execution_count": 7,
   "metadata": {},
   "outputs": [],
   "source": [
    "obj = pd.Series(data.Amount.head(),index=data.index.values[:5],name='Series')"
   ]
  },
  {
   "cell_type": "code",
   "execution_count": 8,
   "metadata": {},
   "outputs": [
    {
     "data": {
      "text/plain": [
       "0    22080.0\n",
       "1    20200.0\n",
       "2     2000.0\n",
       "3     2208.0\n",
       "4     1546.0\n",
       "Name: Series, dtype: float64"
      ]
     },
     "execution_count": 8,
     "metadata": {},
     "output_type": "execute_result"
    }
   ],
   "source": [
    "obj"
   ]
  },
  {
   "cell_type": "markdown",
   "metadata": {},
   "source": [
    "<a id=\"cell\"></a>"
   ]
  },
  {
   "cell_type": "code",
   "execution_count": 9,
   "metadata": {
    "extensions": {
     "jupyter_dashboards": {
      "version": 1,
      "views": {
       "grid_default": {
        "col": 4,
        "height": 4,
        "hidden": false,
        "row": 0,
        "width": 4
       },
       "report_default": {}
      }
     }
    }
   },
   "outputs": [
    {
     "name": "stdout",
     "output_type": "stream",
     "text": [
      "Index details\n",
      "Int64Index([0, 1, 2, 3, 4], dtype='int64')\n",
      "Values details\n",
      "[22080. 20200.  2000.  2208.  1546.]\n",
      "(5,)\n",
      "5\n",
      "float64\n",
      "Series\n"
     ]
    }
   ],
   "source": [
    "print ('Index details')\n",
    "print (obj.index)\n",
    "print ('Values details')\n",
    "print (obj.values)\n",
    "print (obj.shape)\n",
    "print (len(obj))\n",
    "print (obj.dtype)\n",
    "print (obj.name)"
   ]
  },
  {
   "cell_type": "markdown",
   "metadata": {},
   "source": [
    "<a id=\"cell1\"></a>"
   ]
  },
  {
   "cell_type": "code",
   "execution_count": 10,
   "metadata": {
    "extensions": {
     "jupyter_dashboards": {
      "version": 1,
      "views": {
       "grid_default": {
        "col": 0,
        "height": 4,
        "hidden": false,
        "row": 8,
        "width": 4
       },
       "report_default": {}
      }
     }
    }
   },
   "outputs": [
    {
     "data": {
      "text/plain": [
       "1546.0"
      ]
     },
     "execution_count": 10,
     "metadata": {},
     "output_type": "execute_result"
    }
   ],
   "source": [
    "# Selecting specific values based on its index\n",
    "obj[4]"
   ]
  },
  {
   "cell_type": "code",
   "execution_count": 11,
   "metadata": {
    "extensions": {
     "jupyter_dashboards": {
      "version": 1,
      "views": {
       "grid_default": {
        "col": 4,
        "height": 4,
        "hidden": false,
        "row": 8,
        "width": 4
       },
       "report_default": {}
      }
     }
    }
   },
   "outputs": [
    {
     "data": {
      "text/plain": [
       "1    20200.0\n",
       "3     2208.0\n",
       "Name: Series, dtype: float64"
      ]
     },
     "execution_count": 11,
     "metadata": {},
     "output_type": "execute_result"
    }
   ],
   "source": [
    "# Select multiple values based on their index\n",
    "obj[[1,3]]"
   ]
  },
  {
   "cell_type": "markdown",
   "metadata": {},
   "source": [
    "<a id=\"cell2\"></a>"
   ]
  },
  {
   "cell_type": "code",
   "execution_count": 12,
   "metadata": {
    "extensions": {
     "jupyter_dashboards": {
      "version": 1,
      "views": {
       "grid_default": {
        "col": 4,
        "height": 4,
        "hidden": false,
        "row": 4,
        "width": 4
       },
       "report_default": {}
      }
     }
    }
   },
   "outputs": [
    {
     "data": {
      "text/plain": [
       "0    22080.0\n",
       "1    20200.0\n",
       "3     2208.0\n",
       "Name: Series, dtype: float64"
      ]
     },
     "execution_count": 12,
     "metadata": {},
     "output_type": "execute_result"
    }
   ],
   "source": [
    "# Filtering data based on a given criteria\n",
    "obj[obj>2000]"
   ]
  },
  {
   "cell_type": "code",
   "execution_count": 13,
   "metadata": {},
   "outputs": [
    {
     "data": {
      "text/plain": [
       "0    22080.0\n",
       "4     1546.0\n",
       "Name: Series, dtype: float64"
      ]
     },
     "execution_count": 13,
     "metadata": {},
     "output_type": "execute_result"
    }
   ],
   "source": [
    "obj[(obj > 21000) | (obj < 1600)]"
   ]
  },
  {
   "cell_type": "markdown",
   "metadata": {},
   "source": [
    "<a id=\"cell3\"></a>"
   ]
  },
  {
   "cell_type": "code",
   "execution_count": 14,
   "metadata": {},
   "outputs": [
    {
     "data": {
      "text/plain": [
       "0"
      ]
     },
     "execution_count": 14,
     "metadata": {},
     "output_type": "execute_result"
    }
   ],
   "source": [
    "obj.idxmax()"
   ]
  },
  {
   "cell_type": "code",
   "execution_count": 15,
   "metadata": {},
   "outputs": [
    {
     "data": {
      "text/plain": [
       "4"
      ]
     },
     "execution_count": 15,
     "metadata": {},
     "output_type": "execute_result"
    }
   ],
   "source": [
    "obj.idxmin()"
   ]
  },
  {
   "cell_type": "code",
   "execution_count": 16,
   "metadata": {},
   "outputs": [
    {
     "data": {
      "text/plain": [
       "4"
      ]
     },
     "execution_count": 16,
     "metadata": {},
     "output_type": "execute_result"
    }
   ],
   "source": [
    "obj.argmin()"
   ]
  },
  {
   "cell_type": "markdown",
   "metadata": {},
   "source": [
    "<a id=\"cell4\"></a>"
   ]
  },
  {
   "cell_type": "code",
   "execution_count": 17,
   "metadata": {},
   "outputs": [
    {
     "data": {
      "text/plain": [
       "True"
      ]
     },
     "execution_count": 17,
     "metadata": {},
     "output_type": "execute_result"
    }
   ],
   "source": [
    "# Checking boolean\n",
    "2 in obj"
   ]
  },
  {
   "cell_type": "code",
   "execution_count": 18,
   "metadata": {},
   "outputs": [
    {
     "data": {
      "text/plain": [
       "True"
      ]
     },
     "execution_count": 18,
     "metadata": {},
     "output_type": "execute_result"
    }
   ],
   "source": [
    "2000 in obj.values"
   ]
  },
  {
   "cell_type": "markdown",
   "metadata": {},
   "source": [
    "<a id=\"cell5\"></a>"
   ]
  },
  {
   "cell_type": "code",
   "execution_count": 19,
   "metadata": {},
   "outputs": [],
   "source": [
    "sql1 = \"\"\"SELECT FF.FinanceKey,DO.OrganizationName,DA.AccountDescription, DA.AccountType,FF.Amount\n",
    "\n",
    "FROM FactFinance as FF JOIN DimOrganization AS DO\n",
    "ON FF.OrganizationKey = DO.OrganizationKey\n",
    "JOIN DimAccount AS DA\n",
    "ON FF.AccountKey = DA.AccountKey\n",
    "\n",
    "\"\"\""
   ]
  },
  {
   "cell_type": "code",
   "execution_count": 20,
   "metadata": {},
   "outputs": [
    {
     "data": {
      "text/html": [
       "<div>\n",
       "<style scoped>\n",
       "    .dataframe tbody tr th:only-of-type {\n",
       "        vertical-align: middle;\n",
       "    }\n",
       "\n",
       "    .dataframe tbody tr th {\n",
       "        vertical-align: top;\n",
       "    }\n",
       "\n",
       "    .dataframe thead th {\n",
       "        text-align: right;\n",
       "    }\n",
       "</style>\n",
       "<table border=\"1\" class=\"dataframe\">\n",
       "  <thead>\n",
       "    <tr style=\"text-align: right;\">\n",
       "      <th></th>\n",
       "      <th>FinanceKey</th>\n",
       "      <th>OrganizationName</th>\n",
       "      <th>AccountDescription</th>\n",
       "      <th>AccountType</th>\n",
       "      <th>Amount</th>\n",
       "    </tr>\n",
       "  </thead>\n",
       "  <tbody>\n",
       "    <tr>\n",
       "      <th>0</th>\n",
       "      <td>1</td>\n",
       "      <td>Northeast Division</td>\n",
       "      <td>Salaries</td>\n",
       "      <td>Expenditures</td>\n",
       "      <td>22080.0</td>\n",
       "    </tr>\n",
       "    <tr>\n",
       "      <th>1</th>\n",
       "      <td>2</td>\n",
       "      <td>Northeast Division</td>\n",
       "      <td>Salaries</td>\n",
       "      <td>Expenditures</td>\n",
       "      <td>20200.0</td>\n",
       "    </tr>\n",
       "    <tr>\n",
       "      <th>2</th>\n",
       "      <td>3</td>\n",
       "      <td>Northeast Division</td>\n",
       "      <td>Payroll Taxes</td>\n",
       "      <td>Expenditures</td>\n",
       "      <td>2000.0</td>\n",
       "    </tr>\n",
       "    <tr>\n",
       "      <th>3</th>\n",
       "      <td>4</td>\n",
       "      <td>Northeast Division</td>\n",
       "      <td>Payroll Taxes</td>\n",
       "      <td>Expenditures</td>\n",
       "      <td>2208.0</td>\n",
       "    </tr>\n",
       "    <tr>\n",
       "      <th>4</th>\n",
       "      <td>5</td>\n",
       "      <td>Northeast Division</td>\n",
       "      <td>Employee Benefits</td>\n",
       "      <td>Expenditures</td>\n",
       "      <td>1546.0</td>\n",
       "    </tr>\n",
       "    <tr>\n",
       "      <th>...</th>\n",
       "      <td>...</td>\n",
       "      <td>...</td>\n",
       "      <td>...</td>\n",
       "      <td>...</td>\n",
       "      <td>...</td>\n",
       "    </tr>\n",
       "    <tr>\n",
       "      <th>39404</th>\n",
       "      <td>39405</td>\n",
       "      <td>Australia</td>\n",
       "      <td>Partner Capital</td>\n",
       "      <td>Liabilities</td>\n",
       "      <td>225000.0</td>\n",
       "    </tr>\n",
       "    <tr>\n",
       "      <th>39405</th>\n",
       "      <td>39406</td>\n",
       "      <td>Australia</td>\n",
       "      <td>Additional Paid In Capital</td>\n",
       "      <td>Liabilities</td>\n",
       "      <td>-225000.0</td>\n",
       "    </tr>\n",
       "    <tr>\n",
       "      <th>39406</th>\n",
       "      <td>39407</td>\n",
       "      <td>Australia</td>\n",
       "      <td>Amortization of Goodwill</td>\n",
       "      <td>Expenditures</td>\n",
       "      <td>-1957.7</td>\n",
       "    </tr>\n",
       "    <tr>\n",
       "      <th>39407</th>\n",
       "      <td>39408</td>\n",
       "      <td>Australia</td>\n",
       "      <td>Other Income</td>\n",
       "      <td>Revenue</td>\n",
       "      <td>17619.3</td>\n",
       "    </tr>\n",
       "    <tr>\n",
       "      <th>39408</th>\n",
       "      <td>39409</td>\n",
       "      <td>Australia</td>\n",
       "      <td>Curr Xchg Gain/(Loss)</td>\n",
       "      <td>Revenue</td>\n",
       "      <td>-19577.0</td>\n",
       "    </tr>\n",
       "  </tbody>\n",
       "</table>\n",
       "<p>39409 rows × 5 columns</p>\n",
       "</div>"
      ],
      "text/plain": [
       "       FinanceKey    OrganizationName          AccountDescription  \\\n",
       "0               1  Northeast Division                    Salaries   \n",
       "1               2  Northeast Division                    Salaries   \n",
       "2               3  Northeast Division               Payroll Taxes   \n",
       "3               4  Northeast Division               Payroll Taxes   \n",
       "4               5  Northeast Division           Employee Benefits   \n",
       "...           ...                 ...                         ...   \n",
       "39404       39405           Australia             Partner Capital   \n",
       "39405       39406           Australia  Additional Paid In Capital   \n",
       "39406       39407           Australia    Amortization of Goodwill   \n",
       "39407       39408           Australia                Other Income   \n",
       "39408       39409           Australia       Curr Xchg Gain/(Loss)   \n",
       "\n",
       "        AccountType    Amount  \n",
       "0      Expenditures   22080.0  \n",
       "1      Expenditures   20200.0  \n",
       "2      Expenditures    2000.0  \n",
       "3      Expenditures    2208.0  \n",
       "4      Expenditures    1546.0  \n",
       "...             ...       ...  \n",
       "39404   Liabilities  225000.0  \n",
       "39405   Liabilities -225000.0  \n",
       "39406  Expenditures   -1957.7  \n",
       "39407       Revenue   17619.3  \n",
       "39408       Revenue  -19577.0  \n",
       "\n",
       "[39409 rows x 5 columns]"
      ]
     },
     "execution_count": 20,
     "metadata": {},
     "output_type": "execute_result"
    }
   ],
   "source": [
    "data1 = pd.read_sql(sql1,cnxn)\n",
    "data1"
   ]
  },
  {
   "cell_type": "code",
   "execution_count": 21,
   "metadata": {},
   "outputs": [],
   "source": [
    "data1.drop_duplicates(['OrganizationName'], inplace = True)"
   ]
  },
  {
   "cell_type": "code",
   "execution_count": 22,
   "metadata": {},
   "outputs": [
    {
     "data": {
      "text/html": [
       "<div>\n",
       "<style scoped>\n",
       "    .dataframe tbody tr th:only-of-type {\n",
       "        vertical-align: middle;\n",
       "    }\n",
       "\n",
       "    .dataframe tbody tr th {\n",
       "        vertical-align: top;\n",
       "    }\n",
       "\n",
       "    .dataframe thead th {\n",
       "        text-align: right;\n",
       "    }\n",
       "</style>\n",
       "<table border=\"1\" class=\"dataframe\">\n",
       "  <thead>\n",
       "    <tr style=\"text-align: right;\">\n",
       "      <th></th>\n",
       "      <th>FinanceKey</th>\n",
       "      <th>OrganizationName</th>\n",
       "      <th>AccountDescription</th>\n",
       "      <th>AccountType</th>\n",
       "      <th>Amount</th>\n",
       "    </tr>\n",
       "  </thead>\n",
       "  <tbody>\n",
       "    <tr>\n",
       "      <th>0</th>\n",
       "      <td>1</td>\n",
       "      <td>Northeast Division</td>\n",
       "      <td>Salaries</td>\n",
       "      <td>Expenditures</td>\n",
       "      <td>22080.00</td>\n",
       "    </tr>\n",
       "    <tr>\n",
       "      <th>188</th>\n",
       "      <td>189</td>\n",
       "      <td>Northwest Division</td>\n",
       "      <td>Salaries</td>\n",
       "      <td>Expenditures</td>\n",
       "      <td>43120.00</td>\n",
       "    </tr>\n",
       "    <tr>\n",
       "      <th>329</th>\n",
       "      <td>330</td>\n",
       "      <td>Central Division</td>\n",
       "      <td>Salaries</td>\n",
       "      <td>Expenditures</td>\n",
       "      <td>33920.00</td>\n",
       "    </tr>\n",
       "    <tr>\n",
       "      <th>470</th>\n",
       "      <td>471</td>\n",
       "      <td>Southeast Division</td>\n",
       "      <td>Salaries</td>\n",
       "      <td>Expenditures</td>\n",
       "      <td>20800.00</td>\n",
       "    </tr>\n",
       "    <tr>\n",
       "      <th>801</th>\n",
       "      <td>802</td>\n",
       "      <td>Southwest Division</td>\n",
       "      <td>Salaries</td>\n",
       "      <td>Expenditures</td>\n",
       "      <td>37080.00</td>\n",
       "    </tr>\n",
       "    <tr>\n",
       "      <th>942</th>\n",
       "      <td>943</td>\n",
       "      <td>Canadian Division</td>\n",
       "      <td>Salaries</td>\n",
       "      <td>Expenditures</td>\n",
       "      <td>48000.46</td>\n",
       "    </tr>\n",
       "    <tr>\n",
       "      <th>14217</th>\n",
       "      <td>14218</td>\n",
       "      <td>France</td>\n",
       "      <td>Salaries</td>\n",
       "      <td>Expenditures</td>\n",
       "      <td>20229.86</td>\n",
       "    </tr>\n",
       "    <tr>\n",
       "      <th>14390</th>\n",
       "      <td>14391</td>\n",
       "      <td>Germany</td>\n",
       "      <td>Salaries</td>\n",
       "      <td>Expenditures</td>\n",
       "      <td>1909.31</td>\n",
       "    </tr>\n",
       "    <tr>\n",
       "      <th>26701</th>\n",
       "      <td>26702</td>\n",
       "      <td>Australia</td>\n",
       "      <td>Salaries</td>\n",
       "      <td>Expenditures</td>\n",
       "      <td>19305.12</td>\n",
       "    </tr>\n",
       "  </tbody>\n",
       "</table>\n",
       "</div>"
      ],
      "text/plain": [
       "       FinanceKey    OrganizationName AccountDescription   AccountType  \\\n",
       "0               1  Northeast Division           Salaries  Expenditures   \n",
       "188           189  Northwest Division           Salaries  Expenditures   \n",
       "329           330    Central Division           Salaries  Expenditures   \n",
       "470           471  Southeast Division           Salaries  Expenditures   \n",
       "801           802  Southwest Division           Salaries  Expenditures   \n",
       "942           943   Canadian Division           Salaries  Expenditures   \n",
       "14217       14218              France           Salaries  Expenditures   \n",
       "14390       14391             Germany           Salaries  Expenditures   \n",
       "26701       26702           Australia           Salaries  Expenditures   \n",
       "\n",
       "         Amount  \n",
       "0      22080.00  \n",
       "188    43120.00  \n",
       "329    33920.00  \n",
       "470    20800.00  \n",
       "801    37080.00  \n",
       "942    48000.46  \n",
       "14217  20229.86  \n",
       "14390   1909.31  \n",
       "26701  19305.12  "
      ]
     },
     "execution_count": 22,
     "metadata": {},
     "output_type": "execute_result"
    }
   ],
   "source": [
    "data1"
   ]
  },
  {
   "cell_type": "code",
   "execution_count": 23,
   "metadata": {},
   "outputs": [
    {
     "name": "stdout",
     "output_type": "stream",
     "text": [
      "Northeast Division    22080\n",
      "Northwest Division    43120\n",
      "Central Division      33920\n",
      "Southeast Division    20800\n",
      "dtype: int64\n"
     ]
    }
   ],
   "source": [
    "sdata = {'Northeast Division': 22080, 'Northwest Division': 43120, 'Central Division': 33920, 'Southeast Division': 20800}\n",
    "obj3 = pd.Series(sdata)\n",
    "print (obj3)"
   ]
  },
  {
   "cell_type": "code",
   "execution_count": 24,
   "metadata": {},
   "outputs": [],
   "source": [
    "regions = ['Northeast Division', 'Northwest Division', 'Central Division', 'Canadian Division'] "
   ]
  },
  {
   "cell_type": "code",
   "execution_count": 25,
   "metadata": {},
   "outputs": [],
   "source": [
    "obj4 = pd.Series(sdata, index = regions) \n",
    "\n",
    "#it takes the values of sdata but using as index the states data\n",
    "# if there is a match it populates the value field"
   ]
  },
  {
   "cell_type": "code",
   "execution_count": 26,
   "metadata": {},
   "outputs": [
    {
     "data": {
      "text/plain": [
       "Northeast Division    22080.0\n",
       "Northwest Division    43120.0\n",
       "Central Division      33920.0\n",
       "Canadian Division         NaN\n",
       "dtype: float64"
      ]
     },
     "execution_count": 26,
     "metadata": {},
     "output_type": "execute_result"
    }
   ],
   "source": [
    "obj4"
   ]
  },
  {
   "cell_type": "markdown",
   "metadata": {},
   "source": [
    "<a id=\"cell7\"></a>"
   ]
  },
  {
   "cell_type": "code",
   "execution_count": 27,
   "metadata": {},
   "outputs": [
    {
     "name": "stdout",
     "output_type": "stream",
     "text": [
      "Northeast Division    False\n",
      "Northwest Division    False\n",
      "Central Division      False\n",
      "Canadian Division      True\n",
      "dtype: bool\n",
      "Northeast Division     True\n",
      "Northwest Division     True\n",
      "Central Division       True\n",
      "Canadian Division     False\n",
      "dtype: bool\n"
     ]
    }
   ],
   "source": [
    "# Pandas functions\n",
    "print (pd.isnull(obj4))\n",
    "print (pd.notnull(obj4))"
   ]
  },
  {
   "cell_type": "markdown",
   "metadata": {},
   "source": [
    "<a id=\"cell6\"></a>"
   ]
  },
  {
   "cell_type": "code",
   "execution_count": 28,
   "metadata": {},
   "outputs": [
    {
     "data": {
      "text/plain": [
       "Northeast Division    44160\n",
       "Northwest Division    86240\n",
       "Central Division      67840\n",
       "Southeast Division    41600\n",
       "dtype: int64"
      ]
     },
     "execution_count": 28,
     "metadata": {},
     "output_type": "execute_result"
    }
   ],
   "source": [
    "# Data manipulation\n",
    "obj3 * 2"
   ]
  },
  {
   "cell_type": "code",
   "execution_count": 29,
   "metadata": {},
   "outputs": [
    {
     "name": "stderr",
     "output_type": "stream",
     "text": [
      "C:\\Users\\maria\\anaconda3\\lib\\site-packages\\pandas\\core\\arraylike.py:358: RuntimeWarning: overflow encountered in exp\n",
      "  result = getattr(ufunc, method)(*inputs, **kwargs)\n"
     ]
    },
    {
     "data": {
      "text/plain": [
       "Northeast Division    inf\n",
       "Northwest Division    inf\n",
       "Central Division      inf\n",
       "Southeast Division    inf\n",
       "dtype: float64"
      ]
     },
     "execution_count": 29,
     "metadata": {},
     "output_type": "execute_result"
    }
   ],
   "source": [
    "np.exp(obj3)"
   ]
  },
  {
   "cell_type": "code",
   "execution_count": 30,
   "metadata": {},
   "outputs": [
    {
     "data": {
      "text/plain": [
       "Canadian Division         NaN\n",
       "Central Division      67840.0\n",
       "Northeast Division    44160.0\n",
       "Northwest Division    86240.0\n",
       "Southeast Division        NaN\n",
       "dtype: float64"
      ]
     },
     "execution_count": 30,
     "metadata": {},
     "output_type": "execute_result"
    }
   ],
   "source": [
    "# Combining Series\n",
    "obj3 + obj4"
   ]
  },
  {
   "cell_type": "markdown",
   "metadata": {},
   "source": [
    "<a id=\"cell8\"></a>"
   ]
  },
  {
   "cell_type": "code",
   "execution_count": 31,
   "metadata": {},
   "outputs": [],
   "source": [
    "obj4.name = 'Geographies'"
   ]
  },
  {
   "cell_type": "code",
   "execution_count": 32,
   "metadata": {},
   "outputs": [],
   "source": [
    "obj4.index.name = 'Regions'"
   ]
  },
  {
   "cell_type": "code",
   "execution_count": 33,
   "metadata": {},
   "outputs": [
    {
     "data": {
      "text/plain": [
       "Regions\n",
       "Northeast Division    22080.0\n",
       "Northwest Division    43120.0\n",
       "Central Division      33920.0\n",
       "Canadian Division         NaN\n",
       "Name: Geographies, dtype: float64"
      ]
     },
     "execution_count": 33,
     "metadata": {},
     "output_type": "execute_result"
    }
   ],
   "source": [
    "obj4"
   ]
  },
  {
   "cell_type": "markdown",
   "metadata": {},
   "source": [
    "### Changing numbers format in Pandas Dataframe\n",
    "<a id=\"cell9\"></a>"
   ]
  },
  {
   "cell_type": "markdown",
   "metadata": {},
   "source": [
    "The following example already shows some major features of the `DataFrame` class when it comes to storing data:\n",
    "\n",
    "* **data**: data itself can be provided in different shapes and types\n",
    "* **labels**: data is organized in columns which can have custom names\n",
    "* **index**: there is an index that can take on different formats"
   ]
  },
  {
   "cell_type": "code",
   "execution_count": 34,
   "metadata": {},
   "outputs": [
    {
     "data": {
      "text/html": [
       "<div>\n",
       "<style scoped>\n",
       "    .dataframe tbody tr th:only-of-type {\n",
       "        vertical-align: middle;\n",
       "    }\n",
       "\n",
       "    .dataframe tbody tr th {\n",
       "        vertical-align: top;\n",
       "    }\n",
       "\n",
       "    .dataframe thead th {\n",
       "        text-align: right;\n",
       "    }\n",
       "</style>\n",
       "<table border=\"1\" class=\"dataframe\">\n",
       "  <thead>\n",
       "    <tr style=\"text-align: right;\">\n",
       "      <th></th>\n",
       "      <th>0</th>\n",
       "      <th>1</th>\n",
       "    </tr>\n",
       "  </thead>\n",
       "  <tbody>\n",
       "    <tr>\n",
       "      <th>0</th>\n",
       "      <td>-0.054047</td>\n",
       "      <td>-1.476974</td>\n",
       "    </tr>\n",
       "    <tr>\n",
       "      <th>1</th>\n",
       "      <td>0.372948</td>\n",
       "      <td>0.741765</td>\n",
       "    </tr>\n",
       "  </tbody>\n",
       "</table>\n",
       "</div>"
      ],
      "text/plain": [
       "          0         1\n",
       "0 -0.054047 -1.476974\n",
       "1  0.372948  0.741765"
      ]
     },
     "execution_count": 34,
     "metadata": {},
     "output_type": "execute_result"
    }
   ],
   "source": [
    "df = pd.DataFrame(np.random.randn(2, 2))\n",
    "df"
   ]
  },
  {
   "cell_type": "code",
   "execution_count": 35,
   "metadata": {},
   "outputs": [
    {
     "data": {
      "text/plain": [
       "0    $-1.48\n",
       "1     $0.74\n",
       "Name: 1, dtype: object"
      ]
     },
     "execution_count": 35,
     "metadata": {},
     "output_type": "execute_result"
    }
   ],
   "source": [
    "df[1] = df[1].map('${:,.2f}'.format)\n",
    "df[1]"
   ]
  },
  {
   "cell_type": "code",
   "execution_count": 36,
   "metadata": {},
   "outputs": [
    {
     "data": {
      "text/plain": [
       "0    -5.40%\n",
       "1    37.29%\n",
       "Name: 0, dtype: object"
      ]
     },
     "execution_count": 36,
     "metadata": {},
     "output_type": "execute_result"
    }
   ],
   "source": [
    "df[0] = pd.Series([\"{0:.2f}%\".format(val * 100) for val in df[0]], \n",
    "                  index = df.index)\n",
    "df[0]"
   ]
  },
  {
   "cell_type": "markdown",
   "metadata": {},
   "source": [
    "### Advance Formatting"
   ]
  },
  {
   "cell_type": "code",
   "execution_count": 37,
   "metadata": {},
   "outputs": [],
   "source": [
    "total = 1022032.79\n",
    "avgrate = 4.060474510561586\n",
    "life = 6.9547965672323002"
   ]
  },
  {
   "cell_type": "code",
   "execution_count": 38,
   "metadata": {},
   "outputs": [],
   "source": [
    "sbk = pd.DataFrame({'Values':['${:,.0f}'.format(total),\n",
    "                              '{:,.2f}%'.format(avgrate),\n",
    "                              '{:,.2f}'.format(life)]},\n",
    "                   index = ['Total',\n",
    "                            'Avg. Rate',\n",
    "                            'Avg. Life (yrs.)'])"
   ]
  },
  {
   "cell_type": "code",
   "execution_count": 39,
   "metadata": {},
   "outputs": [
    {
     "data": {
      "text/html": [
       "<div>\n",
       "<style scoped>\n",
       "    .dataframe tbody tr th:only-of-type {\n",
       "        vertical-align: middle;\n",
       "    }\n",
       "\n",
       "    .dataframe tbody tr th {\n",
       "        vertical-align: top;\n",
       "    }\n",
       "\n",
       "    .dataframe thead th {\n",
       "        text-align: right;\n",
       "    }\n",
       "</style>\n",
       "<table border=\"1\" class=\"dataframe\">\n",
       "  <thead>\n",
       "    <tr style=\"text-align: right;\">\n",
       "      <th></th>\n",
       "      <th>Values</th>\n",
       "    </tr>\n",
       "  </thead>\n",
       "  <tbody>\n",
       "    <tr>\n",
       "      <th>Total</th>\n",
       "      <td>$1,022,033</td>\n",
       "    </tr>\n",
       "    <tr>\n",
       "      <th>Avg. Rate</th>\n",
       "      <td>4.06%</td>\n",
       "    </tr>\n",
       "    <tr>\n",
       "      <th>Avg. Life (yrs.)</th>\n",
       "      <td>6.95</td>\n",
       "    </tr>\n",
       "  </tbody>\n",
       "</table>\n",
       "</div>"
      ],
      "text/plain": [
       "                      Values\n",
       "Total             $1,022,033\n",
       "Avg. Rate              4.06%\n",
       "Avg. Life (yrs.)        6.95"
      ]
     },
     "execution_count": 39,
     "metadata": {},
     "output_type": "execute_result"
    }
   ],
   "source": [
    "sbk"
   ]
  },
  {
   "cell_type": "markdown",
   "metadata": {},
   "source": [
    "<a id=\"cell10\"></a>"
   ]
  },
  {
   "cell_type": "code",
   "execution_count": 40,
   "metadata": {},
   "outputs": [],
   "source": [
    "df1 = {'Region': ['Northeast Division', 'Northwest Division','Central Division', 'Southeast Division', 'Southeast Division'],\n",
    "       'FinanceKey': [1,189,330,471,802],\n",
    "       'Amount' : [22080., 43120., 33920., 20800., 37080.]}"
   ]
  },
  {
   "cell_type": "code",
   "execution_count": 41,
   "metadata": {},
   "outputs": [
    {
     "data": {
      "text/html": [
       "<div>\n",
       "<style scoped>\n",
       "    .dataframe tbody tr th:only-of-type {\n",
       "        vertical-align: middle;\n",
       "    }\n",
       "\n",
       "    .dataframe tbody tr th {\n",
       "        vertical-align: top;\n",
       "    }\n",
       "\n",
       "    .dataframe thead th {\n",
       "        text-align: right;\n",
       "    }\n",
       "</style>\n",
       "<table border=\"1\" class=\"dataframe\">\n",
       "  <thead>\n",
       "    <tr style=\"text-align: right;\">\n",
       "      <th></th>\n",
       "      <th>Region</th>\n",
       "      <th>FinanceKey</th>\n",
       "      <th>Amount</th>\n",
       "    </tr>\n",
       "  </thead>\n",
       "  <tbody>\n",
       "    <tr>\n",
       "      <th>0</th>\n",
       "      <td>Northeast Division</td>\n",
       "      <td>1</td>\n",
       "      <td>22080.0</td>\n",
       "    </tr>\n",
       "    <tr>\n",
       "      <th>1</th>\n",
       "      <td>Northwest Division</td>\n",
       "      <td>189</td>\n",
       "      <td>43120.0</td>\n",
       "    </tr>\n",
       "    <tr>\n",
       "      <th>2</th>\n",
       "      <td>Central Division</td>\n",
       "      <td>330</td>\n",
       "      <td>33920.0</td>\n",
       "    </tr>\n",
       "    <tr>\n",
       "      <th>3</th>\n",
       "      <td>Southeast Division</td>\n",
       "      <td>471</td>\n",
       "      <td>20800.0</td>\n",
       "    </tr>\n",
       "    <tr>\n",
       "      <th>4</th>\n",
       "      <td>Southeast Division</td>\n",
       "      <td>802</td>\n",
       "      <td>37080.0</td>\n",
       "    </tr>\n",
       "  </tbody>\n",
       "</table>\n",
       "</div>"
      ],
      "text/plain": [
       "               Region  FinanceKey   Amount\n",
       "0  Northeast Division           1  22080.0\n",
       "1  Northwest Division         189  43120.0\n",
       "2    Central Division         330  33920.0\n",
       "3  Southeast Division         471  20800.0\n",
       "4  Southeast Division         802  37080.0"
      ]
     },
     "execution_count": 41,
     "metadata": {},
     "output_type": "execute_result"
    }
   ],
   "source": [
    "frame = pd.DataFrame(df1)\n",
    "frame"
   ]
  },
  {
   "cell_type": "code",
   "execution_count": 42,
   "metadata": {},
   "outputs": [
    {
     "data": {
      "text/html": [
       "<div>\n",
       "<style scoped>\n",
       "    .dataframe tbody tr th:only-of-type {\n",
       "        vertical-align: middle;\n",
       "    }\n",
       "\n",
       "    .dataframe tbody tr th {\n",
       "        vertical-align: top;\n",
       "    }\n",
       "\n",
       "    .dataframe thead th {\n",
       "        text-align: right;\n",
       "    }\n",
       "</style>\n",
       "<table border=\"1\" class=\"dataframe\">\n",
       "  <thead>\n",
       "    <tr style=\"text-align: right;\">\n",
       "      <th></th>\n",
       "      <th>Region</th>\n",
       "      <th>FinanceKey</th>\n",
       "      <th>Amount</th>\n",
       "      <th>Code</th>\n",
       "    </tr>\n",
       "  </thead>\n",
       "  <tbody>\n",
       "    <tr>\n",
       "      <th>one</th>\n",
       "      <td>Northeast Division</td>\n",
       "      <td>1</td>\n",
       "      <td>22080.0</td>\n",
       "      <td>NaN</td>\n",
       "    </tr>\n",
       "    <tr>\n",
       "      <th>two</th>\n",
       "      <td>Northwest Division</td>\n",
       "      <td>189</td>\n",
       "      <td>43120.0</td>\n",
       "      <td>NaN</td>\n",
       "    </tr>\n",
       "    <tr>\n",
       "      <th>three</th>\n",
       "      <td>Central Division</td>\n",
       "      <td>330</td>\n",
       "      <td>33920.0</td>\n",
       "      <td>NaN</td>\n",
       "    </tr>\n",
       "    <tr>\n",
       "      <th>four</th>\n",
       "      <td>Southeast Division</td>\n",
       "      <td>471</td>\n",
       "      <td>20800.0</td>\n",
       "      <td>NaN</td>\n",
       "    </tr>\n",
       "    <tr>\n",
       "      <th>five</th>\n",
       "      <td>Southeast Division</td>\n",
       "      <td>802</td>\n",
       "      <td>37080.0</td>\n",
       "      <td>NaN</td>\n",
       "    </tr>\n",
       "  </tbody>\n",
       "</table>\n",
       "</div>"
      ],
      "text/plain": [
       "                   Region  FinanceKey   Amount Code\n",
       "one    Northeast Division           1  22080.0  NaN\n",
       "two    Northwest Division         189  43120.0  NaN\n",
       "three    Central Division         330  33920.0  NaN\n",
       "four   Southeast Division         471  20800.0  NaN\n",
       "five   Southeast Division         802  37080.0  NaN"
      ]
     },
     "execution_count": 42,
     "metadata": {},
     "output_type": "execute_result"
    }
   ],
   "source": [
    "frame2 = pd.DataFrame(df1, index = ['one','two', 'three', 'four', 'five'], \n",
    "                   columns = ['Region', 'FinanceKey', 'Amount','Code']) \n",
    "# Warning = the names of the columns should match the names on df1\n",
    "# otherwise it wont map the values\n",
    "frame2"
   ]
  },
  {
   "cell_type": "markdown",
   "metadata": {},
   "source": [
    "<a id=\"cell11\"></a>"
   ]
  },
  {
   "cell_type": "code",
   "execution_count": 43,
   "metadata": {},
   "outputs": [
    {
     "data": {
      "text/plain": [
       "Index(['Region', 'FinanceKey', 'Amount', 'Code'], dtype='object')"
      ]
     },
     "execution_count": 43,
     "metadata": {},
     "output_type": "execute_result"
    }
   ],
   "source": [
    "frame2.columns # it retrieves the name of the columns"
   ]
  },
  {
   "cell_type": "code",
   "execution_count": 44,
   "metadata": {},
   "outputs": [
    {
     "data": {
      "text/plain": [
       "Index(['one', 'two', 'three', 'four', 'five'], dtype='object')"
      ]
     },
     "execution_count": 44,
     "metadata": {},
     "output_type": "execute_result"
    }
   ],
   "source": [
    "frame2.index # it retrieves the name of the rows"
   ]
  },
  {
   "cell_type": "code",
   "execution_count": 45,
   "metadata": {},
   "outputs": [
    {
     "data": {
      "text/plain": [
       "one      Northeast Division\n",
       "two      Northwest Division\n",
       "three      Central Division\n",
       "four     Southeast Division\n",
       "five     Southeast Division\n",
       "Name: Region, dtype: object"
      ]
     },
     "execution_count": 45,
     "metadata": {},
     "output_type": "execute_result"
    }
   ],
   "source": [
    "frame2['Region'] # it retrieves the values of the requested column"
   ]
  },
  {
   "cell_type": "markdown",
   "metadata": {},
   "source": [
    "<a id=\"cell12\"></a>"
   ]
  },
  {
   "cell_type": "code",
   "execution_count": 46,
   "metadata": {},
   "outputs": [
    {
     "data": {
      "text/plain": [
       "Region        Northwest Division\n",
       "FinanceKey                   189\n",
       "Amount                   43120.0\n",
       "Code                         NaN\n",
       "Name: two, dtype: object"
      ]
     },
     "execution_count": 46,
     "metadata": {},
     "output_type": "execute_result"
    }
   ],
   "source": [
    "frame2.loc['two']"
   ]
  },
  {
   "cell_type": "markdown",
   "metadata": {},
   "source": [
    "<a id=\"cell13\"></a>"
   ]
  },
  {
   "cell_type": "code",
   "execution_count": 47,
   "metadata": {},
   "outputs": [
    {
     "data": {
      "text/html": [
       "<div>\n",
       "<style scoped>\n",
       "    .dataframe tbody tr th:only-of-type {\n",
       "        vertical-align: middle;\n",
       "    }\n",
       "\n",
       "    .dataframe tbody tr th {\n",
       "        vertical-align: top;\n",
       "    }\n",
       "\n",
       "    .dataframe thead th {\n",
       "        text-align: right;\n",
       "    }\n",
       "</style>\n",
       "<table border=\"1\" class=\"dataframe\">\n",
       "  <thead>\n",
       "    <tr style=\"text-align: right;\">\n",
       "      <th></th>\n",
       "      <th>Region</th>\n",
       "      <th>FinanceKey</th>\n",
       "      <th>Amount</th>\n",
       "      <th>Code</th>\n",
       "    </tr>\n",
       "  </thead>\n",
       "  <tbody>\n",
       "    <tr>\n",
       "      <th>one</th>\n",
       "      <td>Northeast Division</td>\n",
       "      <td>1</td>\n",
       "      <td>22080.0</td>\n",
       "      <td>16</td>\n",
       "    </tr>\n",
       "    <tr>\n",
       "      <th>two</th>\n",
       "      <td>Northwest Division</td>\n",
       "      <td>189</td>\n",
       "      <td>43120.0</td>\n",
       "      <td>16</td>\n",
       "    </tr>\n",
       "    <tr>\n",
       "      <th>three</th>\n",
       "      <td>Central Division</td>\n",
       "      <td>330</td>\n",
       "      <td>33920.0</td>\n",
       "      <td>16</td>\n",
       "    </tr>\n",
       "    <tr>\n",
       "      <th>four</th>\n",
       "      <td>Southeast Division</td>\n",
       "      <td>471</td>\n",
       "      <td>20800.0</td>\n",
       "      <td>16</td>\n",
       "    </tr>\n",
       "    <tr>\n",
       "      <th>five</th>\n",
       "      <td>Southeast Division</td>\n",
       "      <td>802</td>\n",
       "      <td>37080.0</td>\n",
       "      <td>16</td>\n",
       "    </tr>\n",
       "  </tbody>\n",
       "</table>\n",
       "</div>"
      ],
      "text/plain": [
       "                   Region  FinanceKey   Amount  Code\n",
       "one    Northeast Division           1  22080.0    16\n",
       "two    Northwest Division         189  43120.0    16\n",
       "three    Central Division         330  33920.0    16\n",
       "four   Southeast Division         471  20800.0    16\n",
       "five   Southeast Division         802  37080.0    16"
      ]
     },
     "execution_count": 47,
     "metadata": {},
     "output_type": "execute_result"
    }
   ],
   "source": [
    "frame2['Code'] = 16\n",
    "frame2"
   ]
  },
  {
   "cell_type": "markdown",
   "metadata": {},
   "source": [
    "#### Important: DataFrame is case sensitive!! small mistakes have huge impact"
   ]
  },
  {
   "cell_type": "code",
   "execution_count": 48,
   "metadata": {},
   "outputs": [
    {
     "data": {
      "text/html": [
       "<div>\n",
       "<style scoped>\n",
       "    .dataframe tbody tr th:only-of-type {\n",
       "        vertical-align: middle;\n",
       "    }\n",
       "\n",
       "    .dataframe tbody tr th {\n",
       "        vertical-align: top;\n",
       "    }\n",
       "\n",
       "    .dataframe thead th {\n",
       "        text-align: right;\n",
       "    }\n",
       "</style>\n",
       "<table border=\"1\" class=\"dataframe\">\n",
       "  <thead>\n",
       "    <tr style=\"text-align: right;\">\n",
       "      <th></th>\n",
       "      <th>Region</th>\n",
       "      <th>FinanceKey</th>\n",
       "      <th>Amount</th>\n",
       "      <th>Code</th>\n",
       "      <th>code</th>\n",
       "    </tr>\n",
       "  </thead>\n",
       "  <tbody>\n",
       "    <tr>\n",
       "      <th>one</th>\n",
       "      <td>Northeast Division</td>\n",
       "      <td>1</td>\n",
       "      <td>22080.0</td>\n",
       "      <td>16</td>\n",
       "      <td>16</td>\n",
       "    </tr>\n",
       "    <tr>\n",
       "      <th>two</th>\n",
       "      <td>Northwest Division</td>\n",
       "      <td>189</td>\n",
       "      <td>43120.0</td>\n",
       "      <td>16</td>\n",
       "      <td>16</td>\n",
       "    </tr>\n",
       "    <tr>\n",
       "      <th>three</th>\n",
       "      <td>Central Division</td>\n",
       "      <td>330</td>\n",
       "      <td>33920.0</td>\n",
       "      <td>16</td>\n",
       "      <td>16</td>\n",
       "    </tr>\n",
       "    <tr>\n",
       "      <th>four</th>\n",
       "      <td>Southeast Division</td>\n",
       "      <td>471</td>\n",
       "      <td>20800.0</td>\n",
       "      <td>16</td>\n",
       "      <td>16</td>\n",
       "    </tr>\n",
       "    <tr>\n",
       "      <th>five</th>\n",
       "      <td>Southeast Division</td>\n",
       "      <td>802</td>\n",
       "      <td>37080.0</td>\n",
       "      <td>16</td>\n",
       "      <td>16</td>\n",
       "    </tr>\n",
       "  </tbody>\n",
       "</table>\n",
       "</div>"
      ],
      "text/plain": [
       "                   Region  FinanceKey   Amount  Code  code\n",
       "one    Northeast Division           1  22080.0    16    16\n",
       "two    Northwest Division         189  43120.0    16    16\n",
       "three    Central Division         330  33920.0    16    16\n",
       "four   Southeast Division         471  20800.0    16    16\n",
       "five   Southeast Division         802  37080.0    16    16"
      ]
     },
     "execution_count": 48,
     "metadata": {},
     "output_type": "execute_result"
    }
   ],
   "source": [
    "frame2['code'] = 16\n",
    "frame2"
   ]
  },
  {
   "cell_type": "markdown",
   "metadata": {},
   "source": [
    "<a id=\"cell14\"></a>"
   ]
  },
  {
   "cell_type": "code",
   "execution_count": 49,
   "metadata": {},
   "outputs": [
    {
     "data": {
      "text/html": [
       "<div>\n",
       "<style scoped>\n",
       "    .dataframe tbody tr th:only-of-type {\n",
       "        vertical-align: middle;\n",
       "    }\n",
       "\n",
       "    .dataframe tbody tr th {\n",
       "        vertical-align: top;\n",
       "    }\n",
       "\n",
       "    .dataframe thead th {\n",
       "        text-align: right;\n",
       "    }\n",
       "</style>\n",
       "<table border=\"1\" class=\"dataframe\">\n",
       "  <thead>\n",
       "    <tr style=\"text-align: right;\">\n",
       "      <th></th>\n",
       "      <th>Region</th>\n",
       "      <th>FinanceKey</th>\n",
       "      <th>Amount</th>\n",
       "      <th>Code</th>\n",
       "    </tr>\n",
       "  </thead>\n",
       "  <tbody>\n",
       "    <tr>\n",
       "      <th>one</th>\n",
       "      <td>Northeast Division</td>\n",
       "      <td>1</td>\n",
       "      <td>22080.0</td>\n",
       "      <td>16</td>\n",
       "    </tr>\n",
       "    <tr>\n",
       "      <th>two</th>\n",
       "      <td>Northwest Division</td>\n",
       "      <td>189</td>\n",
       "      <td>43120.0</td>\n",
       "      <td>16</td>\n",
       "    </tr>\n",
       "    <tr>\n",
       "      <th>three</th>\n",
       "      <td>Central Division</td>\n",
       "      <td>330</td>\n",
       "      <td>33920.0</td>\n",
       "      <td>16</td>\n",
       "    </tr>\n",
       "    <tr>\n",
       "      <th>four</th>\n",
       "      <td>Southeast Division</td>\n",
       "      <td>471</td>\n",
       "      <td>20800.0</td>\n",
       "      <td>16</td>\n",
       "    </tr>\n",
       "    <tr>\n",
       "      <th>five</th>\n",
       "      <td>Southeast Division</td>\n",
       "      <td>802</td>\n",
       "      <td>37080.0</td>\n",
       "      <td>16</td>\n",
       "    </tr>\n",
       "  </tbody>\n",
       "</table>\n",
       "</div>"
      ],
      "text/plain": [
       "                   Region  FinanceKey   Amount  Code\n",
       "one    Northeast Division           1  22080.0    16\n",
       "two    Northwest Division         189  43120.0    16\n",
       "three    Central Division         330  33920.0    16\n",
       "four   Southeast Division         471  20800.0    16\n",
       "five   Southeast Division         802  37080.0    16"
      ]
     },
     "execution_count": 49,
     "metadata": {},
     "output_type": "execute_result"
    }
   ],
   "source": [
    "del frame2['code']\n",
    "frame2"
   ]
  },
  {
   "cell_type": "code",
   "execution_count": 50,
   "metadata": {},
   "outputs": [
    {
     "data": {
      "text/html": [
       "<div>\n",
       "<style scoped>\n",
       "    .dataframe tbody tr th:only-of-type {\n",
       "        vertical-align: middle;\n",
       "    }\n",
       "\n",
       "    .dataframe tbody tr th {\n",
       "        vertical-align: top;\n",
       "    }\n",
       "\n",
       "    .dataframe thead th {\n",
       "        text-align: right;\n",
       "    }\n",
       "</style>\n",
       "<table border=\"1\" class=\"dataframe\">\n",
       "  <thead>\n",
       "    <tr style=\"text-align: right;\">\n",
       "      <th></th>\n",
       "      <th>Region</th>\n",
       "      <th>FinanceKey</th>\n",
       "      <th>Amount</th>\n",
       "      <th>Code</th>\n",
       "      <th>Sequence</th>\n",
       "    </tr>\n",
       "  </thead>\n",
       "  <tbody>\n",
       "    <tr>\n",
       "      <th>one</th>\n",
       "      <td>Northeast Division</td>\n",
       "      <td>1</td>\n",
       "      <td>22080.0</td>\n",
       "      <td>16</td>\n",
       "      <td>0</td>\n",
       "    </tr>\n",
       "    <tr>\n",
       "      <th>two</th>\n",
       "      <td>Northwest Division</td>\n",
       "      <td>189</td>\n",
       "      <td>43120.0</td>\n",
       "      <td>16</td>\n",
       "      <td>1</td>\n",
       "    </tr>\n",
       "    <tr>\n",
       "      <th>three</th>\n",
       "      <td>Central Division</td>\n",
       "      <td>330</td>\n",
       "      <td>33920.0</td>\n",
       "      <td>16</td>\n",
       "      <td>2</td>\n",
       "    </tr>\n",
       "    <tr>\n",
       "      <th>four</th>\n",
       "      <td>Southeast Division</td>\n",
       "      <td>471</td>\n",
       "      <td>20800.0</td>\n",
       "      <td>16</td>\n",
       "      <td>3</td>\n",
       "    </tr>\n",
       "    <tr>\n",
       "      <th>five</th>\n",
       "      <td>Southeast Division</td>\n",
       "      <td>802</td>\n",
       "      <td>37080.0</td>\n",
       "      <td>16</td>\n",
       "      <td>4</td>\n",
       "    </tr>\n",
       "  </tbody>\n",
       "</table>\n",
       "</div>"
      ],
      "text/plain": [
       "                   Region  FinanceKey   Amount  Code  Sequence\n",
       "one    Northeast Division           1  22080.0    16         0\n",
       "two    Northwest Division         189  43120.0    16         1\n",
       "three    Central Division         330  33920.0    16         2\n",
       "four   Southeast Division         471  20800.0    16         3\n",
       "five   Southeast Division         802  37080.0    16         4"
      ]
     },
     "execution_count": 50,
     "metadata": {},
     "output_type": "execute_result"
    }
   ],
   "source": [
    "# filling a column with a sequence of numbers\n",
    "frame2['Sequence'] = np.arange(5)\n",
    "frame2"
   ]
  },
  {
   "cell_type": "markdown",
   "metadata": {},
   "source": [
    "<a id=\"cell15\"></a>"
   ]
  },
  {
   "cell_type": "code",
   "execution_count": 51,
   "metadata": {},
   "outputs": [
    {
     "data": {
      "text/html": [
       "<div>\n",
       "<style scoped>\n",
       "    .dataframe tbody tr th:only-of-type {\n",
       "        vertical-align: middle;\n",
       "    }\n",
       "\n",
       "    .dataframe tbody tr th {\n",
       "        vertical-align: top;\n",
       "    }\n",
       "\n",
       "    .dataframe thead th {\n",
       "        text-align: right;\n",
       "    }\n",
       "</style>\n",
       "<table border=\"1\" class=\"dataframe\">\n",
       "  <thead>\n",
       "    <tr style=\"text-align: right;\">\n",
       "      <th></th>\n",
       "      <th>Region</th>\n",
       "      <th>FinanceKey</th>\n",
       "      <th>Amount</th>\n",
       "      <th>Code</th>\n",
       "      <th>Sequence</th>\n",
       "      <th>KeyArea</th>\n",
       "    </tr>\n",
       "  </thead>\n",
       "  <tbody>\n",
       "    <tr>\n",
       "      <th>one</th>\n",
       "      <td>Northeast Division</td>\n",
       "      <td>1</td>\n",
       "      <td>22080.0</td>\n",
       "      <td>16</td>\n",
       "      <td>0</td>\n",
       "      <td>False</td>\n",
       "    </tr>\n",
       "    <tr>\n",
       "      <th>two</th>\n",
       "      <td>Northwest Division</td>\n",
       "      <td>189</td>\n",
       "      <td>43120.0</td>\n",
       "      <td>16</td>\n",
       "      <td>1</td>\n",
       "      <td>False</td>\n",
       "    </tr>\n",
       "    <tr>\n",
       "      <th>three</th>\n",
       "      <td>Central Division</td>\n",
       "      <td>330</td>\n",
       "      <td>33920.0</td>\n",
       "      <td>16</td>\n",
       "      <td>2</td>\n",
       "      <td>True</td>\n",
       "    </tr>\n",
       "    <tr>\n",
       "      <th>four</th>\n",
       "      <td>Southeast Division</td>\n",
       "      <td>471</td>\n",
       "      <td>20800.0</td>\n",
       "      <td>16</td>\n",
       "      <td>3</td>\n",
       "      <td>False</td>\n",
       "    </tr>\n",
       "    <tr>\n",
       "      <th>five</th>\n",
       "      <td>Southeast Division</td>\n",
       "      <td>802</td>\n",
       "      <td>37080.0</td>\n",
       "      <td>16</td>\n",
       "      <td>4</td>\n",
       "      <td>False</td>\n",
       "    </tr>\n",
       "  </tbody>\n",
       "</table>\n",
       "</div>"
      ],
      "text/plain": [
       "                   Region  FinanceKey   Amount  Code  Sequence  KeyArea\n",
       "one    Northeast Division           1  22080.0    16         0    False\n",
       "two    Northwest Division         189  43120.0    16         1    False\n",
       "three    Central Division         330  33920.0    16         2     True\n",
       "four   Southeast Division         471  20800.0    16         3    False\n",
       "five   Southeast Division         802  37080.0    16         4    False"
      ]
     },
     "execution_count": 51,
     "metadata": {},
     "output_type": "execute_result"
    }
   ],
   "source": [
    "# Column where the boolean value True or False will depend on a condition\n",
    "frame2['KeyArea'] = frame2.Region == 'Central Division'\n",
    "frame2"
   ]
  },
  {
   "cell_type": "markdown",
   "metadata": {},
   "source": [
    "### Change column position in frame\n",
    "<a id=\"cell101\"></a>"
   ]
  },
  {
   "cell_type": "code",
   "execution_count": 52,
   "metadata": {},
   "outputs": [
    {
     "data": {
      "text/plain": [
       "array(['Region', 'FinanceKey', 'Amount', 'Code', 'Sequence', 'KeyArea'],\n",
       "      dtype=object)"
      ]
     },
     "execution_count": 52,
     "metadata": {},
     "output_type": "execute_result"
    }
   ],
   "source": [
    "frame2.columns.values"
   ]
  },
  {
   "cell_type": "code",
   "execution_count": 53,
   "metadata": {},
   "outputs": [],
   "source": [
    "frame2 = frame2[['KeyArea', 'Code', 'Sequence', 'Region', 'FinanceKey', 'Amount']]"
   ]
  },
  {
   "cell_type": "code",
   "execution_count": 54,
   "metadata": {},
   "outputs": [
    {
     "data": {
      "text/html": [
       "<div>\n",
       "<style scoped>\n",
       "    .dataframe tbody tr th:only-of-type {\n",
       "        vertical-align: middle;\n",
       "    }\n",
       "\n",
       "    .dataframe tbody tr th {\n",
       "        vertical-align: top;\n",
       "    }\n",
       "\n",
       "    .dataframe thead th {\n",
       "        text-align: right;\n",
       "    }\n",
       "</style>\n",
       "<table border=\"1\" class=\"dataframe\">\n",
       "  <thead>\n",
       "    <tr style=\"text-align: right;\">\n",
       "      <th></th>\n",
       "      <th>KeyArea</th>\n",
       "      <th>Code</th>\n",
       "      <th>Sequence</th>\n",
       "      <th>Region</th>\n",
       "      <th>FinanceKey</th>\n",
       "      <th>Amount</th>\n",
       "    </tr>\n",
       "  </thead>\n",
       "  <tbody>\n",
       "    <tr>\n",
       "      <th>one</th>\n",
       "      <td>False</td>\n",
       "      <td>16</td>\n",
       "      <td>0</td>\n",
       "      <td>Northeast Division</td>\n",
       "      <td>1</td>\n",
       "      <td>22080.0</td>\n",
       "    </tr>\n",
       "    <tr>\n",
       "      <th>two</th>\n",
       "      <td>False</td>\n",
       "      <td>16</td>\n",
       "      <td>1</td>\n",
       "      <td>Northwest Division</td>\n",
       "      <td>189</td>\n",
       "      <td>43120.0</td>\n",
       "    </tr>\n",
       "    <tr>\n",
       "      <th>three</th>\n",
       "      <td>True</td>\n",
       "      <td>16</td>\n",
       "      <td>2</td>\n",
       "      <td>Central Division</td>\n",
       "      <td>330</td>\n",
       "      <td>33920.0</td>\n",
       "    </tr>\n",
       "    <tr>\n",
       "      <th>four</th>\n",
       "      <td>False</td>\n",
       "      <td>16</td>\n",
       "      <td>3</td>\n",
       "      <td>Southeast Division</td>\n",
       "      <td>471</td>\n",
       "      <td>20800.0</td>\n",
       "    </tr>\n",
       "    <tr>\n",
       "      <th>five</th>\n",
       "      <td>False</td>\n",
       "      <td>16</td>\n",
       "      <td>4</td>\n",
       "      <td>Southeast Division</td>\n",
       "      <td>802</td>\n",
       "      <td>37080.0</td>\n",
       "    </tr>\n",
       "  </tbody>\n",
       "</table>\n",
       "</div>"
      ],
      "text/plain": [
       "       KeyArea  Code  Sequence              Region  FinanceKey   Amount\n",
       "one      False    16         0  Northeast Division           1  22080.0\n",
       "two      False    16         1  Northwest Division         189  43120.0\n",
       "three     True    16         2    Central Division         330  33920.0\n",
       "four     False    16         3  Southeast Division         471  20800.0\n",
       "five     False    16         4  Southeast Division         802  37080.0"
      ]
     },
     "execution_count": 54,
     "metadata": {},
     "output_type": "execute_result"
    }
   ],
   "source": [
    "frame2"
   ]
  },
  {
   "cell_type": "markdown",
   "metadata": {},
   "source": [
    "### Sorting values in Dataframe\n",
    "<a id=\"cell102\"></a>"
   ]
  },
  {
   "cell_type": "code",
   "execution_count": 55,
   "metadata": {},
   "outputs": [
    {
     "data": {
      "text/html": [
       "<div>\n",
       "<style scoped>\n",
       "    .dataframe tbody tr th:only-of-type {\n",
       "        vertical-align: middle;\n",
       "    }\n",
       "\n",
       "    .dataframe tbody tr th {\n",
       "        vertical-align: top;\n",
       "    }\n",
       "\n",
       "    .dataframe thead th {\n",
       "        text-align: right;\n",
       "    }\n",
       "</style>\n",
       "<table border=\"1\" class=\"dataframe\">\n",
       "  <thead>\n",
       "    <tr style=\"text-align: right;\">\n",
       "      <th></th>\n",
       "      <th>KeyArea</th>\n",
       "      <th>Code</th>\n",
       "      <th>Sequence</th>\n",
       "      <th>Region</th>\n",
       "      <th>FinanceKey</th>\n",
       "      <th>Amount</th>\n",
       "    </tr>\n",
       "  </thead>\n",
       "  <tbody>\n",
       "    <tr>\n",
       "      <th>four</th>\n",
       "      <td>False</td>\n",
       "      <td>16</td>\n",
       "      <td>3</td>\n",
       "      <td>Southeast Division</td>\n",
       "      <td>471</td>\n",
       "      <td>20800.0</td>\n",
       "    </tr>\n",
       "    <tr>\n",
       "      <th>five</th>\n",
       "      <td>False</td>\n",
       "      <td>16</td>\n",
       "      <td>4</td>\n",
       "      <td>Southeast Division</td>\n",
       "      <td>802</td>\n",
       "      <td>37080.0</td>\n",
       "    </tr>\n",
       "    <tr>\n",
       "      <th>two</th>\n",
       "      <td>False</td>\n",
       "      <td>16</td>\n",
       "      <td>1</td>\n",
       "      <td>Northwest Division</td>\n",
       "      <td>189</td>\n",
       "      <td>43120.0</td>\n",
       "    </tr>\n",
       "    <tr>\n",
       "      <th>one</th>\n",
       "      <td>False</td>\n",
       "      <td>16</td>\n",
       "      <td>0</td>\n",
       "      <td>Northeast Division</td>\n",
       "      <td>1</td>\n",
       "      <td>22080.0</td>\n",
       "    </tr>\n",
       "    <tr>\n",
       "      <th>three</th>\n",
       "      <td>True</td>\n",
       "      <td>16</td>\n",
       "      <td>2</td>\n",
       "      <td>Central Division</td>\n",
       "      <td>330</td>\n",
       "      <td>33920.0</td>\n",
       "    </tr>\n",
       "  </tbody>\n",
       "</table>\n",
       "</div>"
      ],
      "text/plain": [
       "       KeyArea  Code  Sequence              Region  FinanceKey   Amount\n",
       "four     False    16         3  Southeast Division         471  20800.0\n",
       "five     False    16         4  Southeast Division         802  37080.0\n",
       "two      False    16         1  Northwest Division         189  43120.0\n",
       "one      False    16         0  Northeast Division           1  22080.0\n",
       "three     True    16         2    Central Division         330  33920.0"
      ]
     },
     "execution_count": 55,
     "metadata": {},
     "output_type": "execute_result"
    }
   ],
   "source": [
    "frame2.sort_values(by ='Region', ascending= False)"
   ]
  },
  {
   "cell_type": "markdown",
   "metadata": {},
   "source": [
    "#### For array sorting numpy.sort could be of great use\n",
    "<a id=\"cell103\"></a>"
   ]
  },
  {
   "cell_type": "code",
   "execution_count": 56,
   "metadata": {},
   "outputs": [
    {
     "data": {
      "text/plain": [
       "array([0, 1, 2, 3, 4])"
      ]
     },
     "execution_count": 56,
     "metadata": {},
     "output_type": "execute_result"
    }
   ],
   "source": [
    "np.sort(frame2.Sequence.values)"
   ]
  },
  {
   "cell_type": "markdown",
   "metadata": {},
   "source": [
    "### Assigning values to specific cells in the dataframe"
   ]
  },
  {
   "cell_type": "code",
   "execution_count": 57,
   "metadata": {},
   "outputs": [],
   "source": [
    "codes = pd.Series([12, 18, 20], index =['two', 'four', 'five'])"
   ]
  },
  {
   "cell_type": "code",
   "execution_count": 58,
   "metadata": {},
   "outputs": [
    {
     "data": {
      "text/html": [
       "<div>\n",
       "<style scoped>\n",
       "    .dataframe tbody tr th:only-of-type {\n",
       "        vertical-align: middle;\n",
       "    }\n",
       "\n",
       "    .dataframe tbody tr th {\n",
       "        vertical-align: top;\n",
       "    }\n",
       "\n",
       "    .dataframe thead th {\n",
       "        text-align: right;\n",
       "    }\n",
       "</style>\n",
       "<table border=\"1\" class=\"dataframe\">\n",
       "  <thead>\n",
       "    <tr style=\"text-align: right;\">\n",
       "      <th></th>\n",
       "      <th>KeyArea</th>\n",
       "      <th>Code</th>\n",
       "      <th>Sequence</th>\n",
       "      <th>Region</th>\n",
       "      <th>FinanceKey</th>\n",
       "      <th>Amount</th>\n",
       "    </tr>\n",
       "  </thead>\n",
       "  <tbody>\n",
       "    <tr>\n",
       "      <th>one</th>\n",
       "      <td>False</td>\n",
       "      <td>NaN</td>\n",
       "      <td>0</td>\n",
       "      <td>Northeast Division</td>\n",
       "      <td>1</td>\n",
       "      <td>22080.0</td>\n",
       "    </tr>\n",
       "    <tr>\n",
       "      <th>two</th>\n",
       "      <td>False</td>\n",
       "      <td>12.0</td>\n",
       "      <td>1</td>\n",
       "      <td>Northwest Division</td>\n",
       "      <td>189</td>\n",
       "      <td>43120.0</td>\n",
       "    </tr>\n",
       "    <tr>\n",
       "      <th>three</th>\n",
       "      <td>True</td>\n",
       "      <td>NaN</td>\n",
       "      <td>2</td>\n",
       "      <td>Central Division</td>\n",
       "      <td>330</td>\n",
       "      <td>33920.0</td>\n",
       "    </tr>\n",
       "    <tr>\n",
       "      <th>four</th>\n",
       "      <td>False</td>\n",
       "      <td>18.0</td>\n",
       "      <td>3</td>\n",
       "      <td>Southeast Division</td>\n",
       "      <td>471</td>\n",
       "      <td>20800.0</td>\n",
       "    </tr>\n",
       "    <tr>\n",
       "      <th>five</th>\n",
       "      <td>False</td>\n",
       "      <td>20.0</td>\n",
       "      <td>4</td>\n",
       "      <td>Southeast Division</td>\n",
       "      <td>802</td>\n",
       "      <td>37080.0</td>\n",
       "    </tr>\n",
       "  </tbody>\n",
       "</table>\n",
       "</div>"
      ],
      "text/plain": [
       "       KeyArea  Code  Sequence              Region  FinanceKey   Amount\n",
       "one      False   NaN         0  Northeast Division           1  22080.0\n",
       "two      False  12.0         1  Northwest Division         189  43120.0\n",
       "three     True   NaN         2    Central Division         330  33920.0\n",
       "four     False  18.0         3  Southeast Division         471  20800.0\n",
       "five     False  20.0         4  Southeast Division         802  37080.0"
      ]
     },
     "execution_count": 58,
     "metadata": {},
     "output_type": "execute_result"
    }
   ],
   "source": [
    "frame2['Code'] = codes # it will assign values matching using\n",
    "frame2               # the index of the val series"
   ]
  },
  {
   "cell_type": "markdown",
   "metadata": {},
   "source": [
    "### It is important to see that it replaces not only the values in the series but it also deletes the rest of the values"
   ]
  },
  {
   "cell_type": "code",
   "execution_count": 59,
   "metadata": {},
   "outputs": [],
   "source": [
    "Sales = {'Northeast Division': {2018 : 4.6, 2019: 5.6}, \n",
    "       'Central Division': {2018: 5.2, 2019: 6.7, 2020:3.6}}\n",
    "# layers of Dictionaries"
   ]
  },
  {
   "cell_type": "code",
   "execution_count": 60,
   "metadata": {},
   "outputs": [
    {
     "data": {
      "text/html": [
       "<div>\n",
       "<style scoped>\n",
       "    .dataframe tbody tr th:only-of-type {\n",
       "        vertical-align: middle;\n",
       "    }\n",
       "\n",
       "    .dataframe tbody tr th {\n",
       "        vertical-align: top;\n",
       "    }\n",
       "\n",
       "    .dataframe thead th {\n",
       "        text-align: right;\n",
       "    }\n",
       "</style>\n",
       "<table border=\"1\" class=\"dataframe\">\n",
       "  <thead>\n",
       "    <tr style=\"text-align: right;\">\n",
       "      <th></th>\n",
       "      <th>Northeast Division</th>\n",
       "      <th>Central Division</th>\n",
       "    </tr>\n",
       "  </thead>\n",
       "  <tbody>\n",
       "    <tr>\n",
       "      <th>2018</th>\n",
       "      <td>4.6</td>\n",
       "      <td>5.2</td>\n",
       "    </tr>\n",
       "    <tr>\n",
       "      <th>2019</th>\n",
       "      <td>5.6</td>\n",
       "      <td>6.7</td>\n",
       "    </tr>\n",
       "    <tr>\n",
       "      <th>2020</th>\n",
       "      <td>NaN</td>\n",
       "      <td>3.6</td>\n",
       "    </tr>\n",
       "  </tbody>\n",
       "</table>\n",
       "</div>"
      ],
      "text/plain": [
       "      Northeast Division  Central Division\n",
       "2018                 4.6               5.2\n",
       "2019                 5.6               6.7\n",
       "2020                 NaN               3.6"
      ]
     },
     "execution_count": 60,
     "metadata": {},
     "output_type": "execute_result"
    }
   ],
   "source": [
    "frame3 = pd.DataFrame(Sales)\n",
    "frame3"
   ]
  },
  {
   "cell_type": "code",
   "execution_count": 61,
   "metadata": {},
   "outputs": [
    {
     "data": {
      "text/html": [
       "<div>\n",
       "<style scoped>\n",
       "    .dataframe tbody tr th:only-of-type {\n",
       "        vertical-align: middle;\n",
       "    }\n",
       "\n",
       "    .dataframe tbody tr th {\n",
       "        vertical-align: top;\n",
       "    }\n",
       "\n",
       "    .dataframe thead th {\n",
       "        text-align: right;\n",
       "    }\n",
       "</style>\n",
       "<table border=\"1\" class=\"dataframe\">\n",
       "  <thead>\n",
       "    <tr style=\"text-align: right;\">\n",
       "      <th></th>\n",
       "      <th>2018</th>\n",
       "      <th>2019</th>\n",
       "      <th>2020</th>\n",
       "    </tr>\n",
       "  </thead>\n",
       "  <tbody>\n",
       "    <tr>\n",
       "      <th>Northeast Division</th>\n",
       "      <td>4.6</td>\n",
       "      <td>5.6</td>\n",
       "      <td>NaN</td>\n",
       "    </tr>\n",
       "    <tr>\n",
       "      <th>Central Division</th>\n",
       "      <td>5.2</td>\n",
       "      <td>6.7</td>\n",
       "      <td>3.6</td>\n",
       "    </tr>\n",
       "  </tbody>\n",
       "</table>\n",
       "</div>"
      ],
      "text/plain": [
       "                    2018  2019  2020\n",
       "Northeast Division   4.6   5.6   NaN\n",
       "Central Division     5.2   6.7   3.6"
      ]
     },
     "execution_count": 61,
     "metadata": {},
     "output_type": "execute_result"
    }
   ],
   "source": [
    "frame3.T"
   ]
  },
  {
   "cell_type": "code",
   "execution_count": 62,
   "metadata": {},
   "outputs": [
    {
     "data": {
      "text/html": [
       "<div>\n",
       "<style scoped>\n",
       "    .dataframe tbody tr th:only-of-type {\n",
       "        vertical-align: middle;\n",
       "    }\n",
       "\n",
       "    .dataframe tbody tr th {\n",
       "        vertical-align: top;\n",
       "    }\n",
       "\n",
       "    .dataframe thead th {\n",
       "        text-align: right;\n",
       "    }\n",
       "</style>\n",
       "<table border=\"1\" class=\"dataframe\">\n",
       "  <thead>\n",
       "    <tr style=\"text-align: right;\">\n",
       "      <th></th>\n",
       "      <th>Northeast Division</th>\n",
       "      <th>Central Division</th>\n",
       "    </tr>\n",
       "  </thead>\n",
       "  <tbody>\n",
       "    <tr>\n",
       "      <th>2017</th>\n",
       "      <td>NaN</td>\n",
       "      <td>NaN</td>\n",
       "    </tr>\n",
       "    <tr>\n",
       "      <th>2018</th>\n",
       "      <td>4.6</td>\n",
       "      <td>5.2</td>\n",
       "    </tr>\n",
       "    <tr>\n",
       "      <th>2019</th>\n",
       "      <td>5.6</td>\n",
       "      <td>6.7</td>\n",
       "    </tr>\n",
       "  </tbody>\n",
       "</table>\n",
       "</div>"
      ],
      "text/plain": [
       "      Northeast Division  Central Division\n",
       "2017                 NaN               NaN\n",
       "2018                 4.6               5.2\n",
       "2019                 5.6               6.7"
      ]
     },
     "execution_count": 62,
     "metadata": {},
     "output_type": "execute_result"
    }
   ],
   "source": [
    "pd.DataFrame(Sales,index = [2017,2018,2019])"
   ]
  },
  {
   "cell_type": "markdown",
   "metadata": {},
   "source": [
    "### Selectiong data left to right & right to left"
   ]
  },
  {
   "cell_type": "code",
   "execution_count": 63,
   "metadata": {},
   "outputs": [],
   "source": [
    "pdata = {'Central Division' : frame3['Central Division'][:-1], 'Central Division': frame3['Central Division'][:2]}"
   ]
  },
  {
   "cell_type": "code",
   "execution_count": 64,
   "metadata": {},
   "outputs": [
    {
     "data": {
      "text/plain": [
       "2018    5.2\n",
       "2019    6.7\n",
       "Name: Central Division, dtype: float64"
      ]
     },
     "execution_count": 64,
     "metadata": {},
     "output_type": "execute_result"
    }
   ],
   "source": [
    "frame3['Central Division'][:-1]"
   ]
  },
  {
   "cell_type": "code",
   "execution_count": 65,
   "metadata": {},
   "outputs": [
    {
     "data": {
      "text/html": [
       "<div>\n",
       "<style scoped>\n",
       "    .dataframe tbody tr th:only-of-type {\n",
       "        vertical-align: middle;\n",
       "    }\n",
       "\n",
       "    .dataframe tbody tr th {\n",
       "        vertical-align: top;\n",
       "    }\n",
       "\n",
       "    .dataframe thead th {\n",
       "        text-align: right;\n",
       "    }\n",
       "</style>\n",
       "<table border=\"1\" class=\"dataframe\">\n",
       "  <thead>\n",
       "    <tr style=\"text-align: right;\">\n",
       "      <th></th>\n",
       "      <th>Central Division</th>\n",
       "    </tr>\n",
       "  </thead>\n",
       "  <tbody>\n",
       "    <tr>\n",
       "      <th>2018</th>\n",
       "      <td>5.2</td>\n",
       "    </tr>\n",
       "    <tr>\n",
       "      <th>2019</th>\n",
       "      <td>6.7</td>\n",
       "    </tr>\n",
       "  </tbody>\n",
       "</table>\n",
       "</div>"
      ],
      "text/plain": [
       "      Central Division\n",
       "2018               5.2\n",
       "2019               6.7"
      ]
     },
     "execution_count": 65,
     "metadata": {},
     "output_type": "execute_result"
    }
   ],
   "source": [
    "pd.DataFrame(pdata)"
   ]
  },
  {
   "cell_type": "markdown",
   "metadata": {},
   "source": [
    "<a id=\"cell16\"></a>"
   ]
  },
  {
   "cell_type": "code",
   "execution_count": 66,
   "metadata": {},
   "outputs": [
    {
     "data": {
      "text/html": [
       "<div>\n",
       "<style scoped>\n",
       "    .dataframe tbody tr th:only-of-type {\n",
       "        vertical-align: middle;\n",
       "    }\n",
       "\n",
       "    .dataframe tbody tr th {\n",
       "        vertical-align: top;\n",
       "    }\n",
       "\n",
       "    .dataframe thead th {\n",
       "        text-align: right;\n",
       "    }\n",
       "</style>\n",
       "<table border=\"1\" class=\"dataframe\">\n",
       "  <thead>\n",
       "    <tr style=\"text-align: right;\">\n",
       "      <th>Region</th>\n",
       "      <th>Northeast Division</th>\n",
       "      <th>Central Division</th>\n",
       "    </tr>\n",
       "    <tr>\n",
       "      <th>years</th>\n",
       "      <th></th>\n",
       "      <th></th>\n",
       "    </tr>\n",
       "  </thead>\n",
       "  <tbody>\n",
       "    <tr>\n",
       "      <th>2018</th>\n",
       "      <td>4.6</td>\n",
       "      <td>5.2</td>\n",
       "    </tr>\n",
       "    <tr>\n",
       "      <th>2019</th>\n",
       "      <td>5.6</td>\n",
       "      <td>6.7</td>\n",
       "    </tr>\n",
       "    <tr>\n",
       "      <th>2020</th>\n",
       "      <td>NaN</td>\n",
       "      <td>3.6</td>\n",
       "    </tr>\n",
       "  </tbody>\n",
       "</table>\n",
       "</div>"
      ],
      "text/plain": [
       "Region  Northeast Division  Central Division\n",
       "years                                       \n",
       "2018                   4.6               5.2\n",
       "2019                   5.6               6.7\n",
       "2020                   NaN               3.6"
      ]
     },
     "execution_count": 66,
     "metadata": {},
     "output_type": "execute_result"
    }
   ],
   "source": [
    "frame3.index.name = 'years'; frame3.columns.name = 'Region' \n",
    "# good way to pass two statements on the same line\n",
    "frame3"
   ]
  },
  {
   "cell_type": "markdown",
   "metadata": {},
   "source": [
    "<a id=\"cell17\"></a>"
   ]
  },
  {
   "cell_type": "code",
   "execution_count": 67,
   "metadata": {},
   "outputs": [
    {
     "data": {
      "text/plain": [
       "array([[4.6, 5.2],\n",
       "       [5.6, 6.7],\n",
       "       [nan, 3.6]])"
      ]
     },
     "execution_count": 67,
     "metadata": {},
     "output_type": "execute_result"
    }
   ],
   "source": [
    "frame3.values # it gets you the values only"
   ]
  },
  {
   "cell_type": "code",
   "execution_count": 68,
   "metadata": {},
   "outputs": [
    {
     "data": {
      "text/plain": [
       "0    0\n",
       "1    1\n",
       "2    2\n",
       "3    3\n",
       "dtype: int32"
      ]
     },
     "execution_count": 68,
     "metadata": {},
     "output_type": "execute_result"
    }
   ],
   "source": [
    "obj5 = pd.Series(np.arange(4) , index = np.arange(4))\n",
    "obj5"
   ]
  },
  {
   "cell_type": "markdown",
   "metadata": {},
   "source": [
    "<a id=\"cell18\"></a>"
   ]
  },
  {
   "cell_type": "code",
   "execution_count": 69,
   "metadata": {},
   "outputs": [
    {
     "data": {
      "text/plain": [
       "2    2.0\n",
       "4    NaN\n",
       "3    3.0\n",
       "1    1.0\n",
       "dtype: float64"
      ]
     },
     "execution_count": 69,
     "metadata": {},
     "output_type": "execute_result"
    }
   ],
   "source": [
    "obj6 = obj5.reindex([2,4,3,1])\n",
    "obj6"
   ]
  },
  {
   "cell_type": "code",
   "execution_count": 70,
   "metadata": {},
   "outputs": [
    {
     "data": {
      "text/plain": [
       "2    2\n",
       "4    0\n",
       "3    3\n",
       "1    1\n",
       "dtype: int32"
      ]
     },
     "execution_count": 70,
     "metadata": {},
     "output_type": "execute_result"
    }
   ],
   "source": [
    "obj5.reindex([2,4,3,1],fill_value = 0)"
   ]
  },
  {
   "cell_type": "code",
   "execution_count": 71,
   "metadata": {},
   "outputs": [
    {
     "data": {
      "text/plain": [
       "1    Northeast\n",
       "2    Southeast\n",
       "3      Central\n",
       "dtype: object"
      ]
     },
     "execution_count": 71,
     "metadata": {},
     "output_type": "execute_result"
    }
   ],
   "source": [
    "obj7 = pd.Series(['Northeast', 'Southeast','Central'], index = [1,2,3])\n",
    "obj7"
   ]
  },
  {
   "cell_type": "code",
   "execution_count": 72,
   "metadata": {},
   "outputs": [
    {
     "data": {
      "text/plain": [
       "0          NaN\n",
       "1    Northeast\n",
       "2    Southeast\n",
       "3      Central\n",
       "4      Central\n",
       "5      Central\n",
       "dtype: object"
      ]
     },
     "execution_count": 72,
     "metadata": {},
     "output_type": "execute_result"
    }
   ],
   "source": [
    "obj7.reindex(range(6), method = 'ffill') \n",
    "#it defines the length of the range followed by the method selected\n",
    "#for backward filling use --> bfill"
   ]
  },
  {
   "cell_type": "code",
   "execution_count": 73,
   "metadata": {},
   "outputs": [],
   "source": [
    "datas = pd.DataFrame(np.arange(10,210,10).reshape((5,4)),\n",
    "                     index = ['Northeast','Northwest','Central','Southeast', 'Southwest'],\n",
    "                     columns = [16,17,18,19])\n"
   ]
  },
  {
   "cell_type": "code",
   "execution_count": 74,
   "metadata": {},
   "outputs": [
    {
     "data": {
      "text/html": [
       "<div>\n",
       "<style scoped>\n",
       "    .dataframe tbody tr th:only-of-type {\n",
       "        vertical-align: middle;\n",
       "    }\n",
       "\n",
       "    .dataframe tbody tr th {\n",
       "        vertical-align: top;\n",
       "    }\n",
       "\n",
       "    .dataframe thead th {\n",
       "        text-align: right;\n",
       "    }\n",
       "</style>\n",
       "<table border=\"1\" class=\"dataframe\">\n",
       "  <thead>\n",
       "    <tr style=\"text-align: right;\">\n",
       "      <th></th>\n",
       "      <th>16</th>\n",
       "      <th>17</th>\n",
       "      <th>18</th>\n",
       "      <th>19</th>\n",
       "    </tr>\n",
       "  </thead>\n",
       "  <tbody>\n",
       "    <tr>\n",
       "      <th>Northeast</th>\n",
       "      <td>10</td>\n",
       "      <td>20</td>\n",
       "      <td>30</td>\n",
       "      <td>40</td>\n",
       "    </tr>\n",
       "    <tr>\n",
       "      <th>Northwest</th>\n",
       "      <td>50</td>\n",
       "      <td>60</td>\n",
       "      <td>70</td>\n",
       "      <td>80</td>\n",
       "    </tr>\n",
       "    <tr>\n",
       "      <th>Central</th>\n",
       "      <td>90</td>\n",
       "      <td>100</td>\n",
       "      <td>110</td>\n",
       "      <td>120</td>\n",
       "    </tr>\n",
       "    <tr>\n",
       "      <th>Southeast</th>\n",
       "      <td>130</td>\n",
       "      <td>140</td>\n",
       "      <td>150</td>\n",
       "      <td>160</td>\n",
       "    </tr>\n",
       "    <tr>\n",
       "      <th>Southwest</th>\n",
       "      <td>170</td>\n",
       "      <td>180</td>\n",
       "      <td>190</td>\n",
       "      <td>200</td>\n",
       "    </tr>\n",
       "  </tbody>\n",
       "</table>\n",
       "</div>"
      ],
      "text/plain": [
       "            16   17   18   19\n",
       "Northeast   10   20   30   40\n",
       "Northwest   50   60   70   80\n",
       "Central     90  100  110  120\n",
       "Southeast  130  140  150  160\n",
       "Southwest  170  180  190  200"
      ]
     },
     "execution_count": 74,
     "metadata": {},
     "output_type": "execute_result"
    }
   ],
   "source": [
    "datas"
   ]
  },
  {
   "cell_type": "markdown",
   "metadata": {},
   "source": [
    "<a id=\"cell19\"></a>"
   ]
  },
  {
   "cell_type": "code",
   "execution_count": 75,
   "metadata": {},
   "outputs": [
    {
     "data": {
      "text/html": [
       "<div>\n",
       "<style scoped>\n",
       "    .dataframe tbody tr th:only-of-type {\n",
       "        vertical-align: middle;\n",
       "    }\n",
       "\n",
       "    .dataframe tbody tr th {\n",
       "        vertical-align: top;\n",
       "    }\n",
       "\n",
       "    .dataframe thead th {\n",
       "        text-align: right;\n",
       "    }\n",
       "</style>\n",
       "<table border=\"1\" class=\"dataframe\">\n",
       "  <thead>\n",
       "    <tr style=\"text-align: right;\">\n",
       "      <th></th>\n",
       "      <th>16</th>\n",
       "      <th>17</th>\n",
       "      <th>18</th>\n",
       "      <th>19</th>\n",
       "    </tr>\n",
       "  </thead>\n",
       "  <tbody>\n",
       "    <tr>\n",
       "      <th>Northeast</th>\n",
       "      <td>10</td>\n",
       "      <td>20</td>\n",
       "      <td>30</td>\n",
       "      <td>40</td>\n",
       "    </tr>\n",
       "    <tr>\n",
       "      <th>Northwest</th>\n",
       "      <td>50</td>\n",
       "      <td>60</td>\n",
       "      <td>70</td>\n",
       "      <td>80</td>\n",
       "    </tr>\n",
       "    <tr>\n",
       "      <th>Central</th>\n",
       "      <td>90</td>\n",
       "      <td>100</td>\n",
       "      <td>110</td>\n",
       "      <td>120</td>\n",
       "    </tr>\n",
       "  </tbody>\n",
       "</table>\n",
       "</div>"
      ],
      "text/plain": [
       "           16   17   18   19\n",
       "Northeast  10   20   30   40\n",
       "Northwest  50   60   70   80\n",
       "Central    90  100  110  120"
      ]
     },
     "execution_count": 75,
     "metadata": {},
     "output_type": "execute_result"
    }
   ],
   "source": [
    "datas.drop(['Southeast', 'Southwest'])"
   ]
  },
  {
   "cell_type": "code",
   "execution_count": 76,
   "metadata": {},
   "outputs": [
    {
     "data": {
      "text/html": [
       "<div>\n",
       "<style scoped>\n",
       "    .dataframe tbody tr th:only-of-type {\n",
       "        vertical-align: middle;\n",
       "    }\n",
       "\n",
       "    .dataframe tbody tr th {\n",
       "        vertical-align: top;\n",
       "    }\n",
       "\n",
       "    .dataframe thead th {\n",
       "        text-align: right;\n",
       "    }\n",
       "</style>\n",
       "<table border=\"1\" class=\"dataframe\">\n",
       "  <thead>\n",
       "    <tr style=\"text-align: right;\">\n",
       "      <th></th>\n",
       "      <th>16</th>\n",
       "      <th>19</th>\n",
       "    </tr>\n",
       "  </thead>\n",
       "  <tbody>\n",
       "    <tr>\n",
       "      <th>Northeast</th>\n",
       "      <td>10</td>\n",
       "      <td>40</td>\n",
       "    </tr>\n",
       "    <tr>\n",
       "      <th>Northwest</th>\n",
       "      <td>50</td>\n",
       "      <td>80</td>\n",
       "    </tr>\n",
       "    <tr>\n",
       "      <th>Central</th>\n",
       "      <td>90</td>\n",
       "      <td>120</td>\n",
       "    </tr>\n",
       "    <tr>\n",
       "      <th>Southeast</th>\n",
       "      <td>130</td>\n",
       "      <td>160</td>\n",
       "    </tr>\n",
       "    <tr>\n",
       "      <th>Southwest</th>\n",
       "      <td>170</td>\n",
       "      <td>200</td>\n",
       "    </tr>\n",
       "  </tbody>\n",
       "</table>\n",
       "</div>"
      ],
      "text/plain": [
       "            16   19\n",
       "Northeast   10   40\n",
       "Northwest   50   80\n",
       "Central     90  120\n",
       "Southeast  130  160\n",
       "Southwest  170  200"
      ]
     },
     "execution_count": 76,
     "metadata": {},
     "output_type": "execute_result"
    }
   ],
   "source": [
    "datas.drop([17,18], axis =1)"
   ]
  },
  {
   "cell_type": "code",
   "execution_count": null,
   "metadata": {},
   "outputs": [],
   "source": []
  }
 ],
 "metadata": {
  "extensions": {
   "jupyter_dashboards": {
    "activeView": "grid_default",
    "version": 1,
    "views": {
     "grid_default": {
      "cellMargin": 10,
      "defaultCellHeight": 20,
      "maxColumns": 12,
      "name": "grid",
      "type": "grid"
     },
     "report_default": {
      "name": "report",
      "type": "report"
     }
    }
   }
  },
  "kernelspec": {
   "display_name": "Python 3",
   "language": "python",
   "name": "python3"
  },
  "language_info": {
   "codemirror_mode": {
    "name": "ipython",
    "version": 3
   },
   "file_extension": ".py",
   "mimetype": "text/x-python",
   "name": "python",
   "nbconvert_exporter": "python",
   "pygments_lexer": "ipython3",
   "version": "3.8.8"
  }
 },
 "nbformat": 4,
 "nbformat_minor": 4
}
