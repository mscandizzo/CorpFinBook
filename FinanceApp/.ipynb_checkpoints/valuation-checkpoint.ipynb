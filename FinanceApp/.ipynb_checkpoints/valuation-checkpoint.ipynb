{
 "cells": [
  {
   "cell_type": "markdown",
   "metadata": {},
   "source": [
    "## Build and use modules and valuation tools in Python\n",
    "----------------------\n",
    "\n",
    "### Importing module \n",
    "\n",
    "(If path is not mapped it should be in the same folder where the notebook is located)"
   ]
  },
  {
   "cell_type": "code",
   "execution_count": 1,
   "metadata": {},
   "outputs": [],
   "source": [
    "import corpfin as cf"
   ]
  },
  {
   "cell_type": "code",
   "execution_count": 2,
   "metadata": {},
   "outputs": [],
   "source": [
    "cupon = [20,20,20,20,120]"
   ]
  },
  {
   "cell_type": "code",
   "execution_count": 3,
   "metadata": {},
   "outputs": [],
   "source": [
    "precio = cf.bond_pricing(min=2,max=8,coupon=cupon,num=10)"
   ]
  },
  {
   "cell_type": "code",
   "execution_count": 4,
   "metadata": {},
   "outputs": [
    {
     "data": {
      "text/plain": [
       "[184.84227115307567,\n",
       " 180.1427896417232,\n",
       " 175.60739401598036,\n",
       " 171.2291572962593,\n",
       " 167.00149069590935,\n",
       " 162.91812498559284,\n",
       " 158.97309299792,\n",
       " 155.16071319580078,\n",
       " 151.47557423355067,\n",
       " 147.912520444937]"
      ]
     },
     "execution_count": 4,
     "metadata": {},
     "output_type": "execute_result"
    }
   ],
   "source": [
    "precio"
   ]
  },
  {
   "cell_type": "code",
   "execution_count": 5,
   "metadata": {},
   "outputs": [],
   "source": [
    "cupon2 = [0,20,20,20,20,120]"
   ]
  },
  {
   "cell_type": "code",
   "execution_count": 6,
   "metadata": {},
   "outputs": [],
   "source": [
    "precio2 = cf.bond_pricing_pythonic(min=.02,max=0.08,coupon=cupon2,num=10)"
   ]
  },
  {
   "cell_type": "code",
   "execution_count": 7,
   "metadata": {},
   "outputs": [
    {
     "data": {
      "text/plain": [
       "[184.84227115307567,\n",
       " 180.1427896417232,\n",
       " 175.60739401598036,\n",
       " 171.2291572962593,\n",
       " 167.00149069590935,\n",
       " 162.91812498559284,\n",
       " 158.97309299792,\n",
       " 155.16071319580078,\n",
       " 151.47557423355067,\n",
       " 147.912520444937]"
      ]
     },
     "execution_count": 7,
     "metadata": {},
     "output_type": "execute_result"
    }
   ],
   "source": [
    "precio2"
   ]
  },
  {
   "cell_type": "code",
   "execution_count": 8,
   "metadata": {},
   "outputs": [
    {
     "name": "stdout",
     "output_type": "stream",
     "text": [
      "Help on function bond_pricing in module corpfin:\n",
      "\n",
      "bond_pricing(min, max, coupon, num=20)\n",
      "    Net present value simulation \n",
      "    min = minimum discount rate \n",
      "    max = maximum discount rate\n",
      "    coupon = sequence of values representing a cash flow stream\n",
      "    num = number of simulation steps, default value = 20\n",
      "\n"
     ]
    }
   ],
   "source": [
    "help(cf.bond_pricing)"
   ]
  },
  {
   "cell_type": "code",
   "execution_count": 9,
   "metadata": {},
   "outputs": [],
   "source": [
    "parameters = {'re':[.1,.12,.2],'g':[.05,.1,.2],'ear':[20,50,100],'pays':[.4,.6,.8]}"
   ]
  },
  {
   "cell_type": "code",
   "execution_count": 10,
   "metadata": {},
   "outputs": [],
   "source": [
    "from sklearn.model_selection import GridSearchCV"
   ]
  },
  {
   "cell_type": "code",
   "execution_count": 11,
   "metadata": {},
   "outputs": [],
   "source": [
    "clf = GridSearchCV(cf.terminal_div,parameters)"
   ]
  },
  {
   "cell_type": "code",
   "execution_count": 12,
   "metadata": {},
   "outputs": [
    {
     "data": {
      "text/plain": [
       "GridSearchCV(estimator=<function terminal_div at 0x000001F325BD3790>,\n",
       "             param_grid={'ear': [20, 50, 100], 'g': [0.05, 0.1, 0.2],\n",
       "                         'pays': [0.4, 0.6, 0.8], 're': [0.1, 0.12, 0.2]})"
      ]
     },
     "execution_count": 12,
     "metadata": {},
     "output_type": "execute_result"
    }
   ],
   "source": [
    "clf"
   ]
  },
  {
   "cell_type": "code",
   "execution_count": null,
   "metadata": {},
   "outputs": [],
   "source": []
  }
 ],
 "metadata": {
  "kernelspec": {
   "display_name": "Python 3",
   "language": "python",
   "name": "python3"
  },
  "language_info": {
   "codemirror_mode": {
    "name": "ipython",
    "version": 3
   },
   "file_extension": ".py",
   "mimetype": "text/x-python",
   "name": "python",
   "nbconvert_exporter": "python",
   "pygments_lexer": "ipython3",
   "version": "3.8.5"
  }
 },
 "nbformat": 4,
 "nbformat_minor": 4
}
